{
 "cells": [
  {
   "cell_type": "code",
   "execution_count": 8,
   "id": "7e548e8d-cb63-4291-855a-e784ac8f74c5",
   "metadata": {
    "slideshow": {
     "slide_type": "skip"
    },
    "tags": [
     "remove-cell"
    ]
   },
   "outputs": [
    {
     "data": {
      "text/html": [
       "<!-- RTL Fix the jupyter notebook 7  -->\n",
       "<style>\n",
       "    .jp-RenderedHTMLCommon {\n",
       "        padding-top: 2em !important;\n",
       "  }   \n",
       "    .jp-RenderedHTMLCommon, .jp-RenderedHTMLCommon * {\n",
       "        direction: rtl !important;\n",
       "        text-align:right !important;\n",
       "  }\n",
       "    .jp-MarkdownCell .jp-InputArea-editor {\n",
       "        direction: rtl !important; \n",
       "        text-align:right !important;\n",
       "        padding-top: 2em !important;\n",
       "  } \n",
       "\n",
       " .jp-RenderedHTMLCommon code, .jp-RenderedHTMLCommon code span {\n",
       "        text-align:left !important;\n",
       "        direction: ltr !important;\n",
       "        unicode-bidi: embed !important;\n",
       "\n",
       "    }\n",
       "    .jp-RenderedHTMLCommon pre:has(code) {\n",
       "      direction: ltr !important;\n",
       "      text-align: left!important;\n",
       "    }\n",
       "\n",
       "</style> \n"
      ],
      "text/plain": [
       "<IPython.core.display.HTML object>"
      ]
     },
     "metadata": {},
     "output_type": "display_data"
    }
   ],
   "source": [
    "%%html\n",
    "<!-- RTL Fix the jupyter notebook 7  -->\n",
    "<style>\n",
    "    .jp-RenderedHTMLCommon {\n",
    "        padding-top: 2em !important;\n",
    "  }   \n",
    "    .jp-RenderedHTMLCommon, .jp-RenderedHTMLCommon * {\n",
    "        direction: rtl !important;\n",
    "        text-align:right !important;\n",
    "  }\n",
    "    .jp-MarkdownCell .jp-InputArea-editor {\n",
    "        direction: rtl !important; \n",
    "        text-align:right !important;\n",
    "        padding-top: 2em !important;\n",
    "  } \n",
    "\n",
    " .jp-RenderedHTMLCommon code, .jp-RenderedHTMLCommon code span {\n",
    "        text-align:left !important;\n",
    "        direction: ltr !important;\n",
    "        unicode-bidi: embed !important;\n",
    "\n",
    "    }\n",
    "    .jp-RenderedHTMLCommon pre:has(code) {\n",
    "      direction: ltr !important;\n",
    "      text-align: left!important;\n",
    "    }\n",
    "\n",
    "</style> "
   ]
  },
  {
   "cell_type": "code",
   "execution_count": 12,
   "id": "2f2d03fd-729e-439a-9ab0-de58c598e9ca",
   "metadata": {
    "tags": [
     "remove-cell"
    ]
   },
   "outputs": [
    {
     "data": {
      "text/html": [
       "<script>\n",
       "(function() {\n",
       "  // Create the toggle button\n",
       "  const rtlButton = document.createElement(\"button\");\n",
       "  rtlButton.textContent = \"Toggle LTR\";\n",
       "  rtlButton.id = \"top-rtl-toggle\";\n",
       "  rtlButton.style.marginLeft = \"8px\";\n",
       "  rtlButton.style.padding = \"4px 10px\";\n",
       "  rtlButton.style.fontSize = \"14px\";\n",
       "  rtlButton.style.cursor = \"pointer\";\n",
       "\n",
       "  // State\n",
       "  var rtlActive = false;\n",
       "\n",
       "  // Styling function\n",
       "  var applyStyleToEditor = (editor) => {\n",
       "    if (!editor) return;\n",
       "    var direction = getComputedStyle(editor).getPropertyValue('direction')=='rtl' ? 'ltr' : 'rtl';\n",
       "    var text_align = getComputedStyle(editor).getPropertyValue('text-align')=='right' ? 'left' : 'right';\n",
       "    editor.style.setProperty('direction', direction, 'important');\n",
       "    editor.style.setProperty('text-align', text_align, 'important');\n",
       "  };\n",
       "\n",
       "  // Toggle logic\n",
       "  rtlButton.onclick = () => {\n",
       "    rtlActive = !rtlActive;\n",
       "    rtlButton.textContent = rtlActive ? \"Toggle LTR\" : \"Toggle RTL\";\n",
       "    document.querySelectorAll('.jp-MarkdownCell .jp-InputArea-editor').forEach(applyStyleToEditor);\n",
       "    document.querySelectorAll('.jp-RenderedHTMLCommon code, .jp-RenderedHTMLCommon code span').forEach(applyStyleToEditor);\n",
       "    document.querySelectorAll('jp-RenderedHTMLCommon, .jp-RenderedHTMLCommon *').forEach(applyStyleToEditor);\n",
       "  };\n",
       "\n",
       "  // Watch for focus into editing Markdown cells\n",
       "  // document.addEventListener('focusin', (event) => {\n",
       "  //   const editor = event.target.closest('.jp-MarkdownCell .jp-InputArea-editor');\n",
       "  //    if (editor) applyStyleToEditor(editor);\n",
       "  // });\n",
       "\n",
       "  // Insert into top toolbar if not already present\n",
       "  var insertIntoToolbar = () => {\n",
       "    const toolbar = document.querySelector('.jp-NotebookPanel-toolbar');\n",
       "    if (toolbar && !document.getElementById(\"top-rtl-toggle\")) {\n",
       "      toolbar.appendChild(rtlButton);\n",
       "    } else {\n",
       "      // Try again in a moment if toolbar isn't ready yet\n",
       "      setTimeout(insertIntoToolbar, 300);\n",
       "    }\n",
       "  };\n",
       "\n",
       "  insertIntoToolbar();\n",
       "})();\n",
       "</script>\n"
      ],
      "text/plain": [
       "<IPython.core.display.HTML object>"
      ]
     },
     "metadata": {},
     "output_type": "display_data"
    }
   ],
   "source": [
    "%%html\n",
    "<script>\n",
    "(function() {\n",
    "  // Create the toggle button\n",
    "  const rtlButton = document.createElement(\"button\");\n",
    "  rtlButton.textContent = \"Toggle LTR\";\n",
    "  rtlButton.id = \"top-rtl-toggle\";\n",
    "  rtlButton.style.marginLeft = \"8px\";\n",
    "  rtlButton.style.padding = \"4px 10px\";\n",
    "  rtlButton.style.fontSize = \"14px\";\n",
    "  rtlButton.style.cursor = \"pointer\";\n",
    "\n",
    "  // State\n",
    "  var rtlActive = false;\n",
    "\n",
    "  // Styling function\n",
    "  var applyStyleToEditor = (editor) => {\n",
    "    if (!editor) return;\n",
    "    var direction = getComputedStyle(editor).getPropertyValue('direction')=='rtl' ? 'ltr' : 'rtl';\n",
    "    var text_align = getComputedStyle(editor).getPropertyValue('text-align')=='right' ? 'left' : 'right';\n",
    "    editor.style.setProperty('direction', direction, 'important');\n",
    "    editor.style.setProperty('text-align', text_align, 'important');\n",
    "  };\n",
    "\n",
    "  // Toggle logic\n",
    "  rtlButton.onclick = () => {\n",
    "    rtlActive = !rtlActive;\n",
    "    rtlButton.textContent = rtlActive ? \"Toggle LTR\" : \"Toggle RTL\";\n",
    "    document.querySelectorAll('.jp-MarkdownCell .jp-InputArea-editor').forEach(applyStyleToEditor);\n",
    "    document.querySelectorAll('.jp-RenderedHTMLCommon code, .jp-RenderedHTMLCommon code span').forEach(applyStyleToEditor);\n",
    "    document.querySelectorAll('jp-RenderedHTMLCommon, .jp-RenderedHTMLCommon *').forEach(applyStyleToEditor);\n",
    "  };\n",
    "\n",
    "  // Watch for focus into editing Markdown cells\n",
    "  // document.addEventListener('focusin', (event) => {\n",
    "  //   const editor = event.target.closest('.jp-MarkdownCell .jp-InputArea-editor');\n",
    "  //    if (editor) applyStyleToEditor(editor);\n",
    "  // });\n",
    "\n",
    "  // Insert into top toolbar if not already present\n",
    "  var insertIntoToolbar = () => {\n",
    "    const toolbar = document.querySelector('.jp-NotebookPanel-toolbar');\n",
    "    if (toolbar && !document.getElementById(\"top-rtl-toggle\")) {\n",
    "      toolbar.appendChild(rtlButton);\n",
    "    } else {\n",
    "      // Try again in a moment if toolbar isn't ready yet\n",
    "      setTimeout(insertIntoToolbar, 300);\n",
    "    }\n",
    "  };\n",
    "\n",
    "  insertIntoToolbar();\n",
    "})();\n",
    "</script>"
   ]
  },
  {
   "cell_type": "markdown",
   "id": "45dbdbcd",
   "metadata": {},
   "source": [
    "# שבוע 6 - מבני נתונים וקבצים"
   ]
  },
  {
   "cell_type": "markdown",
   "id": "3868e164-bb8a-4ee7-b996-78c4bfd2a94b",
   "metadata": {
    "slideshow": {
     "slide_type": "fragment"
    }
   },
   "source": [
    "## רשומות ומילונים"
   ]
  },
  {
   "cell_type": "markdown",
   "id": "bd575e88",
   "metadata": {
    "slideshow": {
     "slide_type": "subslide"
    }
   },
   "source": [
    "## רשומה `tuple`: \"רשימה\" בלתי ניתנת לשינוי"
   ]
  },
  {
   "cell_type": "markdown",
   "id": "1843ba3f",
   "metadata": {
    "slideshow": {
     "slide_type": "fragment"
    }
   },
   "source": [
    "- `tuple` היא מבנה נתונים הדומה ל־`list`, אך הוא בלתי־ניתן לשינוי (immutable)."
   ]
  },
  {
   "cell_type": "code",
   "execution_count": null,
   "id": "5965ecda",
   "metadata": {
    "execution": {
     "iopub.execute_input": "2025-03-10T07:47:04.095254Z",
     "iopub.status.busy": "2025-03-10T07:47:04.094819Z",
     "iopub.status.idle": "2025-03-10T07:47:04.098246Z",
     "shell.execute_reply": "2025-03-10T07:47:04.097570Z"
    },
    "slideshow": {
     "slide_type": "fragment"
    }
   },
   "outputs": [],
   "source": [
    "t = (\"don't\", \"worry\", \"be\", \"happy\") # definition"
   ]
  },
  {
   "cell_type": "code",
   "execution_count": null,
   "id": "b606f381",
   "metadata": {
    "execution": {
     "iopub.execute_input": "2025-03-10T07:47:04.101131Z",
     "iopub.status.busy": "2025-03-10T07:47:04.100834Z",
     "iopub.status.idle": "2025-03-10T07:47:04.105291Z",
     "shell.execute_reply": "2025-03-10T07:47:04.104586Z"
    },
    "slideshow": {
     "slide_type": "fragment"
    }
   },
   "outputs": [],
   "source": [
    " t[0] # indexing"
   ]
  },
  {
   "cell_type": "code",
   "execution_count": null,
   "id": "46215ba0",
   "metadata": {
    "execution": {
     "iopub.execute_input": "2025-03-10T07:47:04.108294Z",
     "iopub.status.busy": "2025-03-10T07:47:04.107852Z",
     "iopub.status.idle": "2025-03-10T07:47:04.112222Z",
     "shell.execute_reply": "2025-03-10T07:47:04.111512Z"
    },
    "slideshow": {
     "slide_type": "fragment"
    }
   },
   "outputs": [],
   "source": [
    "t[-1] # backwords indexing"
   ]
  },
  {
   "cell_type": "code",
   "execution_count": null,
   "id": "7cb6660d",
   "metadata": {
    "execution": {
     "iopub.execute_input": "2025-03-10T07:47:04.114975Z",
     "iopub.status.busy": "2025-03-10T07:47:04.114681Z",
     "iopub.status.idle": "2025-03-10T07:47:04.119191Z",
     "shell.execute_reply": "2025-03-10T07:47:04.118489Z"
    },
    "slideshow": {
     "slide_type": "fragment"
    }
   },
   "outputs": [],
   "source": [
    "t[1:3] \t# slicing"
   ]
  },
  {
   "cell_type": "code",
   "execution_count": null,
   "id": "397b37c7",
   "metadata": {
    "execution": {
     "iopub.execute_input": "2025-03-10T07:47:04.122217Z",
     "iopub.status.busy": "2025-03-10T07:47:04.121788Z",
     "iopub.status.idle": "2025-03-10T07:47:04.126550Z",
     "shell.execute_reply": "2025-03-10T07:47:04.125850Z"
    },
    "slideshow": {
     "slide_type": "fragment"
    }
   },
   "outputs": [],
   "source": [
    "my_list = [1, 2, 3]\n",
    "my_tuple = (1, 2, 3)\n",
    "my_tuple[0:2] "
   ]
  },
  {
   "cell_type": "code",
   "execution_count": null,
   "id": "518b65bd",
   "metadata": {
    "execution": {
     "iopub.execute_input": "2025-03-10T07:47:04.129399Z",
     "iopub.status.busy": "2025-03-10T07:47:04.129108Z",
     "iopub.status.idle": "2025-03-10T07:47:04.145859Z",
     "shell.execute_reply": "2025-03-10T07:47:04.145134Z"
    },
    "slideshow": {
     "slide_type": "fragment"
    },
    "tags": [
     "raises-exception"
    ]
   },
   "outputs": [],
   "source": [
    "my_tuple[1] = 10"
   ]
  },
  {
   "cell_type": "markdown",
   "id": "61b1499c",
   "metadata": {
    "slideshow": {
     "slide_type": "fragment"
    }
   },
   "source": [
    "<span style='color:red'> אין אפשרות לקרוא לשום מתודה שראינו בlist שמשנה את הערך המקורי כמו append, remove וכו' </span>"
   ]
  },
  {
   "cell_type": "markdown",
   "id": "6ce08e00",
   "metadata": {
    "slideshow": {
     "slide_type": "subslide"
    }
   },
   "source": [
    "# מילונים: `dict`: \"רשימה\" עם מפתחות במקום אינדקסים"
   ]
  },
  {
   "cell_type": "markdown",
   "id": "5bf2da89",
   "metadata": {
    "slideshow": {
     "slide_type": "fragment"
    }
   },
   "source": [
    "- מבנה נתונים אסוציאטיבי  \n",
    "    - התאמה בין מפתח לערך (Key – Value)  \n",
    "    - גישה לערכים לפי מפתח (ולא לפי מיקום כמו ברשימות)  \n",
    "    - אין הבטחה לסדר של האיברים  \n",
    "    - מהיר מאוד!  \n",
    "  \n",
    "- אינטואיציה - דפי זהב:  \n",
    "    - אם יש לך שם, קל למצוא את מספר הטלפון המתאים  \n",
    "    - אם יש לך מספר טלפון, קשה להתאים לו שם  \n",
    "\n",
    "   \n",
    "- המפתחות צריכים להיות:  \n",
    "    - ייחודיים  \n",
    "    - בלתי ניתנים לשינוי (immutable)\n",
    " \n",
    "תחביר:  \n",
    "```python\n",
    "{key1:val1, key2:val2,…}\n",
    "```\n"
   ]
  },
  {
   "cell_type": "markdown",
   "id": "655b2afe",
   "metadata": {
    "slideshow": {
     "slide_type": "fragment"
    }
   },
   "source": [
    "<img width=600 heigth=200 src=\"data:image/png;base64,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\" />"
   ]
  },
  {
   "cell_type": "markdown",
   "id": "c018d92c",
   "metadata": {
    "slideshow": {
     "slide_type": "subslide"
    }
   },
   "source": [
    "### דוגמא"
   ]
  },
  {
   "cell_type": "code",
   "execution_count": null,
   "id": "a47e7e15",
   "metadata": {
    "execution": {
     "iopub.execute_input": "2025-03-10T07:47:04.149485Z",
     "iopub.status.busy": "2025-03-10T07:47:04.149048Z",
     "iopub.status.idle": "2025-03-10T07:47:04.152973Z",
     "shell.execute_reply": "2025-03-10T07:47:04.152261Z"
    },
    "slideshow": {
     "slide_type": "fragment"
    }
   },
   "outputs": [],
   "source": [
    "phonebook = {'Eric Cartman': '2021', 'Stan March': '5711', 'Kyle Broflovski': '2781'}\n",
    "print(phonebook)"
   ]
  },
  {
   "cell_type": "markdown",
   "id": "62ba7fc7",
   "metadata": {
    "slideshow": {
     "slide_type": "fragment"
    }
   },
   "source": [
    "- הערה: באופן כללי, זוגות המפתח-ערך במילון לא בהכרח יוצגו באותו סדר שבו הוגדרו.  \n",
    "  מילונים לא מבטיחים סדר מסוים של מפתחות.  \n",
    "- החל מ-Python 3.7, הסדר של המילון מובטח להיות לפי סדר ההכנסה,  \n",
    "  אך לא מומלץ להסתמך על כך משום שזה תלוי בגרסה/שפה.\n"
   ]
  },
  {
   "cell_type": "markdown",
   "id": "f73e095a",
   "metadata": {
    "slideshow": {
     "slide_type": "subslide"
    }
   },
   "source": [
    "- גישה לפי מפתח:"
   ]
  },
  {
   "cell_type": "code",
   "execution_count": null,
   "id": "bab80b74",
   "metadata": {
    "execution": {
     "iopub.execute_input": "2025-03-10T07:47:04.155992Z",
     "iopub.status.busy": "2025-03-10T07:47:04.155697Z",
     "iopub.status.idle": "2025-03-10T07:47:04.160245Z",
     "shell.execute_reply": "2025-03-10T07:47:04.159518Z"
    },
    "slideshow": {
     "slide_type": "fragment"
    }
   },
   "outputs": [],
   "source": [
    "phonebook['Eric Cartman']"
   ]
  },
  {
   "cell_type": "markdown",
   "id": "aceaa065",
   "metadata": {
    "slideshow": {
     "slide_type": "fragment"
    }
   },
   "source": [
    "- בדיקה אם מפתח קיים:"
   ]
  },
  {
   "cell_type": "code",
   "execution_count": null,
   "id": "1979c26b",
   "metadata": {
    "execution": {
     "iopub.execute_input": "2025-03-10T07:47:04.163314Z",
     "iopub.status.busy": "2025-03-10T07:47:04.162885Z",
     "iopub.status.idle": "2025-03-10T07:47:04.167223Z",
     "shell.execute_reply": "2025-03-10T07:47:04.166512Z"
    },
    "slideshow": {
     "slide_type": "fragment"
    }
   },
   "outputs": [],
   "source": [
    "'Kenny McCormick' in phonebook"
   ]
  },
  {
   "cell_type": "markdown",
   "id": "ad9168a2",
   "metadata": {
    "slideshow": {
     "slide_type": "subslide"
    }
   },
   "source": [
    "- הוספה:"
   ]
  },
  {
   "cell_type": "code",
   "execution_count": null,
   "id": "4746ebdf",
   "metadata": {
    "execution": {
     "iopub.execute_input": "2025-03-10T07:47:04.170223Z",
     "iopub.status.busy": "2025-03-10T07:47:04.169854Z",
     "iopub.status.idle": "2025-03-10T07:47:04.173716Z",
     "shell.execute_reply": "2025-03-10T07:47:04.172998Z"
    },
    "slideshow": {
     "slide_type": "fragment"
    }
   },
   "outputs": [],
   "source": [
    "phonebook['Kenny McCormick'] = '1234'\n",
    "print(phonebook)"
   ]
  },
  {
   "cell_type": "markdown",
   "id": "875c6513",
   "metadata": {
    "slideshow": {
     "slide_type": "fragment"
    }
   },
   "source": [
    "מה קורה כאשר מוסיפים מפתח שכבר קיים?"
   ]
  },
  {
   "cell_type": "code",
   "execution_count": null,
   "id": "3b04fcff",
   "metadata": {
    "execution": {
     "iopub.execute_input": "2025-03-10T07:47:04.176595Z",
     "iopub.status.busy": "2025-03-10T07:47:04.176304Z",
     "iopub.status.idle": "2025-03-10T07:47:04.180150Z",
     "shell.execute_reply": "2025-03-10T07:47:04.179433Z"
    },
    "slideshow": {
     "slide_type": "fragment"
    }
   },
   "outputs": [],
   "source": [
    "print(phonebook)\n",
    "phonebook['Kenny McCormick'] = '2222'\n",
    "print(phonebook)"
   ]
  },
  {
   "cell_type": "markdown",
   "id": "781f5493",
   "metadata": {
    "slideshow": {
     "slide_type": "fragment"
    }
   },
   "source": [
    "איך נוכל להוסיף עוד כניסה עבור Kenny McCormick בפנקס הטלפונים?"
   ]
  },
  {
   "cell_type": "markdown",
   "id": "d2379ce9",
   "metadata": {
    "slideshow": {
     "slide_type": "subslide"
    }
   },
   "source": [
    "רעיון: להוסיף כתובת למפתח"
   ]
  },
  {
   "cell_type": "code",
   "execution_count": null,
   "id": "933ec67d",
   "metadata": {
    "execution": {
     "iopub.execute_input": "2025-03-10T07:47:04.183117Z",
     "iopub.status.busy": "2025-03-10T07:47:04.182826Z",
     "iopub.status.idle": "2025-03-10T07:47:04.199754Z",
     "shell.execute_reply": "2025-03-10T07:47:04.199034Z"
    },
    "slideshow": {
     "slide_type": "fragment"
    },
    "tags": [
     "raises-exception"
    ]
   },
   "outputs": [],
   "source": [
    "phonebook= {['Kenny McCormick', 'Southpark']: '2222'}"
   ]
  },
  {
   "cell_type": "markdown",
   "id": "b63aa4fc",
   "metadata": {
    "slideshow": {
     "slide_type": "fragment"
    }
   },
   "source": [
    "מה הבעיה?"
   ]
  },
  {
   "cell_type": "markdown",
   "id": "8d0b7a4c",
   "metadata": {
    "slideshow": {
     "slide_type": "fragment"
    }
   },
   "source": [
    "- <span style='color:red'> מפתחות חייבים להיות בלתי ניתנים לשינוי (immutable)! </span>  \n",
    "- מה אפשר לעשות?"
   ]
  },
  {
   "cell_type": "markdown",
   "id": "e8dcb178",
   "metadata": {
    "slideshow": {
     "slide_type": "subslide"
    }
   },
   "source": [
    "תיקון: השתמשו ב־tuples בתור מפתחות!"
   ]
  },
  {
   "cell_type": "code",
   "execution_count": null,
   "id": "d66527fc",
   "metadata": {
    "execution": {
     "iopub.execute_input": "2025-03-10T07:47:04.203056Z",
     "iopub.status.busy": "2025-03-10T07:47:04.202626Z",
     "iopub.status.idle": "2025-03-10T07:47:04.206486Z",
     "shell.execute_reply": "2025-03-10T07:47:04.205771Z"
    },
    "slideshow": {
     "slide_type": "fragment"
    }
   },
   "outputs": [],
   "source": [
    "phonebook= {('Kenny McCormick', 'Southpark'): '2222'}\n",
    "print(phonebook) "
   ]
  },
  {
   "cell_type": "markdown",
   "id": "d6473f5b",
   "metadata": {
    "slideshow": {
     "slide_type": "subslide"
    }
   },
   "source": [
    "### Dictionary methods"
   ]
  },
  {
   "cell_type": "markdown",
   "id": "635d37a1",
   "metadata": {
    "slideshow": {
     "slide_type": "fragment"
    }
   },
   "source": [
    "| פונקציה            | תיאור                                                                 |\n",
    "|---------------------|------------------------------------------------------------------------|\n",
    "| `{} = D`            | יוצר מילון ריק                                                         |\n",
    "| `D[k] = value`      | קובע את הערך של `D[k]`                                                 |\n",
    "| `k in D`            | מחזיר `True` אם `k` הוא מפתח במילון, אחרת `False`                    |\n",
    "| `D[k]`              | מחזיר את הערך של המפתח `k` (יזרוק KeyError אם `k` לא קיים)           |\n",
    "| `D.get(k, [d])`     | מחזיר את `D[k]` אם קיים, אחרת את `d` (ברירת מחדל: `None`)             |\n",
    "| `()D.keys`          | מחזיר תצוגה של כל המפתחות במילון                                     |\n",
    "| `()D.values`        | מחזיר תצוגה של כל הערכים במילון                                      |\n",
    "| `()D.items`         | מחזיר תצוגה של זוגות `(מפתח, ערך)` כ־tuples                          |\n",
    "| `D.pop(k, [d])`     | מסיר את המפתח `k` ומחזיר את ערכו; אם לא נמצא מחזיר `d` או שגיאה       |\n",
    "| `()D.copy`          | יוצר העתק רדוד של המילון (המילון בלבד מועתק, לא האובייקטים שבתוכו)   |\n",
    "| `D.update(other)`   | מוסיף את כל הפריטים מהמילון `other` לתוך `D`                         |\n"
   ]
  },
  {
   "cell_type": "markdown",
   "id": "cfee0b3a",
   "metadata": {
    "slideshow": {
     "slide_type": "fragment"
    }
   },
   "source": [
    "- ארגומנט שמסומן כ־<span style=\"color:red\"><i>[d]</i></span> הוא אופציונלי  \n",
    "    - אם לא מציינים אותו, ייעשה שימוש בערך ברירת המחדל  \n",
    "- מידע נוסף על מתודות של מילון נמצא [כאן](https://docs.python.org/3/library/stdtypes.html#dict)\n"
   ]
  },
  {
   "cell_type": "markdown",
   "id": "b8ab2a19",
   "metadata": {
    "slideshow": {
     "slide_type": "subslide"
    }
   },
   "source": [
    "### תצוגות מילון (Dictionary Views)\n",
    "\n",
    "- המתודות של מילון `keys()`, `values()`, `items()` מחזירות תצוגה איטרבילית דינמית.  \n",
    "- החל מ-Python 3.7, סדר התצוגה של המילון נשמר לפי סדר ההכנסה, אבל לא כדאי להסתמך על כך.  \n",
    "- ניתן לאחזר תצוגה בלולאה, לבדוק שייכות עם `in`, והיא משתנה דינמית כאשר המילון משתנה.  \n",
    "- התצוגה משתנה כאשר המילון משתנה  \n",
    "    - <span style='color:red'>לא לשנות את המילון תוך כדי איטרציה על אחת מהתצוגות שלו</span>\n"
   ]
  },
  {
   "cell_type": "code",
   "execution_count": null,
   "id": "f7215608",
   "metadata": {
    "execution": {
     "iopub.execute_input": "2025-03-10T07:47:04.209582Z",
     "iopub.status.busy": "2025-03-10T07:47:04.209287Z",
     "iopub.status.idle": "2025-03-10T07:47:04.213857Z",
     "shell.execute_reply": "2025-03-10T07:47:04.213146Z"
    },
    "slideshow": {
     "slide_type": "subslide"
    }
   },
   "outputs": [],
   "source": [
    "d={'A':65, 'B':66, 'C':67}\n",
    "print(d)\n",
    "print(d.keys())\n",
    "print(d.values())\n",
    "print(d.items())\n",
    "a=list(d.items())\n"
   ]
  },
  {
   "cell_type": "code",
   "execution_count": null,
   "id": "e147e220",
   "metadata": {
    "execution": {
     "iopub.execute_input": "2025-03-10T07:47:04.216708Z",
     "iopub.status.busy": "2025-03-10T07:47:04.216410Z",
     "iopub.status.idle": "2025-03-10T07:47:04.220552Z",
     "shell.execute_reply": "2025-03-10T07:47:04.219815Z"
    },
    "slideshow": {
     "slide_type": "fragment"
    }
   },
   "outputs": [],
   "source": [
    "a=d.keys()\n",
    "print(a)\n",
    "d['D']=68\n",
    "d['E']=69\n",
    "print(a)\n",
    "print('E' in a)"
   ]
  },
  {
   "cell_type": "markdown",
   "id": "38a5775f",
   "metadata": {
    "slideshow": {
     "slide_type": "subslide"
    }
   },
   "source": [
    "## דוגמה: מונה תדירות תווים\n",
    "\n",
    "- מטרה: לספור את התדירות של כל אות במחרוזת\n"
   ]
  },
  {
   "cell_type": "code",
   "execution_count": null,
   "id": "a2f2bf46",
   "metadata": {
    "execution": {
     "iopub.execute_input": "2025-03-10T07:47:04.223584Z",
     "iopub.status.busy": "2025-03-10T07:47:04.223159Z",
     "iopub.status.idle": "2025-03-10T07:47:04.227385Z",
     "shell.execute_reply": "2025-03-10T07:47:04.226671Z"
    },
    "slideshow": {
     "slide_type": "fragment"
    }
   },
   "outputs": [],
   "source": [
    "def get_char_count(text):\n",
    "    char_count = {}\n",
    "    for char in text:\n",
    "        if not char in char_count:\n",
    "            char_count[char] = 1\n",
    "        else: \n",
    "            char_count[char] += 1\n",
    "    return char_count"
   ]
  },
  {
   "cell_type": "code",
   "execution_count": null,
   "id": "5447739b",
   "metadata": {
    "execution": {
     "iopub.execute_input": "2025-03-10T07:47:04.230291Z",
     "iopub.status.busy": "2025-03-10T07:47:04.229993Z",
     "iopub.status.idle": "2025-03-10T07:47:04.235014Z",
     "shell.execute_reply": "2025-03-10T07:47:04.234327Z"
    },
    "scrolled": true,
    "slideshow": {
     "slide_type": "fragment"
    }
   },
   "outputs": [],
   "source": [
    "text = 'jerry'\n",
    "get_char_count(text)"
   ]
  },
  {
   "cell_type": "code",
   "execution_count": null,
   "id": "19f0ef82",
   "metadata": {
    "execution": {
     "iopub.execute_input": "2025-03-10T07:47:04.237876Z",
     "iopub.status.busy": "2025-03-10T07:47:04.237503Z",
     "iopub.status.idle": "2025-03-10T07:47:04.243094Z",
     "shell.execute_reply": "2025-03-10T07:47:04.242386Z"
    },
    "scrolled": true,
    "slideshow": {
     "slide_type": "subslide"
    }
   },
   "outputs": [],
   "source": [
    "text = 'supercalifragilisticexpialidocious'\n",
    "get_char_count(text)"
   ]
  },
  {
   "cell_type": "markdown",
   "id": "85db1587",
   "metadata": {
    "slideshow": {
     "slide_type": "subslide"
    }
   },
   "source": [
    "### מונה תדירות תווים משופר\n",
    "\n",
    "- שימוש ב-`get()`:\n"
   ]
  },
  {
   "cell_type": "code",
   "execution_count": null,
   "id": "5c1d85f6",
   "metadata": {
    "execution": {
     "iopub.execute_input": "2025-03-10T07:47:04.245969Z",
     "iopub.status.busy": "2025-03-10T07:47:04.245675Z",
     "iopub.status.idle": "2025-03-10T07:47:04.251156Z",
     "shell.execute_reply": "2025-03-10T07:47:04.250448Z"
    },
    "slideshow": {
     "slide_type": "fragment"
    }
   },
   "outputs": [],
   "source": [
    "def get_char_count(text):\n",
    "    char_count={}\n",
    "    for char in text:\n",
    "        char_count[char] = char_count.get(char, 0) + 1\n",
    "    return char_count\n",
    "\n",
    "text = 'jerry'\n",
    "get_char_count(text)"
   ]
  },
  {
   "cell_type": "markdown",
   "id": "f1c85698",
   "metadata": {
    "slideshow": {
     "slide_type": "subslide"
    }
   },
   "source": [
    "### מונה תדירות תווים: הדפסת תוצאה ממוינת"
   ]
  },
  {
   "cell_type": "markdown",
   "id": "4f8e29e2",
   "metadata": {
    "slideshow": {
     "slide_type": "fragment"
    }
   },
   "source": [
    "באיזה סדר נדפיס את התווים?"
   ]
  },
  {
   "cell_type": "markdown",
   "id": "5370072f",
   "metadata": {
    "slideshow": {
     "slide_type": "fragment"
    }
   },
   "source": [
    "**אפשרות ראשונה - לפי סדר אלפביתי**: תחילה את מספר המופעים של a, לאחר מכן את מספר המופעים של b וכו'"
   ]
  },
  {
   "cell_type": "code",
   "execution_count": null,
   "id": "ebc200ec",
   "metadata": {
    "execution": {
     "iopub.execute_input": "2025-03-10T07:47:04.254312Z",
     "iopub.status.busy": "2025-03-10T07:47:04.254015Z",
     "iopub.status.idle": "2025-03-10T07:47:04.258725Z",
     "shell.execute_reply": "2025-03-10T07:47:04.258001Z"
    },
    "slideshow": {
     "slide_type": "fragment"
    }
   },
   "outputs": [],
   "source": [
    "def print_by_keys_order(d):\n",
    "    sorted_chars = sorted(d)\n",
    "    for char in sorted_chars:  \n",
    "        print(char, ':', d[char])\n",
    "\n",
    "text = 'supercalifragilisticexpialidocious'\n",
    "cc = get_char_count(text)\n",
    "print_by_keys_order(cc)"
   ]
  },
  {
   "cell_type": "markdown",
   "id": "fda16e02",
   "metadata": {
    "slideshow": {
     "slide_type": "subslide"
    }
   },
   "source": [
    "- **אפשרות שניה - לפי תדירות:** להתחיל מהאות שמופיעה הכי הרבה פעמים ולסיים בזו שמופיעה הכי מעט\n"
   ]
  },
  {
   "cell_type": "code",
   "execution_count": null,
   "id": "0b78afd0",
   "metadata": {
    "execution": {
     "iopub.execute_input": "2025-03-10T07:47:04.261790Z",
     "iopub.status.busy": "2025-03-10T07:47:04.261418Z",
     "iopub.status.idle": "2025-03-10T07:47:04.266227Z",
     "shell.execute_reply": "2025-03-10T07:47:04.265601Z"
    },
    "slideshow": {
     "slide_type": "fragment"
    }
   },
   "outputs": [],
   "source": [
    "def print_by_keys_order(d):\n",
    "    sorted_chars = sorted(d, key=d.get, reverse=True)\n",
    "    for char in sorted_chars: \n",
    "        print(char, ':', d[char])\n",
    "\n",
    "text = 'supercalifragilisticexpialidocious'\n",
    "cc = get_char_count(text)\n",
    "print_by_keys_order(cc)"
   ]
  },
  {
   "cell_type": "markdown",
   "id": "deefa7a3",
   "metadata": {},
   "source": [
    "----"
   ]
  },
  {
   "cell_type": "markdown",
   "id": "7372a035d2b4449aad83949a953f8823",
   "metadata": {},
   "source": [
    "# רשימות חלק ב'"
   ]
  },
  {
   "cell_type": "markdown",
   "id": "7b878e5d24734e52b536633293aef23b",
   "metadata": {
    "slideshow": {
     "slide_type": "subslide"
    }
   },
   "source": [
    "### יצירת רשימות בשורה אחת: List Comprehension"
   ]
  },
  {
   "cell_type": "markdown",
   "id": "ad825c0003bb4710a9ba7930e2ceb5a2",
   "metadata": {
    "slideshow": {
     "slide_type": "fragment"
    }
   },
   "source": [
    "- דרך פייתונית ליצירת רשימות.\n",
    "- שילוב של רשימות ולולאות for.\n",
    "- תחביר:\n",
    "    - `[expression for item in list]`\n",
    "- אפשר גם לכתוב:\n",
    "    - `[expression for item in list if condition]`\n"
   ]
  },
  {
   "cell_type": "markdown",
   "id": "f8da905bb8524c80a0c66d27a0d3b04d",
   "metadata": {
    "slideshow": {
     "slide_type": "subslide"
    }
   },
   "source": [
    "### יצירת רשימות בשורה אחת: דוגמא"
   ]
  },
  {
   "cell_type": "markdown",
   "id": "98a4f06623344657a2bc4ab35c05faa7",
   "metadata": {
    "slideshow": {
     "slide_type": "fragment"
    }
   },
   "source": [
    "במקום"
   ]
  },
  {
   "cell_type": "code",
   "execution_count": null,
   "id": "8bd4931bc458421080bf8a1bc8048f31",
   "metadata": {
    "execution": {
     "iopub.execute_input": "2025-03-10T07:47:04.269389Z",
     "iopub.status.busy": "2025-03-10T07:47:04.269095Z",
     "iopub.status.idle": "2025-03-10T07:47:04.274159Z",
     "shell.execute_reply": "2025-03-10T07:47:04.273428Z"
    },
    "slideshow": {
     "slide_type": "fragment"
    }
   },
   "outputs": [],
   "source": [
    "my_list = []\n",
    "for i in range(10):\n",
    "    my_list.append(i*i)\n",
    "my_list"
   ]
  },
  {
   "cell_type": "markdown",
   "id": "d41f535e5a404be2a4a77044aad668c3",
   "metadata": {
    "slideshow": {
     "slide_type": "fragment"
    }
   },
   "source": [
    "ניתן לכתוב כך:"
   ]
  },
  {
   "cell_type": "code",
   "execution_count": null,
   "id": "58c9fcc61828496aa9d4fb5f02d62d57",
   "metadata": {
    "execution": {
     "iopub.execute_input": "2025-03-10T07:47:04.277190Z",
     "iopub.status.busy": "2025-03-10T07:47:04.276895Z",
     "iopub.status.idle": "2025-03-10T07:47:04.281684Z",
     "shell.execute_reply": "2025-03-10T07:47:04.280966Z"
    },
    "slideshow": {
     "slide_type": "fragment"
    }
   },
   "outputs": [],
   "source": [
    "[i**2 for i in range(10)]"
   ]
  },
  {
   "cell_type": "markdown",
   "id": "cd19073068534ebbaaec2aba207b5f05",
   "metadata": {
    "slideshow": {
     "slide_type": "subslide"
    }
   },
   "source": [
    "### דוגמאות נוספות"
   ]
  },
  {
   "cell_type": "code",
   "execution_count": null,
   "id": "937e52ac3a2e47c3beb0209722dc512a",
   "metadata": {
    "execution": {
     "iopub.execute_input": "2025-03-10T07:47:04.284818Z",
     "iopub.status.busy": "2025-03-10T07:47:04.284334Z",
     "iopub.status.idle": "2025-03-10T07:47:04.287947Z",
     "shell.execute_reply": "2025-03-10T07:47:04.287232Z"
    },
    "slideshow": {
     "slide_type": "fragment"
    }
   },
   "outputs": [],
   "source": [
    "l = ['The', 'quick', 'brown', 'fox', 'jumps', 'over', 'the', 'lazy', 'dog']"
   ]
  },
  {
   "cell_type": "code",
   "execution_count": null,
   "id": "3c91597ce39842bfaf114a41a1109a31",
   "metadata": {
    "execution": {
     "iopub.execute_input": "2025-03-10T07:47:04.290736Z",
     "iopub.status.busy": "2025-03-10T07:47:04.290440Z",
     "iopub.status.idle": "2025-03-10T07:47:04.295196Z",
     "shell.execute_reply": "2025-03-10T07:47:04.294482Z"
    },
    "slideshow": {
     "slide_type": "fragment"
    }
   },
   "outputs": [],
   "source": [
    "[word.upper() for word in l]"
   ]
  },
  {
   "cell_type": "code",
   "execution_count": null,
   "id": "96288551b0aa4a7190785857f773dd7d",
   "metadata": {
    "execution": {
     "iopub.execute_input": "2025-03-10T07:47:04.298124Z",
     "iopub.status.busy": "2025-03-10T07:47:04.297837Z",
     "iopub.status.idle": "2025-03-10T07:47:04.302569Z",
     "shell.execute_reply": "2025-03-10T07:47:04.301870Z"
    },
    "slideshow": {
     "slide_type": "fragment"
    }
   },
   "outputs": [],
   "source": [
    "[word for word in l if len(word) < 4]"
   ]
  },
  {
   "cell_type": "code",
   "execution_count": null,
   "id": "f53b56414906426faafcc67b0cbfd9d0",
   "metadata": {},
   "outputs": [],
   "source": [
    "[i ** 2 if i % 3 == 0 else i ** 3 for i in range(2, 13) if i % 6 != 0]"
   ]
  },
  {
   "cell_type": "markdown",
   "id": "f842394b",
   "metadata": {},
   "source": [
    "----"
   ]
  },
  {
   "cell_type": "code",
   "execution_count": null,
   "id": "6497de8a4bd94ec4a263fc106a01a58a",
   "metadata": {
    "execution": {
     "iopub.execute_input": "2025-03-10T07:47:50.850590Z",
     "iopub.status.busy": "2025-03-10T07:47:50.850261Z",
     "iopub.status.idle": "2025-03-10T07:47:50.867220Z",
     "shell.execute_reply": "2025-03-10T07:47:50.866344Z"
    },
    "slideshow": {
     "slide_type": "skip"
    },
    "tags": [
     "remove-cell"
    ]
   },
   "outputs": [],
   "source": [
    "%%html\n",
    "<style>\n",
    "table {display: inline-block}\n",
    "td {text-align:left}\n",
    ".consoleMachineFont {color:blue;font-family:Courier}\n",
    ".consoleUserFont {font-family:Courier}\n",
    "</style>"
   ]
  },
  {
   "cell_type": "markdown",
   "id": "6fbf5a7c77d748afa96780a644003d81",
   "metadata": {},
   "source": [
    "## קבצים"
   ]
  },
  {
   "cell_type": "markdown",
   "id": "b9f631981f3b4fada2971246616f9095",
   "metadata": {
    "slideshow": {
     "slide_type": "slide"
    }
   },
   "source": [
    "## פורמט מחרוזות"
   ]
  },
  {
   "cell_type": "markdown",
   "id": "0efde44066ff43cda55b2250f0c3562d",
   "metadata": {
    "slideshow": {
     "slide_type": "subslide"
    }
   },
   "source": [
    "### עריכת מחרוזות לפני פורמט: String Formatting\n",
    "השתמשו ב- `()str.format` או בתחביר `f\"\"`/`f''` כדי להגדיר רפורמט של מחרוזת"
   ]
  },
  {
   "cell_type": "code",
   "execution_count": null,
   "id": "406f168f497f46e892d6a22d4edd19c3",
   "metadata": {
    "execution": {
     "iopub.execute_input": "2025-03-10T07:47:50.871003Z",
     "iopub.status.busy": "2025-03-10T07:47:50.870624Z",
     "iopub.status.idle": "2025-03-10T07:47:50.875525Z",
     "shell.execute_reply": "2025-03-10T07:47:50.874758Z"
    },
    "slideshow": {
     "slide_type": "fragment"
    }
   },
   "outputs": [],
   "source": [
    "name = 'rick'\n",
    "pi = 3.14159265359\n",
    "\n",
    "# print(\"My name is {0} and I like {1}\".format(name, pi))\n",
    "# print(\"My name is {} and I like {}\".format(name, pi))\n",
    "print(f\"My name is {name} and I like {pi}\")"
   ]
  },
  {
   "cell_type": "markdown",
   "id": "85e80e0bab2446f08cace3114a950439",
   "metadata": {
    "slideshow": {
     "slide_type": "subslide"
    }
   },
   "source": [
    "### בהדפסות, לרוב נרצה להציג את המספרים בצורה קריאה יותר"
   ]
  },
  {
   "cell_type": "markdown",
   "id": "039bd79ceefc41e09a4e318c96c4990c",
   "metadata": {
    "slideshow": {
     "slide_type": "fragment"
    }
   },
   "source": [
    "- עיגול מספרים עם הרבה ספרות אחרי הנקודה העשרונית\n",
    "- תצוגה מספרית שונה  \n",
    "    לדוגמה, מדעי: 1.3e-7 במקום 0.000000137\n"
   ]
  },
  {
   "cell_type": "markdown",
   "id": "fdd8aa2fab17404a9d6fb8f97ce181db",
   "metadata": {
    "slideshow": {
     "slide_type": "fragment"
    }
   },
   "source": [
    "<code><span style='color:red'>:</span><span style='color:blue'>.d</span><span style='color:green'>S</span></code> - עיגול מספרים ותצוגת מספרים (`int`/`float`)  \n",
    "- <code><span style='color:red'>:</span></code> מציין היכן מתחילה עריכת התצוגה  \n",
    "- <code><span style='color:blue'>.d</span></code> רמת הדיוק — כמה ספרות אחרי הנקודה העשרונית  \n",
    "- <code><span style='color:green'>S</span></code> סגנון מספרי (נקודה עשרונית, אחוזים, מדעי וכו')\n"
   ]
  },
  {
   "cell_type": "code",
   "execution_count": null,
   "id": "411de9dc909143e6a49c1f69e5a7d70e",
   "metadata": {
    "execution": {
     "iopub.execute_input": "2025-03-10T07:47:50.878716Z",
     "iopub.status.busy": "2025-03-10T07:47:50.878383Z",
     "iopub.status.idle": "2025-03-10T07:47:50.882584Z",
     "shell.execute_reply": "2025-03-10T07:47:50.881848Z"
    },
    "slideshow": {
     "slide_type": "fragment"
    }
   },
   "outputs": [],
   "source": [
    "# print(\"My name is {0} and I like {1:.2f}\".format(name, pi))\n",
    "# print(\"My name is {} and I like {:.2e}\".format(name, pi))\n",
    "print(f\"My name is {name} and I like {0.00137:.1e}\")"
   ]
  },
  {
   "cell_type": "markdown",
   "id": "06cdf8dee1e04acfbf5be1fdee332b93",
   "metadata": {
    "slideshow": {
     "slide_type": "fragment"
    }
   },
   "source": [
    "מידע נוסף: https://docs.python.org/3/library/string.html#format-examples\n"
   ]
  },
  {
   "cell_type": "markdown",
   "id": "0a3ff64838cb477f8de238af54b7c76e",
   "metadata": {},
   "source": [
    "----"
   ]
  },
  {
   "cell_type": "code",
   "execution_count": null,
   "id": "4ff273f922ba4d89956637119f7cce38",
   "metadata": {
    "execution": {
     "iopub.execute_input": "2025-03-10T07:47:50.850590Z",
     "iopub.status.busy": "2025-03-10T07:47:50.850261Z",
     "iopub.status.idle": "2025-03-10T07:47:50.867220Z",
     "shell.execute_reply": "2025-03-10T07:47:50.866344Z"
    },
    "slideshow": {
     "slide_type": "skip"
    },
    "tags": [
     "remove-cell"
    ]
   },
   "outputs": [],
   "source": [
    "%%html\n",
    "<style>\n",
    "table {display: inline-block}\n",
    "td {text-align:left}\n",
    ".consoleMachineFont {color:blue;font-family:Courier}\n",
    ".consoleUserFont {font-family:Courier}\n",
    "</style>"
   ]
  },
  {
   "cell_type": "markdown",
   "id": "da8972349e5b432c87fd4145ac94f08e",
   "metadata": {
    "slideshow": {
     "slide_type": "slide"
    }
   },
   "source": [
    "## קריאה וכתיבה מקבצים"
   ]
  },
  {
   "cell_type": "markdown",
   "id": "7fbb6de0b1dd41a097bad98cb09ea859",
   "metadata": {
    "slideshow": {
     "slide_type": "subslide"
    }
   },
   "source": [
    "## קבצים ותיקיות"
   ]
  },
  {
   "cell_type": "markdown",
   "id": "6f7e60b070f1491cac0277e581a4cf33",
   "metadata": {
    "slideshow": {
     "slide_type": "fragment"
    }
   },
   "source": [
    "- **קובץ במחשב** הוא משאב לאחסון מידע — \"מסמך\" דיגיטלי"
   ]
  },
  {
   "cell_type": "markdown",
   "id": "af1a9415d41947e9b2f5b7555569cca7",
   "metadata": {
    "slideshow": {
     "slide_type": "fragment"
    }
   },
   "source": [
    "- קבצים מאורגנים ב**תיקיות** (directories)"
   ]
  },
  {
   "cell_type": "markdown",
   "id": "4b83b628c70e4930b20b2a65f11fb8af",
   "metadata": {
    "slideshow": {
     "slide_type": "fragment"
    }
   },
   "source": [
    "- לכל קובץ יש כתובת (path) במערכת הקבצים של המחשב  \n",
    "   - לדוגמה: `C:\\Desktop\\lecture_4\f\n",
    "\n",
    "\n",
    "ile.txt`"
   ]
  },
  {
   "cell_type": "markdown",
   "id": "f3a6e463ac844658b907ed8eaebe639e",
   "metadata": {
    "slideshow": {
     "slide_type": "fragment"
    }
   },
   "source": [
    "- הסיומת של הקובץ (extension) מסמלת את סוג התוכן (txt, exe, mp3, avi, jpg)  \n",
    "   - קבצי טקסט מורכבים מרצף תווים  \n",
    "   - קבצים בינאריים מכילים רצף בתים (bytes) שיכולים לייצג כל מידע שהוא (לא בהכרח טקסט)"
   ]
  },
  {
   "cell_type": "markdown",
   "id": "81784b8cfce3417ab8be9069299aa96a",
   "metadata": {
    "slideshow": {
     "slide_type": "subslide"
    }
   },
   "source": [
    "## מבנה היררכי של מערכת הקבצים"
   ]
  },
  {
   "cell_type": "markdown",
   "id": "b17c2a26843a45a29b2f4484409252d0",
   "metadata": {
    "slideshow": {
     "slide_type": "fragment"
    }
   },
   "source": [
    "<img widht=600 height=600 src='data:image/png;base64,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' />"
   ]
  },
  {
   "cell_type": "markdown",
   "id": "3138a34b0e9b484982a69b6e05e77c47",
   "metadata": {
    "slideshow": {
     "slide_type": "fragment"
    }
   },
   "source": [
    "על מנת לגשות לקובץ `income.txt` מהקוד בבקובץ `analyze_data/py` ניתן להשתמש בנתיבים הבאים:"
   ]
  },
  {
   "cell_type": "markdown",
   "id": "8565959dbbd84e03b72c19c72e308ffb",
   "metadata": {
    "slideshow": {
     "slide_type": "fragment"
    }
   },
   "source": [
    "**נתיב מלא (Absolute path)**: \n",
    "- `C:\\Data\\2024\\income.txt`"
   ]
  },
  {
   "cell_type": "markdown",
   "id": "1ef1ebe50de842bdb19070b05d57e5e2",
   "metadata": {
    "slideshow": {
     "slide_type": "fragment"
    }
   },
   "source": [
    "**נתיב יחסי (Relative path):**\n",
    "- `..\\Data\\2024\\income.txt`"
   ]
  },
  {
   "cell_type": "markdown",
   "id": "9bcbd643867246c082d59274f86577e3",
   "metadata": {
    "slideshow": {
     "slide_type": "subslide"
    }
   },
   "source": [
    "## Text files\n",
    "\n",
    "<img widht=600 height=600 src='data:image/png;base64,iVBORw0KGgoAAAANSUhEUgAAAPkAAAC/CAYAAAA8TnrhAAAAAXNSR0IArs4c6QAAAIRlWElmTU0AKgAAAAgABQESAAMAAAABAAEAAAEaAAUAAAABAAAASgEbAAUAAAABAAAAUgEoAAMAAAABAAIAAIdpAAQAAAABAAAAWgAAAAAAAABIAAAAAQAAAEgAAAABAAOgAQADAAAAAQABAACgAgAEAAAAAQAAAPmgAwAEAAAAAQAAAL8AAAAAnccMjQAAAAlwSFlzAAALEwAACxMBAJqcGAAAObJJREFUeAHtfQdgXMW19tmiLqtZcq+YZnovBoJjYmqABAjtUQOEACYBU0IJNZTwJxgIBNuYR2+GmG4gVBOHUGyeTSdg3LutrtVK2+7/fbN7V1fLFq2rtD7HXt25c2fOzHx3zpwz9boskICW1wVl4aqAHHDJfHEXu8TlKhWXWLgKfvhTUCCugjwRN4JHwuIqzBdpj4gwuttNFoasMC4WwisRCGAIbFwd+GzJsFimcoQAAfFgHWFl2XLdLvFGYQAKdFgW5Im44L+7FWKWD9kKB8UdypOINyiusEcsdyR6D+ysYMDElHxgGIE8Qu4Cqxrkg0l9ZVgfrwzoU2CeuyjkXy7yy66XL5dIJE/yhg2S8iK35ON5HuKVFOGKtAoKRTzIA+urBz93TI5D9IsmhSodlfnYrV6AgGkkFQmDAOuHUhQB6sYIZMcLOTeCE7u0t8EB+cqnDm2P1p9ojI6/xLE9iPgxL8qfD/HIrwmNQ8NXK0VamuXzyQNl5xHF4lq6pt0acsZ8iRTliat3JVL1iBuaWgryoaDdEGa0N/lFEo69IQo4M8hrEMEo7Lyn8vYyt0goZLcAHflSlyIgFpV4rB4pHEAAMmSMPFtLEh7IlOULidsbAl5hCYfwMIiAuHdFPLi6IW/Q4BA4A2UEoHryxGqFH61syKsFubWam8VV1yxLnt1WvEtgokeaGkXKa8RqwRVRw25IPyTYcnkklO+RQHsAmXEjvkeCSd5SJIxMhRAu9uZcYZphSh0IaM02WDgqcwc23cdltGuWr4pFcvRWjcKLZMmDIuWGYowKbwS34MquMFV1mH8QwIgUrjTpDX/+wY+CT7M9AtUeM/XhEJe/VazvVsuSRTXw3X6m5RpYArs8Xyza51TRXiTi6SUu3Jpc58GmgC3APoRF+x9q3UU7HYlYLlyDyFiYdgcIAq/kRCD2Mpxe6u5+CIRdss9WIj/fpxgigDpOijVKsUvUy3FDg/XzhUF58t+wlRkFPIZWW3LG6GIphHKMRoizid7jL7twhtAauMCkpTUi90xvluZ2PIBc9Sqw5NQx5VJTyT41+ISppSGMvMYjkwMZgQf67fl5bpny9A+yeAlaAxcEPkgZbRHrh0UU8hcsqewnnt7FEi5ABxzmgLjYEfdCyO3ckGGMmAibPF7aWYFBvLDFYal5tW1783BL/wNwiNeWTqxK3RWHkCUH7ZAn953bW56eYYmv1ZIAdFUbBIUVvQ0yQ91HDd0awMAXyuKHQPubg3La6IDMWhyRKW+3ydC+Hnl2fJW88qHb9JH9beADWQghbACyR9GCBS5tEGRCgWSlscmSHQY0yt47FcrFD/uNLE36dYEcu/YpkVVLJdwM6zoUgKy1issLszwU1dgWBN6CQnWF2yTU1i4+JOAf/7QcfcNqWYQxNtj26Kgjbv1ClGAAhHzIIHEVQ0tXQaN7vFKUH4q2RGgdLDRRbhf6B+wDuAolFPRLS6RU4rY5e/vEwn6BLIWSIpAMATN6nOzBZvbzRaRh2hD546MB2WFIVEDrIHytGPhqh5UahJCymgcgX6zmrVBuPr8lq1tCsnTh9/LlwyOl/xmr5c6LqsTfUiiVFA80ErXgwQGxtoAlQdyzkQiCB3VgO/xawKMODcrq1SvlmuNdcvvrxRgLs2TBeXOlfs6XULKFEvE1SaS1WSIN9RBctpSQw9aW6DXgl4gf2hrC3NjYIAutAvn4xA/k5glzkElkIvwDWpFFsL8ZD1JqFSABiyZBoYzfY4HsXfqslNRsJYFIlQTWzpX8PrtKQdleMu3ViTJx0YUiRRWMGCVbu1PYdbrIRqXjypphcO7w2jJdtGm7IeHdtEOt1jdDDpBFvi4KqRFKCDj1FoeZgghDtxFYUww+szADRdPcbYzYukZLKsogiPBpgUJthiAHYBFwNJyNBA3dAPjwnoGYhpdmggvqFN3kcBsSbkXLwExgANyCEEca6kxY9r2t2HiX1eaTcEsT/MHQjfQRPK+oWDjLLV4IeFEzBLwMfM1EHZ4yBC+CBJCLQGWNlI6+WvLy8mRFW0D8/gMkv6hEljR7ZP6g80S+WwsmlYjDSECIzRzJ3Eed3f2vaZdakO9iAhzLLc0ztNKuXhzB3IAlMC1wen7MgoUKgWYXb8vOUPo4Pe5pF3DYLGWC/U3EWzD9tHKtBc0L4UQ/uS0IUx31oQVmNwWbgu+DuU5i/WAcTEZFicoNP2rtVRCPZgj4RUfnSS+sOWHY+I+hGReRn5oRkCffA1MIOE15I/Hse0OYw7UrYZ7D3X+oVJ15uay+8nRY2yViQXtT8MO1q6TvX6eKf+Z0aZn+eJQpeRtCAswd+xUg2OIQVg87+EwZTM0ouiXfwjz/qj0kC1Dw5ZEi+aZBZC1G/Cq3K5XyAtgxJMMjxjDqI8UFLqkqRY7p3UVigRmHI4zJqCs8uxLGyduCiWZNHyQ7DY7lFe/utjPKxXptkFj1KHS0cM4o5sWky2enwFneWKhI8x6slptOhkWVq2MaLBc7ot3tB5OcROH2QTj5a4eA+1HNaVJTefrgbm6LcFxMWvHMjDs73zHK5IJaZkPQAkXcBDO8spdL+la4pF+lS/pXoWfc2yUD+auOukuL0A34kZzAAy2CBbs+EmiTgspq8Vb0ln53T5VISz1M8yazCKbqohulYNtdpGTMsbhHgqa+xpihW80pNi6kIS+2H2iAMNDGQLRV8CJGlLfKKpj9a3zo+7e48fPIctzPqw1Jq+TLNsPQMHCkj3HYgtFcICufJY+Mq5LZf4KZsGhptAvBwTm0ikZDIpRp0owf/DkCCBZFGOBb+1A/qa7/GuxMlhgySk0ReQR9HZsn5vAw6kEgcCVCAFPqw53DxKJ25fKPiwukTwFb06jJZuJ8/DTuYfcwHf6ASdJ8stI6wpi48DLlhdCavDEMyfjTD1igtY8TneSBRmdE3wLJWzAbGYGplYvkAcicueluP1hOfL+teC/shwcgwRTWMN8d/DnwFoSbr8oXiAq4Leh4HCUzI8VBuigPanRq+WkzQzLt3yGZ+n5QnnovKI+9E5CH3grKPz7AoBmUmg8NRpwHOTEjGFCLYDGL5fNJyxvPSdOLj2AVai+pueZeI+Dlp1wkpYedJK3vvygrztpX3FiNGq1gZEB7HZn3lUMkwQv8ODeG52iq8jHoZmwGN+x6DuO75ZsVYWkJu6UFzZgbOQ5ilC9UP0j6DPhavKv7okHG3Dn6ExbNdbRk40/qJb/aFwmi9bjsou3lzql+ufPCMjn7kCJ5+J02uWxik1RUe+TW80rk2H0L5bZn2uT+6fVS+0Q/U9DFz+8vhaeh8chjAwIC2/GnFsmv9ovy/O2520v/yogctlupjL6pUWpKPfLOjaWysFZk7I4oCtIdj3QnvIo3BRMoPUWfeyIBeerCPPnZVX7gERtngMm024gieQoNFhudU+9qkDlftkvti3068nlqQHbfLiJP/L4cbZxHTplQL3PnB9Fau+WT2ytlSb1bepdacv7kBnnv85D0q3LLrAd6YyWTSya/3ig3TsWLdIWlEEV797Zy4MgXhSLwJRubPTYlaXz1z0ZFAPWG0kxhbmXjjHfAKm1rWbxerDeBHwSXbyeExsqDh1wMZjxM5rCYDIqOjQMbbV7zEG7yawEzMg+jONqAgPHqiFu27SVy5ljGiREddpXlNDSWvlkhNAQYUfe99YKEViyRqguuk34TnhNvv8HSOuNFqZ9wqXgqqjFVxj486o8ZDyMTCHoZTRIoWxrrkl8hFisYNaiFh1jwEoHw9i9eK6v8bgzxt0oIow0BjBR4fc1SUvetDCvdSgrbl6Hg+R2ZxLzghKf9smBNWBYtaZQ7z7pZJvzaI+cf4pVDTnpBzjkwIn85vV3OHJMnFx5aKAePnSh7Vf4gpe4WGTwOI4egbfaZKEVfPBlbQ4tSA9gJz7TGeU767Z/khin10r/IJ9cfEZF/3VQi33y9Qg7d5U5ZuLzVpDvh7D9hWgFmB7WG/WOLxp99b1+R5gOPzJXVTWGZeqPPTHMwH6Vlbnn56hK5ZcrHcv010+SFcW6pqg7J4IswAAJiPgctelr+eVOVTJ76vVx71XPyzrVFUt0rKHloHAdWeeT4I/8iDzw2V5493y3VxQFZ2eCSbY55T/Y76D657oRy+e0oTG+0hmX6Vb2lZfkK2X+3mw3v6B/k1SCr102CA4SabWsLzHF7gCz+MqLyDxmBuY4BtnC5W9qptUE+vGuGjzYGMT90aTlyjvVjRmg5puZB3aNWpxyGwKMG68PbMBZEPeRD9zYScUUH4rgfhIo22C5hmOVxocfa1/YvZ0nza08bAQ+vXSlr77oS0ETTZDjjaoK24zpZ+nthnXNlHDQlOIIg2OaBB6ERiMtetuvtlyoIi6upXjzN/NVJe71f2lsapLACld6FpbBoMVxuMkUfIIwS5BVClqKAyVZj5NiDqzGGEJJRew+UkopiTPBXy7/emIvWMizn/Hof+cNzKCRW5pSwcKBSLMj3H3QBkEAzyvEB/vIKOnjuOEakulrGTnDJVf9TI55gi5x05uMiBx6LzTNYpceSIoxVVN0RH4v7bzull9x2erWUl6P5ZCtn88ZdJcYCTr0b7UrxCLnyUKQL6oW+0mAE/eS5mfIfz4EydHCZVC+dKSXF6C+DmE/X2N9KDXAc6l0tBxz7U6kqL5TeP7yNNxoNU17ikSeW7iLVfSuk17x35OxDS+TDJw6Q66/8ieExKLIYLzMoY3byyEcffCey05HG33RnsEwRa4n1tykxQJ3nXDbNbAptI7pPPshIK4TYB4vLh2thTLi5zsWPRWEhaNw2dnEpZVR46LaG0Bf2Ix5H4Y2BjzrJIFYhpArKJR/i0lLoicoy+IVhRTdBsxshpWXgpvbFeBH645wH5yaUCEbRy44/R3odeYr4Zzwvnup+0u+OZ2D1gTErPXjktzUiDYyqU6Q9kEfIpTsPdRFhojah6VfDyWYHK9fYS/BgHWzfsnZZMQ/9Q+Q4ApMm0F4gVb2qxIt17RUFTbKE2XHngUkES2Exioh1tmbHGvw5GR8GWn5/SN6c9m/Z4YUPxYPFy996dpKh42rlr2PcMu/xHWWHy+rQ/QVqIBpDLrRyFis5QMXqWuHSXCdPooSl9AaUwQPKpK3vLhiBHI57AE1Cui4iGZuTteB8/qNmKZx5r8gSCPHY8TBvOBURDW4sNQj6eY+H5c3xXtkNww02K4aIVNSYgK5ajDHEGiPm043dQABM3p65WFYsnSsP3oaR2QUrpGIUhJOE7Lhio+T+2jXy0LmF8te/zZQr7mmSs07eBaYfagLVgwmLwKUDom7+dSHT/CltOgQgKwFMl3EO3I/fk1cVmT46XgRFTorRzTp1Eka9YYA1QV44tJKHOsYxOyOgRnlA8GGOU5PTWCRxML6YegWv2OhDNAJuVDouIg3AjSYFi2Pw3HQvUbG9qBcc74KQR/zol8Nsr778L1Kwwx7S+tE70vTon6V97r+l4pIJ0v+Rj2TZUQMxtY2uNhewYdTdSDTqqcuPdFC92GBBYiD1LkhTuB2VsgyVH76gfAjbbmVh+a6yWPLLimXEMIyqF7fLg1e/LC+9VCaRskHiHoj+OAQ7zMpKaUFhltRhAKkUJawskSte9MvjJ3vk5+f+Uq47b7jc8IxPdvHlybG7RuTG6dVy5qloHf/9qLQddqlJs3dlIdh45aLDRK4+yiWDzscot7egg2cJ8oosf3KdW6758ww5+vCdZM5TP5HdL2tDGG80XYSxjIBEy8FVgbNXoa898gr84IcVQxYH1WIvwWh/oL+mpUCueDYkb12NcTwMIH68ROSUU/eS0j3d8p85a6SuLU/yuU4YxHz+nw8C/l1QfnH41lI7ZD85YtuQjL4DLYeZx3RLYXGBXH6ER776cqm0Rbzy6AeYQSjPl9MvPcDwqOkDU6G8QB57PyCHHorxi0W0Mviy8YeNlJnwNF658yf2SrpdgWKKpLkpJC2VXjMuWF3OFxGrJLErTW7oLAg2/CHMvgDeEzaPsP/O9+VCAF9zO4e9sPszOnXGKbQ8rwV5guLknDvCtlcUSbkXmhrhWtqxfRTC3sZNKIVQH+1eCaEPEGptlLziUik77tdGwIOL50nd3/4IP5juc2dK81MTpNep42XQywtl1S8Got5BVso52AamkG6rBA2OhTplNDkrpRsDVdDORr1BM0cgJK0Q3KqqfBmzQ72sWrlMWmZ7ZQkq/uLmvuLd6xRsSAFfZBj5MxXThYn7MPr1Jz9kyc0H+uTkg9zyzL9Ezqirl2NG+OWhyR/I/949S/IOOU32HeyVG7adJQcfs0iWeIdg3g+DEA/45IrfHSgfTPhQ5u68v0x5fJa4Zs8S68gLwTNseB63N0AdEZRJT86TiQ9/IY8v3VGuPaRRdi/+Tk564CD502iku59XnmkMxEYcUeA4EXoQrRUQLCR56F/tMus/32FefHc0hG55+78FcuETAZhgXjlpYliu2mc7kQUz5JSbvpe64QeJGybcmQ/4TT5/gXyeMXFXGbfXIBmw9EO5ZtL34q8dLJUH/dTwv/jCAyWweJb88o9zpXnET+Ssx0Ny60+Hi/urz+X0myqlrHGt5IV7ya+nVsrtGJi8dedPZNKjVTLrox/EVYL8cI9AjlEEI8kdgtONCmd2b0FeMXhMkz2ClvaVj0NmbhxyaYTRi75zEwbUaKr7EI66kAJrHCwK1SYEKgShCLL7i+fPYWT94qPyMIlEISHfMASPz8A7nCdPz4a1iwQC6NIaa5VjYwVkCi0cwgYTXwNG0F8Rd2Gx1E2+RfIqSmEB+pGUW+ofvkMsdGdCn8+UCLrJFoXRJprrEcg0uqrMh0uGfGa5tu2LJa1oiaB9LEyn7eF+TvxtdVh9Y0mDu7+0uvpKO81JMHMVYONKHsyDGFNsaWf+0XfAHwICplYz+vL+BnFV9YMxgsqKfj0tBXdhEVqYSmOCSHMtTHOPuMrRfwZAEXZiUPG9MHFD5X2xKbYWK2xhKZQiPBsTLOUjT6uyP1BuRBS0lMUYNGz1RQHpVY3GAut7Y+ka0O1Cp7hGMDzqalolrkqkx5cEiuCFeFrrJFJahV156KrAZDJTFOimmOeOfIaRT05ziL8J7xddjbLeMrTGK/P/5JJtd/mLfL/beTDN0LjA38Tlbj5fHfpOaGGxPNiNBUaSXwyzDK0c8g1AYNbhhVf0iefHRMyVP6gb3ZEigL9+kksqj6mTEYMLpKIE1imkmFYVRYdCH0T/uQ11g6oCS9ZhTUfQFUWdnfeN1P9zZ6m8pFDuPtslDz7VaLRzORZU0RinbETFFmIARRKC5csq1EStDjs9gCm5CAbS/nZaSO7+bGvUP3Rjd7tF5k/5mwTLaqS8BAtg0Dd3Ybk5GweuY0dbAnMA9acN8+Z41tQSoBEt88qHy+wLvpFr78egHaW7cSmmsmfD9jXA2+ijoqLEn3lPFDdMbhfqNRslcYeNFRDljntGYqcDQHjQl+BAHS1g5oHAuMowAMAfyOij3tFKznsW2lWMlqYYJoaD3CxEHzYKsThVvaNZwz0LZfNkfMmPCpzhZdLhKTYIk9eRLoNlIpNmYUI+EMkqw9QZrq4yCCN/DnLm04TpBUHlL0a0EEh8we4adBO4JiAGr5vWUkF0uhDb/qIBGa4IeBT1i93n8IWAdUfCO1u0KiRb9WmWurW1MJXR2LIiOyiISsgflQAFNcjVkRhhKyrFBpGYFNc2RmRw7xb56Ot2CbaGzIpRBwtTDfywlMnZgnDzUKaIPyLe9rVS3qsGu0bBG/VlracGOgD9a0hPLWa0wuiykrwhdAU8+VKAdRRm0K0VrRM0IEXxK59bem0/RAKsfyYBxsBNpMl003mHB0gUowTG0gj5sWsOgosCsVJzTS01tItmDci4IY5gj1aOPDEwh/3khjk6KDhuxoTbEv8sWgPcfvYNJgW2QXMPBDDywT6XUjdGAArqpAdEJmLNw6w5y9Hnpvn84/yy4faFizCADFOY8oH7kcNHyGkPIizk8P4Zlvz9hEoZO3IJNqdQyKGyEwhj7+LHClIXzelYIuVF5fKdv58sq0V4NB73WqfLGee3iLt2ieQzjC1PHD+DJo/fm/hGAGVrX6t8e9Bf5J4psD4p6HbS5vFgmOsjYXYWoTkqxFM2CzQbMYhgwYT1oG8Y5UV/PMfF4pwAp6FoR+M+2mJA0CHxZiySNs0WTGZBC0DjOIXBKmrPbMGIxIrO7Y/dldAY9y2zZHhfzBVxSLqLtBYrMhfUQhSigmH2gu84iGtNusDAyAum6XCqy39XYi0Kxs54Xhs2lMrIAZi1gnI14hVjZbM0ShRjaRamu82gPKwBjhHMWxowe9ONUKLuSf1ymChvgweEHDYGRsPBqXEVErHZ4mp2ppE1hRqamuP+bCGQuCGY8eZkiuid0VrG3rbv9aoI2AiwyrSjvtg11fbfUq/EowAy5cSEfsSHCoKnvcBtceSPxAYSStZMtUGyLTYQsKyjzyGfXGIXxxYOL7qZYWj1hW9H++T5JViri3+/OSYPYWNMDWeYFE6yzQann7oVga4i4KxaXY2Ty+GMQKcqoC3csedxAU4InwTTfEzZPfBCnngC2I4KmfVS9RdjDXgA00aTx+VjmiCBid4qAopAj0KgrAhC/goOXxWuacfAnsl9rJWgxue+2c1JHNWMHQW/ObOhaSsCPRYBI8O0us2wf3QcLmVh8vPzpLS0JP6jAPJ+9uy50tKC+eF1oGQ8bTY8pGLqsy+aNJhWSUlxlwWeDYMzr8XFmJNnQTcAFZjjqZPYRSl4O8PTnW1ZUrDt5M2yOfHhXnymlUh8T59++pnJQ+Izvc9hBCA/5ohm1BP02JMTz1x/6JGnZYedDpQddj5QBg/bTZqammXUgUfJP998T9ZiPjFbSsZz+YqVcTZFmC++8qqb5Z57p0h9fYMcfuRJ0qs0Ot8eD5TCQQHfZbfRMnLHA0x+xx72K0xxd57jThE1rTfzfM/fpsiy5R35TBfBGd52E7f9Rh2xQfJjp83yOvFh/phPpukkvqfnpr38I39nGHXnKAJmFZ7ZT568gNQ+33z9nbz04mMyfNgQBMJ2OHzS4c03npVrr7vdjABSm7RyQh7ESpdJc/6YJwYXsQosgrl18vFguZ4XU3eX/O43huecuV9i5R3W+CIdxk1HPEZ39Zq1aBzmi68Jp2cgTnNLC1YlYaE/+iX52CVEK4LpMA0vph9audIMyp4a0Yd5xnx8tiIPMwjOcpWXl8nSZculoQF74bE2OJOFwHwuWbrMbM2NupdLHZb2vonN/y1YHffj/LSCZzHyFb0SD+ahK+Wd+9lXWBUYXbjBrcBMl0LejBWHJOYVjExZmW6I6/ZRXvpn4p8Oa33WAxDgi46Z69E+eYo80/x77LFnpTe+rBLAKXTjLjpHavqNlCsuvwhCkydT/vcJ+fjjTxHbJccfd5T84pgjcFgd17emJptnVVWF7LnnrrLfvnvJvfc9KO++N1OKioqkFMv4LrviBhl34TnGcjj+V2fL/ff9P+wwja5yS80Zyw1Rue+5a6K0oWHo1atU9tl7d7n19ruNYA0fPkTuuP06Y5Gc/5sz5IbrLpehw/eQIw4/RMaOPVimT39LttlmK7nmqktMw3LpeGwGQMPwqxOOwbr/Mrn62ltk2NDB8sCkO+MNW7K8sIHYb9895Y0335Vfn3WKCTJwYH/pO2AH+eKz9+X2P9+D/LXLIPj96aarkJ/dIXhB6Y0lg5bVJGecfo5cPO5c2Wr40GTsO/nRFP/7/Q+Z8tbW1puG9lWU47l/vIxwluyLfPz8yLEm/9tsv5+M+ekBJu9jfnqQeZfBDO+qU2J607MQoFLEWnm26mmFPAwNu/XWw6Vfvz44kSZsNEJFBXaqYaa/EKb1NdfeKjvvNNJohXPOu0ROPeV4CTRgL14aivPs20dqqntDsAsgiHdBky4x8+y9q7eRYgg7NVJFRbm88+6LUremFnlFy5SBqAF32ml7o5WprR586Em56YYrTRnGX369rFy5Bv3WArny8oulpqba8H/t9dehycsRZ5n89vxLZNWq1dK/fz/54otvzPPLrrhezjz9JLn/3juMkNuWS6qs0Co564yTpaR8mPzq+KNNMKbFRu0f/3hFPvxotinf8y9Ml4vQkFVWVsik+++Sac89JIcdeozBM9HkTpWWs7wrV+K87cVL0UBeL32QHjX1Sy+/YRopYlcAK+bll55EP41jHYNNQ61CngrZ3PJPK+Q8EYbalhqMVOgc2IHMVUDDff7FTGlpbIa29MOkTS/g5BHCkTZ7gefQGE/KLgfcQjBTjSA7rHLex/0ZOQNRgA/+yf44g7oZpr9H/jHtFZMerRASK34hzlsaMmQAGirsEjYNR7tJPxzgmgCXlKNh2Xbkfp0aHcalQGSyUhiOFEQZaUnYpnc0HaxsAkYvvRDt/gQxBMpuAi2b+QsWy88O+Qmw/Fp23XUnc0hGlFP6v87yLly0RH6Yv9BYXJ9/9i98767FaPjFEHxDwDWIPezEgHgrbTkIpBXyACoFtXacUEGoyUyFx7Of/exguWvC/RANl/znw1ny6MP3mb5lPHwKx9RnX4Im7W0q5Lnn/I+MBZ97//6g6QKw8tv86X8nzO+TT/yFMUVTsIt6m7xxXWC0laBg7bvPHvLa6+/AWsCaXxAFj31fEwbBbDevrPwsL7/7duQRPzPlYpeEgr3vvlE+7DL8z6knmHCGYYo/jY1NsBoWgifHKRokiDOy2eenGf/SS2+Y/Hz++ddy1R9+J+/DUrn9jr8Zy8J2jxgx3GCQgn3UO7G8eE8030868Vi5C5hxVxy7IPfcdaspE8ckJj/wGBqgoMFbtXhadHPqocs1cK5VvneNoCpK+2Nt5rxolpCVfuHCJTDVa4yJSz9qx09m/Z/0hald3bvKaKH3ZvyboeXnR401DQDDpSLyXLp0OTTOIgSBloalMGr/veN8OBhWXlYmvSFMNv+33n5ffgLtXGhOpEzFOZq3jz/5PyPYYXNwAywPaO2ZMz+CBm2TrUcMk2HDBsNc/tSEISeGP2DU3vLBf2YZAfzhh4UoG8ubLywX88MR+gMO2EdmzPjAaP5Ro/Yx1kHqnESfECs7P3ZatDLIx87P4MEDzHgBuxHMG8cSbLet/VOl4+TP8nJQlCb7yJHbyavT30Q0S346+kBjTZDvvhjdf/LxiRjnaDL+fBdKuYkAF8Pk/3wAtmtjvGz5XMhyCiHPzeJvmaUqw3bZgUN2kaWLPouPvG+ZSGwZpU4U8s6TqlsGBltcKdl9WLH0SzNbscUVXgucejGMYpM7CNA056Comui5806zKUmngTcOoGlXLRv4NKwi0A0RSBhucQi5Jct9lVLfggl0JUVAEeixCFTiq0cceLUpLuRcHjltxmdy/Og9sadcBd0GSK+KwOZEgF2sTDMtzvwVYEHYtBmzcGjEfnHvuJBT8otw3vfQfjwiRkkRUAQ2NwIRHOHk9zdi0VTHQagdeaKmtu3yqDuMk1t5FHMhVjc6ySHkTm91KwKKQHdAwI3TXf04uTWIzxNTiCn41Oy8krhoM4wvrhTgqLaKCnyElAc9JlBaISez7jwia+fPviaUTW8VgZxAIIAPKhTgpNYwv7OE5dghfOOLOpz6m3slLCsfC6m48xAfhzDLszsXO+08OQV82LBhRtDpTvytXbtWfv/733fmiLv58+fLJZdc8iP/VB7rEp7pMj+VlZXduiFKVWb1VwS6ggCFmVqbWpw/CjiJG72otSM4PtrCVmo3GgAKfBBfRLWNeBMQf9IKOTXkwoULjXlAd1UVviqCq/1rbEw+97rVVlvJ3XffbaeR8ZpteDK0d2rV19fHWjO2a52J+UxG2fon42H7peJlP9erIrC+CLCO2eY56z3r/JIli5KyTVYf0wo5NaWT2FI4ic/79esnJ5xwAnar7SlPPfWUebxixQqZPHlyPCj9+dwZJv4QjmzDO+MybRaceTnllFOwAeQlk84vf/nLThrezkOiv5MXefB5Yj4nTZpkgo0cOVK23357s06cYPLHOIn+Tp7qVgTWFwHKHb8qzG+gLV+xHHsUVpgNT0txSAj3MNiCzavdGDjTTCvkzoDJ3Ezg6quvlgkTJuAcsU9l1qxZxlTnttNvv/3WRKEpTn8+d4Zx8ss2vDPuO++8E7995plnZO7cuSYd5snuMvzwww/xPDj94xFjDoZ3loXxSCtXrjTC/M0335hysWGjcPPH7oLt379/f+MXY6cXRWADIRBVJqtWrZLGhgYMshVgIxW+T4hNSfPnLzBKjsLN+piM0g68JYvg9OPup2uuuQb7s3k8VHJi62K3NAxx1113JQ8Y8802vJNZb3xz7YYbbjBe5GMXetttt0V/JtqXGT58uNlP/f333+MkmG3i0XnP8HxOYj5pIbAVpXnEn5Mnw5x77rmybNkyOg3V1eFb6+DhLK/9TK+KwLohgG8SQYC5NbiurhY7KwuF3Vv2z7k1ml1m7k0oKEgtyqmfdDFH0T3ZqQMPHDjQCMt+++1nKv+ll14qJ598csoI2YZ3MrIF2elHNwX1oIMOMoJOIfzoo4/kggsu6BSMVkkilfN7zyAKOwW4ogIfMHQQNfeoUaPMGW305tZUntempAhsaAR4Gu/QoUONgqLAc7CtT58aU994ulKQX1xJQest5Cn4xr3Z8tAEtolCvs8++5jWyPZzXrMN74ybyk3hnDlzZqrH6+zfgoMin3/++ZRlWWfGGlERSECAiopKxLYSeU/iMWf2yHtClPjtevXJ41zSOHw4ofTrr7+Oh2Am7YzGPR2ObMM7oqZ0UtsuWhQdjWTaZ511lixfjo/BOagEB0iak3DwnMTwjJeOdtllF3n77bfjQd577z058sgj4/fqUATWFwF2s2l9hsNBM2XGaTNOk9GEj7oDRsjdOH7ZFfsgaWKaWWnyBnT6nUTzmEJpE922yWz7M4MTJ06UOXPmmGDU4jTJneTkk214Z56cbifP6dOny7hx48ygXC+c9ML8DBiAkzMcxIGMK664wghpc3Oz7Lbbbjg+aboJ4SwXPex0zj77bHnzzTdxPNS+puE688wz5bXXXjNulkNJEVhfBJqaaqWq90DUKXtmq6Ne2VWMisvrzYdi+loG9BuEJTE4FNVB8ZNhmr0hufeU+XLBcaMdjzs7aSKwf+okJmBX6HRuPiMxrB0+HZ+uhnfmyekm78T82DwTy+DMh20GOfPp5MOwienYcdLxdaahbkWgKwhQW/ua62T1Wp77vxKaG4thcEZfIrF+Fhf3wlTuPsINKpNf+UQuvG9PkbWzzfFPWWnyZJXYKbDp3M5niZnkvfM53c77dOGdeXK614Un4yTySOSTLEyyOAynpAisLwJhCPqAPkNk4ICtTN3kyjbWN5cxz6nVOzQ717C7rB9/zDArIV/fDGt8RUARyB4BfgEIHz7AycmYTvNgUYz5NnnHV3b45aEoJV/haT/NPmWNoQgoApsUgeQinDkLGTU5V5RxRRrtfn7GiG6a0uwfHHXUUbJgwQLhYhMnce6c/jvuuKPTO6U72/DMw5IlS0y6//znP+Wwww5LyVsfKAJbOgIZNTlXenG3Gc/uHjt2rBFy3q9Zs8asOb/nnnt+hKFzZPtHD5N4ZBueq8zsdLlIZUMQlww+8sgjG4KV8lAEuhUCGTU5N4DYxEUlJ554on1r1qkn++QOp6k4VdZVyjY8Bx74BVISN6VsCOI64M8//3xDsFIeikC3QiCjJk+XW5rt1KpjxoyRnXfeWS677DKzoITrwH/zm9+YqFxgQn8+54/7wClQTso2vDOucxSe7htvvNGkM3r0aHy8cFU86O9+9zvjf/DBB3fytwMccMAB8vjjj8tee+0Vb0DYRVm8eHG8LAzLcn333XcmWiaeNm+9KgKbE4H1EnJmnH3jd999F18B/cIshKFQcB04V5CReE9znM/544IRCr6Tsg3vjOtcT04+Z5xxhkmHW0tvuukmE5TWx4UXXmj8Z8yYYfzZ3bCJwsydclwJN3v2bNMVePrpp83Yw1VXXYXvlNWY7gnjsFwcg8jE0+atV0VgcyOwXkJO4dh///3jZaAmTZwzdmpaBtxjjz3w4cFe8TiJjmzDO+OTL3fokDiGwC15JC495T5wEvlzAJGr2myiHwf/OJhI4kDexx9/bNxc9cbGg4N9zjhvvfVWJ55My/ncRNY/ikA3QCBjn3x98zhixAjZfffdzcEKFKYjjjhCbr/99rhJnMg/2/CJ8ZPdc/Bw1113jS+5ZUP0hz/8IVnQuB9PwWE452o2DjgqKQI9DYH10uRdLSxNdB6swI0qNN1pwqejbMOn48Vn1MSfffaZfPnll+Z38803mynBVPGYRxJ3/dhEq4VbT7nzjMR9vIlkx0v013tFYHMisNGFnCfDcOOHkxJNcuezbMM746ZycyzAzsPSpUuN+c4NKYnExoDEwySo/Z2j7RRybqyZMmWKCfPVV1914klT33kIhQmkfxSBboBAh6rqQma428pJ3Ps9PHaSCv3ppp/t5pV95B122EG2224748+BLJrkTnLyyTa8M09Ot5Mnz2Cz88CN99w5lkg87OHll1+WqVOnmsFElqUM30p3Enem2dQVnnZYvSoCmxOBLu9CoyajBravmzPTdtp2XngldTV/djybT+I12XPbz752JU5iGL1XBLJBgLvQmhrXSJ4HX0TB+BDrt9uDDSq4urBRxbaI7bXrDO/Gkc2T1nUXms3QvmaT2Y0V1s6LfWU6TneqdDOFSfbc9rOvibxT+SeG03tFYFMjsNH75Ju6QJqeIqAIdEYgrZDTNO3OZOfPvnbnvGreFIHNhUBaIacJykEyTiXxV1paGnfzGTeHJJtv5gg5l7J2lbINzx1uTJd54Gq0DW0q2/y7mn8NpwhsCgQ6jofILrW0Qk4NyQ8MRI+dCZkVZLabzzjNlLgOnclzhPzOO+/sck6yDc+07aWxXGpqL1jpcoJJAvLgRvuYZvJPVq4k0dRLEdhkCKyrXZ1WyBM1ZKIw2ZqUGzWOO+44efXVV02BKXicirKJ/nzuDGM/4zXb8M64/OqJvZT28ssvN+vomc5FF13kDGbylszfDsQ171z+yj3ynE6jhZCsXFynf/HFF8cbBMbnKr7DDz/cNIZsIEi8skGkP5/bfsahfxSBTYmAa+Bcq+IXyyzPCYus+6e9h7qZmrAZpNNDfAyRNdrCSjIL67YtCJwFU9eC9rew28yE5T39+Zw/CJ8F87wTn3UJT54kZ56Yl2uvvdakg4UsFubkTRgcv2xhg4rxx8q3uL95GPuDzytZ0ORWU1OTBa2etFzO8jIcCYtqLDR+xo2lsOaa7J7hlBSBbBDAeepWfd0Kq6VxrdXSXGf5Wuotv7/Zam9rsQKBNgtHM5tfJBJEHQxaoVCbFQn6rPuff8+SMU2W7PKuJdUTrKwWwyQ2PlzGyc8kOU+AsbW9bQUwDApm+vOMf9999yWyMffZhk/GhJ9JuuWWW8wj7hbjJhXS4MGD45tPeFb6o48+KomfSeLmFm4y4ZWWRapyOf3PO+88+e9//xsfE6itrTVulpfl4ZVEN8MxvL1izjzQP4rAJkBgvYSc+cv0mSQuH2Ul59ZMVnqeVZ7uAwTZhndilGrtOP1PP/10049nXrjijVtP01Gqcjn9+/TpYw6tsHfV8SAL7nAj8Vz30047zXzDivc8q52r7pQUgXVFYF0H3tZbyDNlmCPy3HXGrZpcG84PErKyDxs2LGnUbMMnZZLgyeWp1N72phIK44b4ZhnLdOutt3Yqy8MPP2xS5zOmCbPe3HPcwG4MErKnt4pAlxCgXbgugp524K1LKWcIxFFqmrH8xC+Fjdo8lcYlq2zDZ0jePOa6ee4eYx7444AaD7tIJHsAL9E/1f2gQYOEG15svpxS5MkyJHYLMB4Rf8bDKm677bZUrNRfEdhoCGSlye3PA9m5Yf/bab7SbffJbX8KLfvJthalOc6fk5x8sg3vzJPT7eTJAyA4PUatyvl+jsgnfm6ZjQ81LwXz3nvvzVgu5n/8+PHywAMPxL/SyqlAfh+daVOo2X/nGgASj8j64x//aNz6RxHYlAh0eYMKM0Uhch63xMrMwS3b9KVg27vQnP40XW2hZ1i732oXNJFPNuGdeXK6U/Fkl8FZBmceOO9PYecAHvOQqVx2XPswCcZjn98m8qIVQ6qurra99aoIdAmBTb5BhblKFA6at7Yg8HkqN4U6UbAZ3qZEPtmEd+bJ6V4XnhRSm1KVxelvh00lwBT4VM/suHpVBDY2Ahu9T76xC6D8FQFFID0CKuTp8dGnikCPRyDjwBvPZgsGg6avyg8p0E0zlCPkHEHmwpF+/fp1AoLrytlPTfwGeKdAjpt1Cc+RbKbLY5ici3EcbLN2siwcdeeJskqKQK4gkFGTv/HGGzJt2jR5/fXXjTC99tpr5p5r07FcVG688cYfYeHz+Tqdj/ajAAke2YbnQZB2ujyyaUMQB9045/3ss89uCHbKQxHY4Ah0DOlmxzqjJr/00kvjHO+44w65+uqr4/ecHrJH0+OecHDemBszukrZhuegmj2Qx/xwFJvkHNnmPf0T/ZL5MxytCS6S+fOf/5ySH+M6yeZvX53P1K0IbGgENttiGE418Vx17tq68sorjRk/b948Of/8800ZadbTn8/5406xxMUw2YZ3gkeBpyDbP2pjpsNz1u3tqAzP/e30ZxfD6c9njMt587///e9mhoD3DMOwjOPcG89yMb92PDt9LpN9//33Tfy//vWv5rn+UQS6AwIZzfV0maQwcOvlp59+avrmFAwuJnFOX/Ge/uzv8sdtl/bCGJt3tuHteLzyLHQn0YJgOlyfzpVtJG4NPf74443/nDlzjD/Nc5uoiflNt3Hjxpn5fPb3GZdhyYtxyYPEKTTm1yY7fV75VVSuB2BDpqQIdBcEOmrrOuSIwnH00UfHKz2F3ikAyVgecsghwq+TdJWyCU+zf8899zSs2c+357SfeOIJGTVqlPG3F8NQkG1ivrkaztbwXFTDuPY57IzLjyGmI1o0XJevpAh0NwTWS8hZGAp6Otp6662FPy404cIQmu5cjZaKsg3v5JMqLxRaLqXlrjH+HnzwwXif3hk/nZsNQTri83TlShdXnykCGxOB9RbyrmSOZjCXd3JajdrSXs+dKm624VPxsf059cfPGK9evdr8XnrppfjHEO0wzmsyYU31MUNb2zvjq1sR6E4IbHQhZ5/8+uuv73KZsw3fFcYcELOn3NjQ0PRO12Xg4ZU0v+016Yw7c+ZMk5RzTfuECRPia9O7kg8NowhsDgSyEvJhw4Z1yiN3dDnXe9Ntn+xq+w/H54ZoptvbMblTiya5k5x8sg3vzJPT7eTJzytTqJkHfpZ48uTJP5pac4an6T1p0iQTlnEY1/5EM/15Dpztv/fee5ui2GV3lkvdikB3QKDLu9DY32Xlt6/dIfN2Xuy+eFfzZ8dLV4ZUYZL5J/NLx1ufKQJdQWBD7UJLq8lZeUnOSkxB6i5k54VXpztT/uyw6cKlCpPMP5lfOt76TBHYlAikFXJWXg4saSXelK9E01IENiwCaYWcSSV+vnfDJq/cFAFFYGMjkFHIN3YGlL8ioAhsXARUyDcuvspdEdjsCKiQb/ZXoBlQBDYuAirkGxdf5a4IbHYEVMg3+yvQDCgCGxcBFfKNi69yVwQ2GALrukJFhXyDvQJlpAhsXATS7/dMnbYKeWps9IkikBMIqJDnxGvUQigCqRFQIU+NjT5RBHICgYxCbm9SyYnSaiEUgS0QgYxCzlNalBQBRaDnIpBRyPnZYSVFQBHouQhkFPKeWzTNuSKgCBABFXKtB4pAD0FAF8P0kBel2VQE1hUBXQyzrshpPEWghyCgmryHvCjNpiKwrgioJl9X5DSeIpDjCOjAW46/YC2eIqBCrnVAEchxBFTIc/wFa/FyBwEdeMudd6klUQSSIqADb0lhUU9FIHcQUE2eO+9SS6IIJEVANXlSWNRTEVAEdOBN64AikOMIqJDn+AvW4ikCKuRaBxSBHEdAhTzHX7AWL3cQ0NH13HmXWhJFICkCOrqeFBb1VAQUATXXtQ4oAjmOgAp5jr9gLZ4ioEKudUARyHEEVMhz/AVr8XIHAR1dz513qSVRBJIioKPrSWFRT0VAEVBzXeuAIpDjCKiQ5/gL1uIpAirkWgcUgRxHQIU8x1+wFk8RUCHXOqAI5DgCKuQ5/oK1eIqACrnWAUUgxxFQIc/xF6zFyx0EdMVb7rxLLYkikBQBXfGWFBb1VAQUATXXtQ4oAjmOgAp5jr9gLZ4ioEKudUARyHEEVMhz/AVr8XIHAR1dz513qSVRBDYoAqrJNyicykwR2HgI6BTaxsNWOSsCPRoB1eQ9+vVp5hWBzAiokGfGSEMoAj0aARXyHv36NPOKQGYEVMgzY6QhFIEejYAKeY9+fZp5RSAzAirkmTHSEIpAt0BAF8N0i9egmVAENh4COk++8bBVzopAt0BANXm3eA2aCUVg4yGgmnzjYaucFYEejYAOvPXo16eZVwQyI6BCnhkjDaEI9GgEVMh79OvTzCsCmRFQIc+MkYZQBHo0AirkPfr1aeYVgcwIqJBnxkhDKAI9GgEV8h79+jTzikBmBFTIM2OkIRSBHo2ACnmPfn2aeUUgMwIq5Jkx0hCKQI9GQIW8R78+zbwikBkBFfLMGGkIRaBbILCuu9C83SL3mglFQBFIioDL5RK3xyP4I264XW43rtDN+PFZlDquyXaqqZAnhVY9FYHugUBefqHkF5ZKoN0v4UhErHBILEhyJBKOZzASCUkRwnjzCuHfHve3HWqu20joVRHohgi4oLFbfY3Q2pZYEOwIhRw/3Jj7MNzhcFjq6lci95YEgirk3fA1apYUgdQI0BCnIFvU4lDhMNgFLonAzZ8FYY9a7XRbEgyokKdGU58oAt0UAcsKS4jaG8IdhlCTKNA00yngRvhdHiPwbBDsHroJiD9qrttI6FUR6KYIQJ6NIK9es9qY5hR2CrgHA3ILFy4yVzvr9E8kFfJERPReEehmCFA7B4NBWbNmjXz77TcSCARMDr//fp7xr62ti+eYDUIiqZAnIqL3ikC3Q8ASrzdPhg/fClevLFiwQJYtW24EvE+fGqmqquw02p6YfRXyRET0XhHoVgi4jKnOfnl+foFss822EgqFxOfzydChQ6S0tBT3QeQ4iQqPlUPnybvVC9XMKALJEYhgdJ3TaKTttttOGhoapLCw0DQAfJbMTLc5qZDbSOhVEeiOCGCoPIz5cY+R4g5tXVlZEZ1ai3mFw9TmyUmFPDku6qsIdBsEykoqpKG51syRd85UVMK5+q24uEzcXPKKXyKpkCcioveKQDdCoL5upVRW9Zea6sHGNE/V9/Z4vDJ//ueyzdY7oXe+qFMJOgl5x4L3TmH0RhFQBDYDAm5sSuk/YKi0tjRIS2szhDwSmyf/cWby8jgot6d5EN+3EgtmhJzCTZO/rb1V7n/+PSyXwyaXWAAaBMZte8T89aIIKAKbBoGuip4lC4ysBoI+ZIxmezSmyzXoM6t061Ip3q5CVi9HaxEokzzsbAuGsXwOwp/ndmE+Du5wASJF+wCbpmiaiiKgCKwbAhDwtsUia78TqZsvXitSK211ayU4xyPeUBjCDQEHZ7v1sN1WxPZZt2Q1liKgCGxCBEJtEGS/SdArwQUSXN4Awe4sxE6d7XRvwmxqUoqAIrC+CKAf//8BE8dfntzW9L0AAAAASUVORK5CYII=' />"
   ]
  },
  {
   "cell_type": "markdown",
   "id": "93879815a1834583ab3fd3609b5d3026",
   "metadata": {
    "slideshow": {
     "slide_type": "fragment"
    }
   },
   "source": [
    "- קבצי טקסט מורכבים מ**שורות**"
   ]
  },
  {
   "cell_type": "markdown",
   "id": "673ae974d42c4eb6a0feaae65d620115",
   "metadata": {
    "slideshow": {
     "slide_type": "fragment"
    }
   },
   "source": [
    "- כל שורה היא מחרוזת, כלומר **רצף תווים**"
   ]
  },
  {
   "cell_type": "markdown",
   "id": "f7dd17a569df48f28be92cbc799d68b5",
   "metadata": {
    "slideshow": {
     "slide_type": "fragment"
    }
   },
   "source": [
    "- התו האחרון בכל שורה הוא התו המיוחד (escape character) ירידת שורה (`\\n`).\n",
    "    - תזכורת: רצף תוים (בד\"כ 2) המתחילים בקו אלכסוני הפוך -`\\` - נקראים גם **escape characters**, והם נועדו לסמן תווים שלא ניתן להקיש במקלדת באופן פשוט\n",
    "    - בד\"כ לא נראה תווים הללו זה בעורכי טקסט סטנדרטיים, אלא את התווים שהם אמורים לייצ.\n",
    "    - לדוגמא, במקום `\\n` נראה ירידת שורה\n"
   ]
  },
  {
   "cell_type": "markdown",
   "id": "c1de1fcb4ac6477e82e7cd9e676e12af",
   "metadata": {
    "slideshow": {
     "slide_type": "subslide"
    }
   },
   "source": [
    "## פתיחת חיבור לקובץ"
   ]
  },
  {
   "cell_type": "markdown",
   "id": "188c7e6d604c4c0383756503cc5dd45e",
   "metadata": {
    "slideshow": {
     "slide_type": "fragment"
    }
   },
   "source": [
    "- הפונקציה `()open` מחזירה אובייקט קובץ"
   ]
  },
  {
   "cell_type": "markdown",
   "id": "3e4f273036f74469a7c7be639e9bfee0",
   "metadata": {
    "slideshow": {
     "slide_type": "fragment"
    }
   },
   "source": [
    "- לרוב משתמשים בה עם שני ארגומנטים:\n",
    "```python\n",
    "open(filename, mode)\n",
    "```\n",
    "   - `filename`: כתובת של הקובץ (path)\n",
    "   - `mode`:\n",
    "      * `'r'` - קריאה\n",
    "      * `'w'` - כתיבה (מוחק נתונים קודמים)\n",
    "      * `'a'` - הוספה (לסוף הקובץ הקיים)"
   ]
  },
  {
   "cell_type": "markdown",
   "id": "642b86bdfa0443aa91d1ebf3a2b08210",
   "metadata": {
    "slideshow": {
     "slide_type": "subslide"
    }
   },
   "source": [
    "## קריאת קובץ שלם"
   ]
  },
  {
   "cell_type": "code",
   "execution_count": null,
   "id": "9fc2c1b91cc840729c1c17f988a778d8",
   "metadata": {
    "execution": {
     "iopub.execute_input": "2025-03-10T07:47:50.886563Z",
     "iopub.status.busy": "2025-03-10T07:47:50.886233Z",
     "iopub.status.idle": "2025-03-10T07:47:50.891497Z",
     "shell.execute_reply": "2025-03-10T07:47:50.890691Z"
    },
    "slideshow": {
     "slide_type": "skip"
    }
   },
   "outputs": [],
   "source": [
    "with open('test_file.txt', 'w') as f:\n",
    "    f.write('This is a file')"
   ]
  },
  {
   "cell_type": "code",
   "execution_count": null,
   "id": "47ad0691294a4d998f4c3698178d9254",
   "metadata": {
    "execution": {
     "iopub.execute_input": "2025-03-10T07:47:50.894848Z",
     "iopub.status.busy": "2025-03-10T07:47:50.894230Z",
     "iopub.status.idle": "2025-03-10T07:47:50.899856Z",
     "shell.execute_reply": "2025-03-10T07:47:50.899027Z"
    },
    "slideshow": {
     "slide_type": "fragment"
    }
   },
   "outputs": [],
   "source": [
    "f = open('test_file.txt', 'r') # returns a file object\n",
    "s = f.read() # reads the entire file\n",
    "print(s)\n",
    "f.close() # releases the file lock, frees resources"
   ]
  },
  {
   "cell_type": "markdown",
   "id": "0142091264b74a9eacea892ab219e143",
   "metadata": {
    "slideshow": {
     "slide_type": "fragment"
    }
   },
   "source": [
    "אם הקובץ נמצא בתיקייה אחרת – השתמשו בכתובת מלאה. לדוגמה:  \n",
    "\n",
    "```python\n",
    "f = open('C:\\Users\\Desktop\\test_file.txt', 'r')\n",
    "```"
   ]
  },
  {
   "cell_type": "markdown",
   "id": "54ef363ef3944dbca814c271256c5534",
   "metadata": {
    "slideshow": {
     "slide_type": "fragment"
    }
   },
   "source": [
    "#### <span style=\"color:red\">שימו לב לתו המיוחד `\\t`</span>\n"
   ]
  },
  {
   "cell_type": "code",
   "execution_count": null,
   "id": "fcb53a1fbfea4817aa4361c3fa4be1d3",
   "metadata": {
    "execution": {
     "iopub.execute_input": "2025-03-10T07:47:50.903057Z",
     "iopub.status.busy": "2025-03-10T07:47:50.902709Z",
     "iopub.status.idle": "2025-03-10T07:47:50.907168Z",
     "shell.execute_reply": "2025-03-10T07:47:50.906380Z"
    },
    "slideshow": {
     "slide_type": "skip"
    }
   },
   "outputs": [],
   "source": [
    "f = open('test_file.txt', 'r') # running this instead of full path as it does not support Unix systems"
   ]
  },
  {
   "cell_type": "markdown",
   "id": "65d9c4305f1f45028cd9613960b7ceb6",
   "metadata": {
    "slideshow": {
     "slide_type": "subslide"
    }
   },
   "source": [
    "## המנעו משימוש בקו אלכסוני הפוך (`\\`) בשם הקובץ"
   ]
  },
  {
   "cell_type": "markdown",
   "id": "584e51b406d4473c8821cd4c89900d3f",
   "metadata": {
    "slideshow": {
     "slide_type": "fragment"
    }
   },
   "source": [
    "מכיוון בקו אכלסוני הפוך נועד כדי לייצג תווים מיוחדים (escape characters), יש להמנע משימוש נאיבי בתו כזה בשם הקובץ. שימוש כזה יגרום ליצירת נתיב קובץ לא צפוי. לדוגמא:"
   ]
  },
  {
   "cell_type": "code",
   "execution_count": 5,
   "id": "c62281618b474e579a6d6057bed74bd7",
   "metadata": {
    "slideshow": {
     "slide_type": "fragment"
    },
    "tags": [
     "raises-exception"
    ]
   },
   "outputs": [
    {
     "ename": "SyntaxError",
     "evalue": "(unicode error) 'unicodeescape' codec can't decode bytes in position 2-3: truncated \\UXXXXXXXX escape (534476123.py, line 1)",
     "output_type": "error",
     "traceback": [
      "  \u001b[36mCell\u001b[39m\u001b[36m \u001b[39m\u001b[32mIn[5]\u001b[39m\u001b[32m, line 1\u001b[39m\n\u001b[31m    \u001b[39m\u001b[31mprint(\"C:\\Users\\Desktop\\test_file.txt\")\u001b[39m\n                                          ^\n\u001b[31mSyntaxError\u001b[39m\u001b[31m:\u001b[39m (unicode error) 'unicodeescape' codec can't decode bytes in position 2-3: truncated \\UXXXXXXXX escape\n"
     ]
    }
   ],
   "source": [
    "print(\"C:\\Users\\Desktop\\test_file.txt\")"
   ]
  },
  {
   "cell_type": "markdown",
   "id": "983f1512a5bd41fa9df2d2f8d6d8e83f",
   "metadata": {
    "slideshow": {
     "slide_type": "fragment"
    }
   },
   "source": [
    "כאלטרנטיבה, ניתן לייצג קווים נוטים בנתיבי הקבצים בצורות הבאות:\n",
    "- `'C:/Users/Desktop/test_file.txt'`\n",
    "- `'C:\\\\Users\\\\Desktop\\\\test_file.txt'`\n"
   ]
  },
  {
   "cell_type": "code",
   "execution_count": 4,
   "id": "4ac761c820984ca095fe6c079a68ebb5",
   "metadata": {
    "slideshow": {
     "slide_type": "fragment"
    }
   },
   "outputs": [
    {
     "name": "stdout",
     "output_type": "stream",
     "text": [
      "C:\\Users\\Desktop\\test_file.txt\n",
      "C:/Users/Desktop/test_file.txt\n"
     ]
    }
   ],
   "source": [
    "print('C:\\\\Users\\\\Desktop\\\\test_file.txt')\n",
    "print('C:/Users/Desktop/test_file.txt')"
   ]
  },
  {
   "cell_type": "markdown",
   "id": "d679b11de401490bbbf9d7a0bdd58f36",
   "metadata": {
    "slideshow": {
     "slide_type": "subslide"
    }
   },
   "source": [
    "## קריאה שורה לאחר שורה"
   ]
  },
  {
   "cell_type": "markdown",
   "id": "cda31060317244728bdeda7ec9c6eff8",
   "metadata": {
    "slideshow": {
     "slide_type": "fragment"
    }
   },
   "source": [
    "- ניתן לעבור שורה-שורה באמצעות לולאת `for`"
   ]
  },
  {
   "cell_type": "code",
   "execution_count": null,
   "id": "5bf86edb68244c84b39fffb7da5df865",
   "metadata": {
    "execution": {
     "iopub.execute_input": "2025-03-10T07:47:50.917315Z",
     "iopub.status.busy": "2025-03-10T07:47:50.916960Z",
     "iopub.status.idle": "2025-03-10T07:47:50.922062Z",
     "shell.execute_reply": "2025-03-10T07:47:50.921369Z"
    },
    "slideshow": {
     "slide_type": "skip"
    }
   },
   "outputs": [],
   "source": [
    "with open('test_file_multi_line.txt', 'w') as f:\n",
    "    f.write('This is line1\\nThis is line 2\\nThe end')"
   ]
  },
  {
   "cell_type": "code",
   "execution_count": null,
   "id": "f6e1ca8278604eddaf85fc2e725c4cba",
   "metadata": {
    "execution": {
     "iopub.execute_input": "2025-03-10T07:47:50.925278Z",
     "iopub.status.busy": "2025-03-10T07:47:50.924707Z",
     "iopub.status.idle": "2025-03-10T07:47:50.930118Z",
     "shell.execute_reply": "2025-03-10T07:47:50.929421Z"
    },
    "slideshow": {
     "slide_type": "fragment"
    }
   },
   "outputs": [],
   "source": [
    "f = open('test_file_multi_line.txt', 'r')\n",
    "for line in f:\n",
    "    print(line, end='')\n",
    "f.close()"
   ]
  },
  {
   "cell_type": "markdown",
   "id": "b4bda9bd74d442a2a38f72d60a322ef1",
   "metadata": {
    "slideshow": {
     "slide_type": "fragment"
    }
   },
   "source": [
    "- לחלופין, ניתן להשתמש ב- `readlines()` כדי לקבל רשימה של שורות"
   ]
  },
  {
   "cell_type": "code",
   "execution_count": null,
   "id": "17148f9815d44929b1467721fc6292ba",
   "metadata": {
    "execution": {
     "iopub.execute_input": "2025-03-10T07:47:50.933243Z",
     "iopub.status.busy": "2025-03-10T07:47:50.932671Z",
     "iopub.status.idle": "2025-03-10T07:47:50.938349Z",
     "shell.execute_reply": "2025-03-10T07:47:50.937640Z"
    },
    "slideshow": {
     "slide_type": "fragment"
    }
   },
   "outputs": [],
   "source": [
    "f = open('test_file_multi_line.txt', 'r')\n",
    "lines = []\n",
    "for line in f:\n",
    "    lines.append(line)\n",
    "f.close() \n",
    "\n",
    "# or use readlines()\n",
    "f = open('test_file_multi_line.txt', 'r')\n",
    "lines = f.readlines()\n",
    "f.close()"
   ]
  },
  {
   "cell_type": "markdown",
   "id": "65146292271e466cb71bf9e52d3fcdc3",
   "metadata": {
    "slideshow": {
     "slide_type": "subslide"
    }
   },
   "source": [
    "## ארבע דרכים נפוצות לקריאה מקובץ"
   ]
  },
  {
   "cell_type": "markdown",
   "id": "e7a2d122c9d74e0587ee5f8124e7a8a3",
   "metadata": {
    "slideshow": {
     "slide_type": "fragment"
    }
   },
   "source": [
    "1. `()f.read` – קורא את כל הקובץ כמחרוזת אחת\n",
    "2. `()f.readline` – קורא את השורה הבאה (יחסית למיקום הנוכחי)\n",
    "3. `()f.readlines` – מחזיר רשימה של כל השורות שנותרו\n",
    "4. לולאת `for`:\n",
    "```python\n",
    "for line in f:\n",
    "    ...\n",
    "```"
   ]
  },
  {
   "cell_type": "markdown",
   "id": "9e6928b13f9e4dc4b12bc137463f02cd",
   "metadata": {
    "slideshow": {
     "slide_type": "subslide"
    }
   },
   "source": [
    "## הערות"
   ]
  },
  {
   "cell_type": "markdown",
   "id": "648492f8ebf2444ebd76eb41225d8aba",
   "metadata": {
    "slideshow": {
     "slide_type": "fragment"
    }
   },
   "source": [
    "- כל פעולת קריאה מקדמת את \"הסמן\" (cursor) בקובץ\n",
    "    - לדוגמא, קריאת שורה אחת תקדם את הסמן לשורה הבאה "
   ]
  },
  {
   "cell_type": "markdown",
   "id": "65309d595bab473799f355220a5c5290",
   "metadata": {
    "slideshow": {
     "slide_type": "fragment"
    }
   },
   "source": [
    "- כדי להתחיל מההתחלה, צריך לפתוח את הקובץ מחדש  "
   ]
  },
  {
   "cell_type": "markdown",
   "id": "19e59390b74848a2838ece69fa484e9a",
   "metadata": {
    "slideshow": {
     "slide_type": "fragment"
    }
   },
   "source": [
    "- יש לזכור לסגור את הקובץ עם `f.close()`  "
   ]
  },
  {
   "cell_type": "markdown",
   "id": "7841de0b666c434c8968674535a3a8ec",
   "metadata": {
    "slideshow": {
     "slide_type": "fragment"
    }
   },
   "source": [
    "- בסוף כל שורה מופיע `\\n` — תו ירידת שורה\n",
    "    - בעת קריאת השורות, אנו בד\"כ נרצה להסיר תוים אלו "
   ]
  },
  {
   "cell_type": "code",
   "execution_count": null,
   "id": "a3d5897b9dd94749b6b462b40dc7e277",
   "metadata": {
    "execution": {
     "iopub.execute_input": "2025-03-10T07:47:50.941840Z",
     "iopub.status.busy": "2025-03-10T07:47:50.941486Z",
     "iopub.status.idle": "2025-03-10T07:47:50.945837Z",
     "shell.execute_reply": "2025-03-10T07:47:50.945011Z"
    },
    "slideshow": {
     "slide_type": "fragment"
    }
   },
   "outputs": [],
   "source": [
    "a_line = 'This is a line\\nSecond line' \n",
    "print(a_line)"
   ]
  },
  {
   "cell_type": "markdown",
   "id": "dd51c50231a94665ab31dea01d8ffde8",
   "metadata": {
    "slideshow": {
     "slide_type": "subslide"
    }
   },
   "source": [
    "## פירוק מחרוזת לתתי מחרוזות – `split()`"
   ]
  },
  {
   "cell_type": "markdown",
   "id": "499becaa389e4a2db2772660e8709a4a",
   "metadata": {
    "slideshow": {
     "slide_type": "fragment"
    }
   },
   "source": [
    "- **Parsing** – ניתוח טקסט לפסוקים לפי פורמט מוסכם מראש"
   ]
  },
  {
   "cell_type": "markdown",
   "id": "b3f9f91d724a43678f9044e4b14990d6",
   "metadata": {
    "slideshow": {
     "slide_type": "fragment"
    }
   },
   "source": [
    "- `split()` מפרק מחרוזת לרשימת תתי-מחרוזות לפי תו מפריד"
   ]
  },
  {
   "cell_type": "code",
   "execution_count": null,
   "id": "e5267e46841c4180af39d7c321dfd993",
   "metadata": {
    "execution": {
     "iopub.execute_input": "2025-03-10T07:47:50.949021Z",
     "iopub.status.busy": "2025-03-10T07:47:50.948662Z",
     "iopub.status.idle": "2025-03-10T07:47:50.953291Z",
     "shell.execute_reply": "2025-03-10T07:47:50.952575Z"
    },
    "slideshow": {
     "slide_type": "fragment"
    }
   },
   "outputs": [],
   "source": [
    "s = \"topeka, kansas city,wichita,,olathe\"\n",
    "\n",
    "cities = s.split(',') \n",
    "# If a delimiter is not specified, the string is split to words separated by a sequence of whitespaces.\n",
    "\n",
    "for city in cities:\n",
    "     print(city)"
   ]
  },
  {
   "cell_type": "markdown",
   "id": "84e0be87b6964855a7bb492ade54d037",
   "metadata": {
    "slideshow": {
     "slide_type": "subslide"
    }
   },
   "source": [
    "## ניקוי תווים מיותרים – `strip()`, `rstrip()`, `lstrip()`"
   ]
  },
  {
   "cell_type": "markdown",
   "id": "797c359b16ad4f0f95138f925907bcf3",
   "metadata": {
    "slideshow": {
     "slide_type": "fragment"
    }
   },
   "source": [
    "- `strip()` – מסיר תווים מיותרים משני הצדדים"
   ]
  },
  {
   "cell_type": "code",
   "execution_count": null,
   "id": "b9a2e13aab954cd9a2608c326f6aaa4b",
   "metadata": {
    "execution": {
     "iopub.execute_input": "2025-03-10T07:47:50.956640Z",
     "iopub.status.busy": "2025-03-10T07:47:50.956056Z",
     "iopub.status.idle": "2025-03-10T07:47:50.961299Z",
     "shell.execute_reply": "2025-03-10T07:47:50.960467Z"
    },
    "slideshow": {
     "slide_type": "fragment"
    }
   },
   "outputs": [],
   "source": [
    "'   spacious   '.strip()"
   ]
  },
  {
   "cell_type": "code",
   "execution_count": null,
   "id": "125fa5f5724a490fbec6492f3052fcaa",
   "metadata": {
    "execution": {
     "iopub.execute_input": "2025-03-10T07:47:50.964732Z",
     "iopub.status.busy": "2025-03-10T07:47:50.964161Z",
     "iopub.status.idle": "2025-03-10T07:47:50.969175Z",
     "shell.execute_reply": "2025-03-10T07:47:50.968520Z"
    },
    "slideshow": {
     "slide_type": "fragment"
    }
   },
   "outputs": [],
   "source": [
    "'www.example.com'.strip('comwz.')"
   ]
  },
  {
   "cell_type": "markdown",
   "id": "139f2188c7524a3aa6ee5b5146be5de5",
   "metadata": {
    "slideshow": {
     "slide_type": "fragment"
    }
   },
   "source": [
    "- `rstrip()` – מסיר רק מהצד הימני"
   ]
  },
  {
   "cell_type": "code",
   "execution_count": null,
   "id": "d486ef3f77d649c0abe48fe0653c6a4c",
   "metadata": {
    "execution": {
     "iopub.execute_input": "2025-03-10T07:47:50.971818Z",
     "iopub.status.busy": "2025-03-10T07:47:50.971516Z",
     "iopub.status.idle": "2025-03-10T07:47:50.976012Z",
     "shell.execute_reply": "2025-03-10T07:47:50.975299Z"
    },
    "slideshow": {
     "slide_type": "fragment"
    }
   },
   "outputs": [],
   "source": [
    "lines = ['this is line 1\\n', 'this is line 2\\n', 'the end']\n",
    "for i in range(len(lines)):\n",
    "    lines[i] = lines[i].rstrip()\n",
    "print(lines)"
   ]
  },
  {
   "cell_type": "markdown",
   "id": "e776868cdf334f029fad8c7a18c37091",
   "metadata": {
    "slideshow": {
     "slide_type": "fragment"
    }
   },
   "source": [
    "- מה עושה הפונקציה `lstrip()`?"
   ]
  },
  {
   "cell_type": "markdown",
   "id": "4dfab22c15fd428fa1779758ce77caa6",
   "metadata": {
    "slideshow": {
     "slide_type": "subslide"
    }
   },
   "source": [
    "### תרגיל: הדפסת שכיחות מילים"
   ]
  },
  {
   "cell_type": "markdown",
   "id": "9d6fd3a309394aa7871bd6d47fabd669",
   "metadata": {
    "slideshow": {
     "slide_type": "fragment"
    }
   },
   "source": [
    "- מטרה: הדפיסו המילים הקובץ `input.txt` לפי שכיחות יורדת"
   ]
  },
  {
   "cell_type": "markdown",
   "id": "12ea0135094140d28893e412fd9d76b8",
   "metadata": {
    "slideshow": {
     "slide_type": "fragment"
    }
   },
   "source": [
    "- תחילה ניצור קובץ כזה:"
   ]
  },
  {
   "cell_type": "code",
   "execution_count": null,
   "id": "5710eef22e5a4b458ef406508b148b1c",
   "metadata": {
    "execution": {
     "iopub.execute_input": "2025-03-10T07:47:50.978781Z",
     "iopub.status.busy": "2025-03-10T07:47:50.978485Z",
     "iopub.status.idle": "2025-03-10T07:47:50.983968Z",
     "shell.execute_reply": "2025-03-10T07:47:50.983243Z"
    },
    "slideshow": {
     "slide_type": "skip"
    }
   },
   "outputs": [],
   "source": [
    "with open(\"input.txt\", \"w\") as input_file:\n",
    "    line = [\"a\"] * 20 + [\"and\"] * 10 + [\"where\"] * 5\n",
    "    input_file.write(\" \".join(line))"
   ]
  },
  {
   "cell_type": "markdown",
   "id": "f7bbfca8d6ae4b28a0d5923217487ba2",
   "metadata": {
    "slideshow": {
     "slide_type": "fragment"
    }
   },
   "source": [
    "- פתרון"
   ]
  },
  {
   "cell_type": "code",
   "execution_count": null,
   "id": "44722a15e5f24b31b024c4f3a79e10ab",
   "metadata": {
    "execution": {
     "iopub.execute_input": "2025-03-10T07:47:50.986594Z",
     "iopub.status.busy": "2025-03-10T07:47:50.986300Z",
     "iopub.status.idle": "2025-03-10T07:47:50.992060Z",
     "shell.execute_reply": "2025-03-10T07:47:50.991423Z"
    },
    "slideshow": {
     "slide_type": "fragment"
    }
   },
   "outputs": [],
   "source": [
    "f = open(\"input.txt\", \"r\")\n",
    "d = {}\n",
    "for line in f:\n",
    "    for word in line.split():\n",
    "        d[word] = d.get(word, 0) + 1\n",
    "f.close()\n",
    "\n",
    "for w in sorted(d, key=d.get):\n",
    "     print(w + \":\", d[w])\n"
   ]
  },
  {
   "cell_type": "markdown",
   "id": "ea0d960d5d984f18af7ad6f109dbb7da",
   "metadata": {
    "slideshow": {
     "slide_type": "subslide"
    }
   },
   "source": [
    "## כתיבת מחרוזות לקובץ"
   ]
  },
  {
   "cell_type": "markdown",
   "id": "1571900b065145d88a40b8c68dc02421",
   "metadata": {
    "slideshow": {
     "slide_type": "fragment"
    }
   },
   "source": [
    "- השתמשו ב- `f.write(str)` כדי לכתוב לקובץ"
   ]
  },
  {
   "cell_type": "code",
   "execution_count": null,
   "id": "cae749c0f76546b99dc3d2a180da3866",
   "metadata": {
    "execution": {
     "iopub.execute_input": "2025-03-10T07:47:50.994937Z",
     "iopub.status.busy": "2025-03-10T07:47:50.994641Z",
     "iopub.status.idle": "2025-03-10T07:47:51.000532Z",
     "shell.execute_reply": "2025-03-10T07:47:50.999765Z"
    },
    "slideshow": {
     "slide_type": "slide"
    }
   },
   "outputs": [],
   "source": [
    "# open a file (or create it if no such file exists)\n",
    "f = open('test_file_3.txt', 'w')\n",
    "f.write(\"This is a test\")\n",
    "# newline\n",
    "f.write('\\n')\n",
    "\n",
    "# to write a non-string object, first convert to string\n",
    "tpl = ('string', 40)\n",
    "f.write(str(tpl))\n",
    "\n",
    "# flush data to the file and close it, unlock file, free resources\n",
    "f.close()"
   ]
  },
  {
   "cell_type": "code",
   "execution_count": null,
   "id": "bdaf6695e972426691d1bbace20f05f9",
   "metadata": {
    "execution": {
     "iopub.execute_input": "2025-03-10T07:47:51.003210Z",
     "iopub.status.busy": "2025-03-10T07:47:51.002916Z",
     "iopub.status.idle": "2025-03-10T07:47:51.007982Z",
     "shell.execute_reply": "2025-03-10T07:47:51.007205Z"
    },
    "slideshow": {
     "slide_type": "slide"
    }
   },
   "outputs": [],
   "source": [
    "f = open('test_file_3.txt', 'r')\n",
    "print(f.read())\n",
    "f.close()"
   ]
  },
  {
   "cell_type": "markdown",
   "id": "70acb4fd63054656a8a6d1445b03146c",
   "metadata": {
    "slideshow": {
     "slide_type": "subslide"
    }
   },
   "source": [
    "## דוגמה: כתיבת רשימת מספרים לקובץ טקסט"
   ]
  },
  {
   "cell_type": "code",
   "execution_count": null,
   "id": "3522accf66f8432e832de1dd712dae88",
   "metadata": {
    "execution": {
     "iopub.execute_input": "2025-03-10T07:47:51.011142Z",
     "iopub.status.busy": "2025-03-10T07:47:51.010641Z",
     "iopub.status.idle": "2025-03-10T07:47:51.014500Z",
     "shell.execute_reply": "2025-03-10T07:47:51.013779Z"
    },
    "slideshow": {
     "slide_type": "fragment"
    }
   },
   "outputs": [],
   "source": [
    "my_list = [i**2 for i in range(1,11)] \n",
    "#  List comprehension !\n",
    "# Generates a list of squares of the numbers 1 – 10"
   ]
  },
  {
   "cell_type": "code",
   "execution_count": null,
   "id": "663ded015b8548edbd74ab9f2b8b88b1",
   "metadata": {
    "execution": {
     "iopub.execute_input": "2025-03-10T07:47:51.017137Z",
     "iopub.status.busy": "2025-03-10T07:47:51.016832Z",
     "iopub.status.idle": "2025-03-10T07:47:51.027830Z",
     "shell.execute_reply": "2025-03-10T07:47:51.027095Z"
    },
    "slideshow": {
     "slide_type": "fragment"
    }
   },
   "outputs": [],
   "source": [
    "f = open(\"output.txt\", \"w\")\n",
    "\n",
    "for item in my_list:\n",
    "    f.write(str(item) + \"\\n\")\n",
    "\n",
    "f.close()\n",
    "\n",
    "# now let's view the output file\n",
    "f = open('output.txt', 'r')\n",
    "print(f.read())\n",
    "f.close()\n"
   ]
  },
  {
   "cell_type": "markdown",
   "id": "afc17c82959c4d1ab3f72acbfa477c10",
   "metadata": {
    "slideshow": {
     "slide_type": "subslide"
    }
   },
   "source": [
    "## שימוש ב-context manager"
   ]
  },
  {
   "cell_type": "markdown",
   "id": "2699eb5caffc4ac8bef9d5ad5b2a8376",
   "metadata": {
    "slideshow": {
     "slide_type": "fragment"
    }
   },
   "source": [
    "- במקום `close()` אפשר להשתמש ב-`with`"
   ]
  },
  {
   "cell_type": "code",
   "execution_count": null,
   "id": "42d23ab4653341af859aab6984d8477b",
   "metadata": {
    "execution": {
     "iopub.execute_input": "2025-03-10T07:47:51.030619Z",
     "iopub.status.busy": "2025-03-10T07:47:51.030313Z",
     "iopub.status.idle": "2025-03-10T07:47:51.034464Z",
     "shell.execute_reply": "2025-03-10T07:47:51.033861Z"
    },
    "slideshow": {
     "slide_type": "fragment"
    }
   },
   "outputs": [],
   "source": [
    "# replace this code:\n",
    "f = open('test_file_multi_line.txt', 'r')\n",
    "content = f.read()\n",
    "f.close()"
   ]
  },
  {
   "cell_type": "code",
   "execution_count": null,
   "id": "e667549d3bf449f0b22266ff53cc3b19",
   "metadata": {
    "execution": {
     "iopub.execute_input": "2025-03-10T07:47:51.037142Z",
     "iopub.status.busy": "2025-03-10T07:47:51.036849Z",
     "iopub.status.idle": "2025-03-10T07:47:51.041135Z",
     "shell.execute_reply": "2025-03-10T07:47:51.040438Z"
    },
    "slideshow": {
     "slide_type": "fragment"
    }
   },
   "outputs": [],
   "source": [
    "# with this:\n",
    "with open('test_file_multi_line.txt', 'r') as f:\n",
    "    content = f.read()\n",
    "    \n",
    "# close is automatically called afterwards"
   ]
  },
  {
   "cell_type": "markdown",
   "id": "9ade1a785b6d4473b7f28330cb6b456d",
   "metadata": {
    "slideshow": {
     "slide_type": "subslide"
    }
   },
   "source": [
    "## דוגמאות מסכמות"
   ]
  },
  {
   "cell_type": "markdown",
   "id": "68dc130b84d54ff184aa28e2b92035da",
   "metadata": {
    "slideshow": {
     "slide_type": "fragment"
    }
   },
   "source": [
    "מה עושה קטע הקוד הבא?"
   ]
  },
  {
   "cell_type": "code",
   "execution_count": null,
   "id": "1c40bc3c44594f9481b08c4b98412bc0",
   "metadata": {
    "execution": {
     "iopub.execute_input": "2025-03-10T07:47:51.044038Z",
     "iopub.status.busy": "2025-03-10T07:47:51.043745Z",
     "iopub.status.idle": "2025-03-10T07:47:51.048195Z",
     "shell.execute_reply": "2025-03-10T07:47:51.047442Z"
    },
    "slideshow": {
     "slide_type": "subslide"
    }
   },
   "outputs": [],
   "source": [
    "fname = 'test_file_multi_line.txt'\n",
    "\n",
    "f = open(fname, 'r') \n",
    "lines = f.readlines() \n",
    "f.close() "
   ]
  },
  {
   "cell_type": "markdown",
   "id": "63694bd466914cd69508c384adc50de5",
   "metadata": {
    "slideshow": {
     "slide_type": "fragment"
    }
   },
   "source": [
    "- המשתנה `lines` מכיל רשימת מחרוזות\n",
    "- כל שורה מ`fname` היא מחרוזת מהרשימה `lines`"
   ]
  },
  {
   "cell_type": "code",
   "execution_count": null,
   "id": "aa99c12a80f249c0b1aa17f212fefbc9",
   "metadata": {
    "execution": {
     "iopub.execute_input": "2025-03-10T07:47:51.051361Z",
     "iopub.status.busy": "2025-03-10T07:47:51.051031Z",
     "iopub.status.idle": "2025-03-10T07:47:51.055506Z",
     "shell.execute_reply": "2025-03-10T07:47:51.054901Z"
    },
    "slideshow": {
     "slide_type": "subslide"
    }
   },
   "outputs": [],
   "source": [
    "f = open(fname, 'r')\n",
    "firstline = f.readline()\n",
    "secondline = f.readline()\n",
    "f.close()"
   ]
  },
  {
   "cell_type": "markdown",
   "id": "8b16876829dd4c4480549b0e29196857",
   "metadata": {
    "slideshow": {
     "slide_type": "fragment"
    }
   },
   "source": [
    "- המשתנה `firstline` (מסוג מחרוזת) מכיל את השורה הראשונה מ`fname`\n",
    "- המשתנה `secondline` מכיל את השורה השניה מ`fname`"
   ]
  },
  {
   "cell_type": "code",
   "execution_count": null,
   "id": "6a0365ccd4dd47ad986a4129c409412a",
   "metadata": {
    "execution": {
     "iopub.execute_input": "2025-03-10T07:47:51.058326Z",
     "iopub.status.busy": "2025-03-10T07:47:51.058032Z",
     "iopub.status.idle": "2025-03-10T07:47:51.063286Z",
     "shell.execute_reply": "2025-03-10T07:47:51.062526Z"
    },
    "slideshow": {
     "slide_type": "subslide"
    }
   },
   "outputs": [],
   "source": [
    "f = open(fname, 'r') \n",
    "for l in f: \n",
    "    print(l.split()[1])\n",
    "f.close()"
   ]
  },
  {
   "cell_type": "markdown",
   "id": "943cb17f6ce9402880fcc18d18f76e96",
   "metadata": {
    "slideshow": {
     "slide_type": "fragment"
    }
   },
   "source": [
    "קוד המדפיס את המילה השניה מכל שורה"
   ]
  },
  {
   "cell_type": "code",
   "execution_count": null,
   "id": "4f6b0fc4bc5e4444963b46bf6f8e7482",
   "metadata": {
    "execution": {
     "iopub.execute_input": "2025-03-10T07:47:51.066908Z",
     "iopub.status.busy": "2025-03-10T07:47:51.066473Z",
     "iopub.status.idle": "2025-03-10T07:47:51.072484Z",
     "shell.execute_reply": "2025-03-10T07:47:51.071718Z"
    },
    "slideshow": {
     "slide_type": "subslide"
    }
   },
   "outputs": [],
   "source": [
    "outfname = 'myoutput.txt'\n",
    "outf = open(outfname, 'w')\n",
    "outf.write('My very own file\\n')\n",
    "outf.close()"
   ]
  },
  {
   "cell_type": "markdown",
   "id": "d3fbcdcb78684ea59117ab8bdcda182f",
   "metadata": {
    "slideshow": {
     "slide_type": "fragment"
    }
   },
   "source": [
    "הקוד כותב קובץ חדש/דורס קובץ קיים בשם myoutput.txt עם השורה בודדת \"My very own file\""
   ]
  }
 ],
 "metadata": {
  "celltoolbar": "Slideshow",
  "kernelspec": {
   "display_name": "Python 3 (ipykernel)",
   "language": "python",
   "name": "python3"
  },
  "language_info": {
   "codemirror_mode": {
    "name": "ipython",
    "version": 3
   },
   "file_extension": ".py",
   "mimetype": "text/x-python",
   "name": "python",
   "nbconvert_exporter": "python",
   "pygments_lexer": "ipython3",
   "version": "3.11.12"
  }
 },
 "nbformat": 4,
 "nbformat_minor": 5
}
