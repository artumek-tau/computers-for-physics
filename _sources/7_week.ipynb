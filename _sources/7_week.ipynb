{
 "cells": [
  {
   "cell_type": "code",
   "execution_count": null,
   "id": "7e548e8d-cb63-4291-855a-e784ac8f74c5",
   "metadata": {
    "slideshow": {
     "slide_type": "skip"
    },
    "tags": [
     "remove-cell"
    ]
   },
   "outputs": [
    {
     "data": {
      "text/html": [
       "<!-- RTL Fix the jupyter notebook 7  -->\n",
       "<style>\n",
       "    .jp-RenderedHTMLCommon {\n",
       "        padding-top: 2em !important;\n",
       "  }   \n",
       "    .jp-RenderedHTMLCommon, .jp-RenderedHTMLCommon * {\n",
       "        direction: rtl !important;\n",
       "        text-align:right !important;\n",
       "  }\n",
       "    .jp-MarkdownCell .jp-InputArea-editor {\n",
       "        direction: rtl !important; \n",
       "        text-align:right !important;\n",
       "        padding-top: 2em !important;\n",
       "  } \n",
       "\n",
       " .jp-RenderedHTMLCommon code, .jp-RenderedHTMLCommon code span {\n",
       "        text-align:left !important;\n",
       "        direction: ltr !important;\n",
       "        unicode-bidi: embed !important;\n",
       "\n",
       "    }\n",
       "    .jp-RenderedHTMLCommon pre:has(code) {\n",
       "      direction: ltr !important;\n",
       "      text-align: left!important;\n",
       "    }\n",
       "\n",
       "</style> \n"
      ],
      "text/plain": [
       "<IPython.core.display.HTML object>"
      ]
     },
     "metadata": {},
     "output_type": "display_data"
    }
   ],
   "source": [
    "%%html\n",
    "<script>\n",
    "(function() {\n",
    "  // Create the toggle button\n",
    "  const rtlButton = document.createElement(\"button\");\n",
    "  rtlButton.textContent = \"Toggle LTR\";\n",
    "  rtlButton.id = \"top-rtl-toggle\";\n",
    "  rtlButton.style.marginLeft = \"8px\";\n",
    "  rtlButton.style.padding = \"4px 10px\";\n",
    "  rtlButton.style.fontSize = \"14px\";\n",
    "  rtlButton.style.cursor = \"pointer\";\n",
    "\n",
    "  // State\n",
    "  var rtlActive = false;\n",
    "\n",
    "  // Styling function\n",
    "  var applyStyleToEditor = (editor) => {\n",
    "    if (!editor) return;\n",
    "    var direction = getComputedStyle(editor).getPropertyValue('direction')=='rtl' ? 'ltr' : 'rtl';\n",
    "    var text_align = getComputedStyle(editor).getPropertyValue('text-align')=='right' ? 'left' : 'right';\n",
    "    editor.style.setProperty('direction', direction, 'important');\n",
    "    editor.style.setProperty('text-align', text_align, 'important');\n",
    "  };\n",
    "\n",
    "  // Toggle logic\n",
    "  rtlButton.onclick = () => {\n",
    "    rtlActive = !rtlActive;\n",
    "    rtlButton.textContent = rtlActive ? \"Toggle LTR\" : \"Toggle RTL\";\n",
    "    document.querySelectorAll('.jp-MarkdownCell .jp-InputArea-editor').forEach(applyStyleToEditor);\n",
    "    document.querySelectorAll('.jp-RenderedHTMLCommon code, .jp-RenderedHTMLCommon code span').forEach(applyStyleToEditor);\n",
    "    document.querySelectorAll('jp-RenderedHTMLCommon, .jp-RenderedHTMLCommon *').forEach(applyStyleToEditor);\n",
    "  };\n",
    "\n",
    "  // Watch for focus into editing Markdown cells\n",
    "  // document.addEventListener('focusin', (event) => {\n",
    "  //   const editor = event.target.closest('.jp-MarkdownCell .jp-InputArea-editor');\n",
    "  //    if (editor) applyStyleToEditor(editor);\n",
    "  // });\n",
    "\n",
    "  // Insert into top toolbar if not already present\n",
    "  var insertIntoToolbar = () => {\n",
    "    const toolbar = document.querySelector('.jp-NotebookPanel-toolbar');\n",
    "    if (toolbar && !document.getElementById(\"top-rtl-toggle\")) {\n",
    "      toolbar.appendChild(rtlButton);\n",
    "    } else {\n",
    "      // Try again in a moment if toolbar isn't ready yet\n",
    "      setTimeout(insertIntoToolbar, 300);\n",
    "    }\n",
    "  };\n",
    "\n",
    "  insertIntoToolbar();\n",
    "})();\n",
    "</script>"
   ]
  },
  {
   "cell_type": "code",
   "execution_count": null,
   "id": "2f2d03fd-729e-439a-9ab0-de58c598e9ca",
   "metadata": {
    "tags": [
     "remove-cell"
    ]
   },
   "outputs": [
    {
     "data": {
      "text/html": [
       "<script>\n",
       "(function() {\n",
       "  // Create the toggle button\n",
       "  const rtlButton = document.createElement(\"button\");\n",
       "  rtlButton.textContent = \"Toggle LTR\";\n",
       "  rtlButton.id = \"top-rtl-toggle\";\n",
       "  rtlButton.style.marginLeft = \"8px\";\n",
       "  rtlButton.style.padding = \"4px 10px\";\n",
       "  rtlButton.style.fontSize = \"14px\";\n",
       "  rtlButton.style.cursor = \"pointer\";\n",
       "\n",
       "  // State\n",
       "  var rtlActive = false;\n",
       "\n",
       "  // Styling function\n",
       "  var applyStyleToEditor = (editor) => {\n",
       "    if (!editor) return;\n",
       "    var direction = getComputedStyle(editor).getPropertyValue('direction')=='rtl' ? 'ltr' : 'rtl';\n",
       "    var text_align = getComputedStyle(editor).getPropertyValue('text-align')=='right' ? 'left' : 'right';\n",
       "    editor.style.setProperty('direction', direction, 'important');\n",
       "    editor.style.setProperty('text-align', text_align, 'important');\n",
       "  };\n",
       "\n",
       "  // Toggle logic\n",
       "  rtlButton.onclick = () => {\n",
       "    rtlActive = !rtlActive;\n",
       "    rtlButton.textContent = rtlActive ? \"Toggle LTR\" : \"Toggle RTL\";\n",
       "    document.querySelectorAll('.jp-MarkdownCell .jp-InputArea-editor').forEach(applyStyleToEditor);\n",
       "    document.querySelectorAll('.jp-RenderedHTMLCommon code, .jp-RenderedHTMLCommon code span').forEach(applyStyleToEditor);\n",
       "    document.querySelectorAll('jp-RenderedHTMLCommon, .jp-RenderedHTMLCommon *').forEach(applyStyleToEditor);\n",
       "  };\n",
       "\n",
       "  // Watch for focus into editing Markdown cells\n",
       "  // document.addEventListener('focusin', (event) => {\n",
       "  //   const editor = event.target.closest('.jp-MarkdownCell .jp-InputArea-editor');\n",
       "  //    if (editor) applyStyleToEditor(editor);\n",
       "  // });\n",
       "\n",
       "  // Insert into top toolbar if not already present\n",
       "  var insertIntoToolbar = () => {\n",
       "    const toolbar = document.querySelector('.jp-NotebookPanel-toolbar');\n",
       "    if (toolbar && !document.getElementById(\"top-rtl-toggle\")) {\n",
       "      toolbar.appendChild(rtlButton);\n",
       "    } else {\n",
       "      // Try again in a moment if toolbar isn't ready yet\n",
       "      setTimeout(insertIntoToolbar, 300);\n",
       "    }\n",
       "  };\n",
       "\n",
       "  insertIntoToolbar();\n",
       "})();\n",
       "</script>\n"
      ],
      "text/plain": [
       "<IPython.core.display.HTML object>"
      ]
     },
     "metadata": {},
     "output_type": "display_data"
    }
   ],
   "source": [
    "%%html\n",
    "<!-- <style>\n",
    "  table {display: inline-block}\n",
    "</style> -->"
   ]
  },
  {
   "cell_type": "markdown",
   "id": "45dbdbcd",
   "metadata": {},
   "source": [
    "# שבוע 7 - Numpy"
   ]
  },
  {
   "cell_type": "markdown",
   "id": "7dbcb131",
   "metadata": {},
   "source": [
    "## ספריות בפייתון\n",
    "**ספרייה (Library)** היא אוסף מודולים של קוד שנכתב מראש כדי לבצע משימות נפוצות: חישוב מספרי, עיבוד נתונים, גרפיקה, תקשורת, למידת מכונה ועוד. במקום להמציא את הגלגל בכל פרויקט, משתמשים בספריות אמינות שנבדקו על־ידי משתמשים רבים.\n",
    "\n",
    "- **התקנה**: מוסיפים את הספרייה לסביבה שלכם באמצעות מנהל חבילות (כגון `pip`) כך שהקוד שלה יהיה זמין לפרויקט.  \n",
    "- **טעינה**: בתוך הקוד “מייבאים” את הספרייה או חלקים ממנה באמצעות פקודת `import`, ולאחר מכן קוראים לפונקציות ולמחלקות שהיא מספקת.  \n",
    "- **שימוש**: משלבים את הקריאות לספרייה יחד עם הקוד שלכם, לפי התיעוד הרשמי ודוגמאות שימוש. ברוב המקרים, העבודה דומה לקריאה לכל פונקציה אחרת בפייתון—רק שהמימוש מגיע “מבחוץ”.\n",
    "\n",
    "בפייתון יש שתי צורות נפוצות לייבוא:\n",
    "1) **ייבוא הספרייה כולה** (לעיתים עם כינוי/alias),  \n",
    "2) **ייבוא סלקטיבי** של אובייקטים או תת־מודולים מתוכה.\n",
    "\n",
    "ברוב המקרים, ייבוא עם כינוי שומר על קריאות, מונע התנגשויות שמות, ומבהיר מאין הגיע כל אובייקט. ייבוא סלקטיבי מתאים כשאתם משתמשים במספר קטן של פונקציות שוב ושוב, או כשאתם רוצים להדגיש תלות בתת־מודול ספציפי. \n",
    "שימו לב: בספריות כמו NumPy, ייבוא סלקטיבי לרוב **לא** חוסך זמן טעינה או זיכרון בצורה משמעותית, ולעיתים אף מגביר סיכון להתנגשויות שמות.\n",
    "\n",
    "#### ייבוא ספרייה שלמה עם כינוי:\n",
    "```python\n",
    "import numpy as np\n",
    "```\n",
    "\n",
    "####  ייבוא סלקטיבי של אובייקטים/תת־מודולים:\n",
    "```python\n",
    "from numpy import array, mean #object\n",
    "from numpy.linalg import norm #sub-module\n",
    "```\n",
    "\n",
    "```{note}\n",
    "נייבא ספרייה שלמה כאשר:\n",
    "- משתמשים במגוון רחב של יכולות מהחבילה.  \n",
    "- לשמירה על קריאות עקבית עם כינויים נפוצים (`np`, `pd`, `plt`).  \n",
    "- להפחתת סיכון להתנגשויות שמות בין פונקציות בעלות אותו שם מספריות שונות.  \n",
    "\n",
    "נייבא חלקים מספרייה כאשר:\n",
    "- משתמשים במספר קטן ומוגדר של פונקציות/קלאסים בתדירות גבוהה, ורוצים תחביר קצר יותר.  \n",
    "- כדי להדגיש תלות בתת־מודול מסוים (למשל `numpy.linalg` לאלגברה ליניארית).  \n",
    "```\n",
    "\n",
    "`````{admonition} עקרונות עבודה מומלצים\n",
    ":class :tip \n",
    "- **לייבא רק מה שצריך**: שומר על קוד קריא וממוקד.  \n",
    "- **הסתמכות על תיעוד**: קראו תיעוד רשמי וקווי הנחיה—זה מקצר עקומת למידה ומונע תקלות.  \n",
    "`````\n",
    "\n",
    "\n",
    "## NumPy\n",
    "\n",
    "NumPy היא ספריית הליבה לחישוב מדעי בפייתון.\n",
    "היא מאפשרת לעבוד עם אובייקטים מסוג מערך רב־ממדי המאפשרים חישובים מהירים ומספקת כלי עזר לעבודה עם מערכים הללו.\n",
    "\n",
    "ל**NumPy** חשיבות יתרה בפיסיקה מאחר שהיא מספקת:\n",
    "- **חישוב מהיר בהיקפים גדולים**: ביצוע פעולות על אוספי נתונים שלמים בפקודה אחת במקום לולאות — קריטי לסימולציות, אינטגרציה נומרית ופתרון בעיות רשת/סריג.\n",
    "- **אלגברה ליניארית וניתוח ספקטרלי**: כלים מובנים לפתרון מערכות, מציאת ערכים ווקטורים עצמיים וניתוח תדרים — בסיס לבעיות תנודות, שדות ופיזיקה קוונטית.\n",
    "- **סימולציות הסתברותיות**: דגימה אקראית יעילה ונוחה לביצוע ניסויי מונטה־קרלו, הוספת רעש מדוד והערכת אי־ודאות במדידות.\n",
    "- **דיוק נומרי אמין**: התאמת רמת הדיוק והעבודה עם מספרים ממשיים ומרוכבים מאפשרות ייצוג נאמן של גדלים פיזיקליים רגישים.\n",
    "- **יעילות בזיכרון ובמעבד**: ניסוח חישובים כך שיתבצעו בצמוד לנתונים, מצמצם העתקות מיותרות ומאיץ ריצות.\n",
    "- **עבודה טבעית עם שדות ורשתות**: כתיבה שנשענת על פעולות וקטוריות/מטריציוניות מקבילה ישירות לנוסחאות, ולכן מקלה על אימות תאורטי.\n",
    "- **קריאות ושחזור**: קוד תמציתי, שקל לבדוק, לשחזר ולשתף — מרכיב חיוני בעבודה מחקרית.\n",
    "- **זרימה חלקה לניתוח מלא**: משתלבת היטב עם סביבת הכלים המדעיים של פייתון לניהול נתונים, פתרון נומרי והדמיה — מאיסוף ועד מסקנות.\n",
    "\n",
    "\n",
    "### Numpy's Arrays (מערכים)\n",
    "\n",
    "מערך של NumPy מכיל ערכים מאותו טיפוס, שמאונדקס באמצעות מספרים טבעיים.\n",
    "מספר הממדים נקרא דרגת המערך (rank) וה-shape הוא גודל המערך בכל ממד."
   ]
  },
  {
   "cell_type": "markdown",
   "id": "deecad36",
   "metadata": {},
   "source": [
    "ראשית,מייבאים את הספרייה NumPy ומקצרים את השם שלה ל־np, כדי שיהיה נוח להשתמש בה בהמשך."
   ]
  },
  {
   "cell_type": "code",
   "execution_count": 1,
   "id": "39670b5a",
   "metadata": {},
   "outputs": [],
   "source": [
    "import numpy as np"
   ]
  },
  {
   "cell_type": "markdown",
   "id": "e8bb0d48",
   "metadata": {},
   "source": [
    "נבנה מערך חד־ממדי (Rank 1), מתוך רשימת פייתון [1, 2, 3].\n",
    "המערך הזה דומה לרשימה רגילה, אבל מאפשר ביצועים טובים יותר ופעולות מתמטיות ישירות על כל האיברים."
   ]
  },
  {
   "cell_type": "code",
   "execution_count": null,
   "id": "a88654a5",
   "metadata": {},
   "outputs": [],
   "source": [
    "a = np.array([1, 2, 3])   # Create a rank 1 array\n",
    "print(type(a))            "
   ]
  },
  {
   "cell_type": "markdown",
   "id": "1ee10ee6",
   "metadata": {},
   "source": [
    "בודקים את סוג המשתנה `a`. רואים שהוא מסוג `numpy.ndarray` — זוהי המחלקה המרכזית של NumPy לייצוג מערכים."
   ]
  },
  {
   "cell_type": "code",
   "execution_count": null,
   "id": "f7329652",
   "metadata": {},
   "outputs": [],
   "source": [
    "print(a[0], a[1], a[2])   "
   ]
  },
  {
   "cell_type": "markdown",
   "id": "43dfc872",
   "metadata": {},
   "source": [
    "גישה לאיברים במערך מתבצעת בעזרת אינדקסים בסוגריים מרובעים.\n",
    "האינדקס מתחיל מ־0 (כמו בפייתון רגילה), ולכן `a[0]` הוא האיבר הראשון (1), `a[1]` הוא השני (2), וכן הלאה."
   ]
  },
  {
   "cell_type": "code",
   "execution_count": null,
   "id": "345a3903",
   "metadata": {},
   "outputs": [],
   "source": [
    "a[0] = 5                  # Change an element of the array\n",
    "print(a)                  "
   ]
  },
  {
   "cell_type": "markdown",
   "id": "4389b129",
   "metadata": {},
   "source": [
    "מערך של NumPy הינו בר־שינוי (mutable).\n",
    "בקטע הקוד הקודם מחליפים את הערך של האיבר הראשון מ־1 ל־5, והמערך כולו הופך להיות `[5, 2, 3]`."
   ]
  },
  {
   "cell_type": "code",
   "execution_count": null,
   "id": "109aec5f",
   "metadata": {},
   "outputs": [],
   "source": [
    "b = np.array([[1,2,3],[4,5,6]])    # Create a rank 2 array\n"
   ]
  },
  {
   "cell_type": "markdown",
   "id": "04e4712e",
   "metadata": {},
   "source": [
    "בקטע הקוד הקודם יוצרים מערך דו־ממדי (Rank 2), מתוך רשימה מקוננת.\n",
    "הרשימה הראשונה `[1,2,3]` הופכת לשורה ראשונה, והרשימה `[4,5,6]` הופכת לשורה שנייה.\n",
    "כלומר b מייצג טבלה (מטריצה) עם 2 שורות ו־3 עמודות."
   ]
  },
  {
   "cell_type": "code",
   "execution_count": null,
   "id": "bd0f0993",
   "metadata": {},
   "outputs": [],
   "source": [
    "print(b.shape)                     "
   ]
  },
  {
   "cell_type": "markdown",
   "id": "41965a63",
   "metadata": {},
   "source": [
    "כעת הצורה (`shape`) היא `(2,3)`, כלומר שתי שורות ושלושה עמודות."
   ]
  },
  {
   "cell_type": "code",
   "execution_count": null,
   "id": "20c69375",
   "metadata": {},
   "outputs": [],
   "source": [
    "print(b[0, 0], b[0, 1], b[1, 0])  \n"
   ]
  },
  {
   "cell_type": "markdown",
   "id": "0d8252a5",
   "metadata": {},
   "source": [
    "גישה לאיברים במערך דו־ממדי נעשית ע״י ציון שורה ועמודה:\n",
    "- `b[0,0]` הוא התא בשורה הראשונה, עמודה ראשונה → הערך 1.\n",
    "- `b[0,1]` הוא התא בשורה הראשונה, עמודה שנייה → הערך 2.\n",
    "- `b[1,0]` הוא התא בשורה השנייה, עמודה ראשונה → הערך 4."
   ]
  },
  {
   "cell_type": "markdown",
   "id": "6c8d7a29",
   "metadata": {},
   "source": [
    "ניתן להגדיר מערכים גם ממימדים גבוהים יותר:\n",
    "![Alt text](https://predictivehacks.com/wp-content/uploads/2020/08/numpy_arrays.png)"
   ]
  },
  {
   "cell_type": "markdown",
   "id": "a91c28a5",
   "metadata": {},
   "source": []
  },
  {
   "cell_type": "markdown",
   "id": "e4f953a2",
   "metadata": {},
   "source": [
    "NumPy מספקת גם פונקציות רבות ליצירת מערכים\n",
    "\n",
    "- **`zeros(shape)`** – מחזירה מערך חדש בגודל המבוקש, שכל איבריו הם אפסים. שימושי לאתחול חישובים או שמירת מקום לנתונים עתידיים.  \n",
    "- **`ones(shape)`** – יוצרת מערך חדש שכל איבריו הם אחדות. מתאים כבסיס לאתחול אחיד או למצבים בהם רוצים ערכי התחלה זהים.  \n",
    "- **`full(shape, value)`** – מייצרת מערך שבו כל האיברים שווים לערך קבוע שניתן מראש.  \n",
    "- **`eye(N)`** – מחזירה מטריצת יחידה ריבועית בגודל N×N, עם אחדות על האלכסון הראשי ואפסים בשאר המקומות. זהו אובייקט מרכזי באלגברה ליניארית.  \n",
    "- **`random.random(shape)`** – יוצר מערך בגודל המבוקש שמלא במספרים אקראיים רציפים בין 0 ל־1. משמש בסימולציות, שיטות מונטה־קרלו ובדיקות סטטיסטיות.  \n",
    "\n",
    "באמצעות פונקציות אלו ניתן לאתחל מערכים בצורה מהירה ויעילה בהתאם לצורך: ערכים קבועים, מטריצות יחידה או ערכים אקראיים:"
   ]
  },
  {
   "cell_type": "code",
   "execution_count": null,
   "id": "aafac08a",
   "metadata": {},
   "outputs": [
    {
     "name": "stdout",
     "output_type": "stream",
     "text": [
      "[[0. 0.]\n",
      " [0. 0.]]\n",
      "[[1. 1.]]\n",
      "[[7 7]\n",
      " [7 7]]\n",
      "[[1. 0.]\n",
      " [0. 1.]]\n",
      "[[0.41567671 0.12058093]\n",
      " [0.65757872 0.17613014]]\n"
     ]
    }
   ],
   "source": [
    "import numpy as np\n",
    "\n",
    "a = np.zeros((2,2))   # Create an array of all zeros\n",
    "print(a)              \n",
    "\n",
    "b = np.ones((1,2))    # Create an array of all ones\n",
    "print(b)              \n",
    "\n",
    "c = np.full((2,2), 7)  # Create a constant array\n",
    "print(c)               \n",
    "\n",
    "d = np.eye(2)         # Create a 2x2 identity matrix\n",
    "print(d)              \n",
    "\n",
    "e = np.random.random((2,2))  # Create an array filled with random values\n",
    "print(e)                     \n"
   ]
  },
  {
   "cell_type": "code",
   "execution_count": 4,
   "id": "d16a49f7",
   "metadata": {
    "tags": [
     "remove-input"
    ]
   },
   "outputs": [
    {
     "data": {
      "text/html": [
       "<div id=\"YESmRGtrnpsS\" data-shufflequestions=\"False\" data-shuffleanswers=\"True\" data-preserveresponses=\"false\" data-numquestions=\"1000000\" data-maxwidth=\"600\" style=\"border-radius: 10px; text-align: left\"><style>\n",
       "#YESmRGtrnpsS {\n",
       "   --jq-multiple-choice-bg: #6f78ffff;\n",
       "   --jq-mc-button-bg: #fafafa;\n",
       "   --jq-mc-button-border: #e0e0e0e0;\n",
       "   --jq-mc-button-inset-shadow: #555555;\n",
       "   --jq-many-choice-bg: #f75c03ff;\n",
       "   --jq-numeric-bg: #392061ff;\n",
       "   --jq-numeric-input-bg: #c0c0c0;\n",
       "   --jq-numeric-input-label: #101010;\n",
       "   --jq-numeric-input-shadow: #999999;\n",
       "   --jq-string-bg: #4c1a57;\n",
       "   --jq-incorrect-color: #c80202;\n",
       "   --jq-correct-color: #009113;\n",
       "   --jq-text-color: #fafafa;\n",
       "}\n",
       "\n",
       ".Quiz {\n",
       "    max-width: 600px;\n",
       "    margin-top: 15px;\n",
       "    margin-left: auto;\n",
       "    margin-right: auto;\n",
       "/*    margin-bottom: 15px;*/\n",
       "/*    padding-bottom: 4px;*/\n",
       "    padding-top: 4px;\n",
       "    line-height: 1.1;\n",
       "    font-size: 16pt;\n",
       "    border-radius: inherit;\n",
       "}\n",
       "\n",
       ".QuizCode {\n",
       "    font-size: 14pt;\n",
       "    margin-top: 10px;\n",
       "    margin-left: 20px;\n",
       "    margin-right: 20px;\n",
       "}\n",
       "\n",
       ".QuizCode>pre {\n",
       "    padding: 4px;\n",
       "}\n",
       "\n",
       ".Quiz code {\n",
       "    background-color: lightgray;\n",
       "    color: black;\n",
       "}\n",
       "\n",
       ".Quiz .QuizCode code {\n",
       "    background-color: inherit;\n",
       "    color: inherit;\n",
       "}\n",
       "\n",
       "\n",
       ".Quiz .MCButton code {\n",
       "    background-color: inherit;\n",
       "    color: inherit;\n",
       "}\n",
       "\n",
       ".MCButton .QuizCode {\n",
       "    text-align: left;\n",
       "}\n",
       "\n",
       "\n",
       "\n",
       "\n",
       ".Answer {\n",
       "    border-radius: inherit;\n",
       "    display: grid;\n",
       "    grid-gap: 10px;\n",
       "    grid-template-columns: 1fr 1fr;\n",
       "    margin: 10px 0;\n",
       "}\n",
       "\n",
       "@media only screen and (max-width:480px) {\n",
       "    .Answer {\n",
       "        grid-template-columns: 1fr;\n",
       "    }\n",
       "\n",
       "}\n",
       "\n",
       ".Feedback {\n",
       "    font-size: 16pt;\n",
       "    text-align: center;\n",
       "/*    min-height: 2em;*/\n",
       "}\n",
       "\n",
       ".Input {\n",
       "    align: left;\n",
       "    font-size: 20pt;\n",
       "}\n",
       "\n",
       ".Input-text {\n",
       "    display: block;\n",
       "    margin: 10px;\n",
       "    color: inherit;\n",
       "    width: unset;\n",
       "    min-width: 140px;\n",
       "    max-width: 93%;\n",
       "    field-sizing: content;\n",
       "    background-color: var(--jq-numeric-input-bg);\n",
       "    color: var(--jq-text-color);\n",
       "    padding: 5px;\n",
       "    padding-left: 10px;\n",
       "    font-family: inherit;\n",
       "    font-size: 20px;\n",
       "    font-weight: inherit;\n",
       "    line-height: 20pt;\n",
       "    border: none;\n",
       "    border-radius: 0.2rem;\n",
       "    transition: box-shadow 0.1s);\n",
       "}\n",
       "\n",
       ".Input-text:focus {\n",
       "    /*outline: none;*/\n",
       "    background-color: var(--jq-numeric-input-bg);\n",
       "    box-shadow: 0.6rem 0.8rem 1.4rem -0.5rem var(--jq-numeric-input-shadow);\n",
       "}\n",
       "\n",
       ".MCButton {\n",
       "    background: var(--jq-mc-button-bg);\n",
       "    border: 1px solid var(--jq-mc-button-border);\n",
       "    border-radius: inherit;\n",
       "    color: #333333;\n",
       "    padding: 10px;\n",
       "    font-size: 16px;\n",
       "    cursor: pointer;\n",
       "    text-align: center;\n",
       "    display: flex;\n",
       "    align-items: center;\n",
       "    justify-content: center;\n",
       "}\n",
       "\n",
       ".MCButton p {\n",
       "    color: inherit;\n",
       "}\n",
       "\n",
       ".MultipleChoiceQn {\n",
       "    padding: 10px;\n",
       "    background: var(--jq-multiple-choice-bg);\n",
       "    color: var(--jq-text-color);\n",
       "    border-radius: inherit;\n",
       "}\n",
       "\n",
       ".ManyChoiceQn {\n",
       "    padding: 10px;\n",
       "    background: var(--jq-many-choice-bg);\n",
       "    color: var(--jq-text-color);\n",
       "    border-radius: inherit;\n",
       "}\n",
       "\n",
       ".NumericQn {\n",
       "    background: var(--jq-numeric-bg);\n",
       "    border-radius: inherit;\n",
       "    color: var(--jq-text-color);\n",
       "    padding: 10px;\n",
       "}\n",
       "\n",
       ".NumericQn p {\n",
       "    color: inherit;\n",
       "}\n",
       "\n",
       ".StringQn {\n",
       "    background: var(--jq-string-bg);\n",
       "    border-radius: inherit;\n",
       "    color: var(--jq-text-color);\n",
       "    padding: 10px;\n",
       "}\n",
       "\n",
       ".StringQn p {\n",
       "    color: inherit;\n",
       "}\n",
       "\n",
       "\n",
       ".InpLabel {\n",
       "    color: var(--jq-numeric-input-label);\n",
       "    float: left;\n",
       "    font-size: 15pt;\n",
       "    line-height: 34px;\n",
       "    margin-right: 10px;\n",
       "}\n",
       "\n",
       ".incorrect {\n",
       "    color: var(--jq-incorrect-color);\n",
       "}\n",
       "\n",
       ".correct {\n",
       "    color: var(--jq-correct-color);\n",
       "}\n",
       "\n",
       ".correctButton {\n",
       "    /*\n",
       "    background: var(--jq-correct-color);\n",
       "   */\n",
       "    animation: correct-anim 0.6s ease;\n",
       "    animation-fill-mode: forwards;\n",
       "    box-shadow: inset 0 0 5px var(--jq-mc-button-inset-shadow);\n",
       "    color: var(--jq-text-color);\n",
       "    /*outline: none;*/\n",
       "}\n",
       "\n",
       ".incorrectButton {\n",
       "    animation: incorrect-anim 0.8s ease;\n",
       "    animation-fill-mode: forwards;\n",
       "    box-shadow: inset 0 0 5px var(--jq-mc-button-inset-shadow);\n",
       "    color: var(--jq-text-color);\n",
       "    /*outline: none;*/\n",
       "}\n",
       "\n",
       "@keyframes incorrect-anim {\n",
       "    100% {\n",
       "        background-color: var(--jq-incorrect-color);\n",
       "    }\n",
       "}\n",
       "\n",
       "@keyframes correct-anim {\n",
       "    100% {\n",
       "        background-color: var(--jq-correct-color);\n",
       "    }\n",
       "}\n",
       "</style>"
      ],
      "text/plain": [
       "<IPython.core.display.HTML object>"
      ]
     },
     "metadata": {},
     "output_type": "display_data"
    },
    {
     "data": {
      "application/javascript": "var questionsYESmRGtrnpsS=[{\"question\": \"\\u05d0\\u05d9\\u05d6\\u05d5 \\u05e4\\u05e7\\u05d5\\u05d3\\u05d4 \\u05d1\\u05beNumPy \\u05ea\\u05d9\\u05e6\\u05d5\\u05e8 \\u05de\\u05d8\\u05e8\\u05d9\\u05e6\\u05d4 \\u05d1\\u05d2\\u05d5\\u05d3\\u05dc 3x3 \\u05e9\\u05db\\u05dc \\u05d4\\u05d0\\u05d9\\u05d1\\u05e8\\u05d9\\u05dd \\u05d1\\u05d4 \\u05d4\\u05dd 7?\", \"type\": \"many_choice\", \"answers\": [{\"answer\": \"np.array([[7]*3]*3)\", \"correct\": false, \"feedback\": \"\\u05e0\\u05db\\u05d5\\u05df, \\u05d0\\u05d1\\u05dc \\u05dc\\u05d0 \\u05e8\\u05e7\"}, {\"answer\": \"np.full((3,3), 7)\", \"correct\": false, \"feedback\": \"\\u05e0\\u05db\\u05d5\\u05df, \\u05d0\\u05d1\\u05dc \\u05dc\\u05d0 \\u05e8\\u05e7\"}, {\"answer\": \"np.ones((3,3)) * 7\", \"correct\": false, \"feedback\": \"\\u05e0\\u05db\\u05d5\\u05df, \\u05d0\\u05d1\\u05dc \\u05dc\\u05d0 \\u05e8\\u05e7\"}, {\"answer\": \"\\u05db\\u05dc \\u05d4\\u05ea\\u05e9\\u05d5\\u05d1\\u05d5\\u05ea \\u05e0\\u05db\\u05d5\\u05e0\\u05d5\\u05ea\", \"correct\": true, \"feedback\": \"\\u05e0\\u05db\\u05d5\\u05df!\"}]}];\n\nif (typeof Question === 'undefined') {\n// Make a random ID\nfunction makeid(length) {\n    var result = [];\n    var characters = 'ABCDEFGHIJKLMNOPQRSTUVWXYZabcdefghijklmnopqrstuvwxyz';\n    var charactersLength = characters.length;\n    for (var i = 0; i < length; i++) {\n        result.push(characters.charAt(Math.floor(Math.random() * charactersLength)));\n    }\n    return result.join('');\n}\n// Convert LaTeX delimiters and markdown links to HTML\nfunction jaxify(string) {\n    let mystring = string;\n    let count = 0, count2 = 0;\n    let loc = mystring.search(/([^\\\\]|^)(\\$)/);\n    let loc2 = mystring.search(/([^\\\\]|^)(\\$\\$)/);\n    while (loc >= 0 || loc2 >= 0) {\n        if (loc2 >= 0) {\n            mystring = mystring.replace(/([^\\\\]|^)(\\$\\$)/, count2 % 2 ? '$1\\\\]' : '$1\\\\[');\n            count2++;\n        } else {\n            mystring = mystring.replace(/([^\\\\]|^)(\\$)/, count % 2 ? '$1\\\\)' : '$1\\\\(');\n            count++;\n        }\n        loc = mystring.search(/([^\\\\]|^)(\\$)/);\n        loc2 = mystring.search(/([^\\\\]|^)(\\$\\$)/);\n    }\n    // Replace markdown links\n    mystring = mystring.replace(/<http(.*?)>/g, '<a href=\"http$1\" target=\"_blank\" class=\"Link\">http$1</a>');\n    mystring = mystring.replace(/\\[(.*?)\\]\\((.*?)\\)/g, '<a href=\"$2\" target=\"_blank\" class=\"Link\">$1</a>');\n    return mystring;\n}\n\n// Base class for question types\nclass Question {\n    static registry = {};\n    static register(type, cls) {\n        Question.registry[type] = cls;\n    }\n    static create(qa, id, index, options, rootDiv) {\n        const Cls = Question.registry[qa.type];\n        if (!Cls) {\n            console.error(`No question class registered for type \"${qa.type}\"`);\n            return;\n        }\n        const q = new Cls(qa, id, index, options, rootDiv);\n        q.render();\n    }\n\n    constructor(qa, id, index, options, rootDiv) {\n        this.qa = qa;\n        this.id = id;\n        this.index = index;\n        this.options = options;\n        this.rootDiv = rootDiv;\n        // wrapper\n        this.wrapper = document.createElement('div');\n        this.wrapper.id = `quizWrap${id}`;\n        this.wrapper.className = 'Quiz';\n        this.wrapper.dataset.qnum = index;\n        this.wrapper.style.maxWidth = `${options.maxWidth}px`;\n        rootDiv.appendChild(this.wrapper);\n        // question container\n        this.outerqDiv = document.createElement('div');\n        this.outerqDiv.id = `OuterquizQn${id}${index}`;\n        this.wrapper.appendChild(this.outerqDiv);\n        // question text\n        this.qDiv = document.createElement('div');\n        this.qDiv.id = `quizQn${id}${index}`;\n        if (qa.question) {\n            this.qDiv.innerHTML = jaxify(qa.question);\n            this.outerqDiv.appendChild(this.qDiv);\n        }\n        // code block\n        if (qa.code) {\n            const codeDiv = document.createElement('div');\n            codeDiv.id = `code${id}${index}`;\n            codeDiv.className = 'QuizCode';\n            const pre = document.createElement('pre');\n            const codeEl = document.createElement('code');\n            codeEl.innerHTML = qa.code;\n            pre.appendChild(codeEl);\n            codeDiv.appendChild(pre);\n            this.outerqDiv.appendChild(codeDiv);\n        }\n        // answer container\n        this.aDiv = document.createElement('div');\n        this.aDiv.id = `quizAns${id}${index}`;\n        this.aDiv.className = 'Answer';\n        this.wrapper.appendChild(this.aDiv);\n        // feedback container (append after answers)\n        this.fbDiv = document.createElement('div');\n        this.fbDiv.id = `fb${id}`;\n        this.fbDiv.className = 'Feedback';\n        this.fbDiv.dataset.answeredcorrect = 0;\n    }\n\n    render() {\n        throw new Error('render() not implemented');\n    }\n\n    preserveResponse(val) {\n        if (!this.options.preserveResponses) return;\n        const resp = document.getElementById(`responses${this.rootDiv.id}`);\n        if (!resp) return;\n        const arr = JSON.parse(resp.dataset.responses);\n        arr[this.index] = val;\n        resp.dataset.responses = JSON.stringify(arr);\n        printResponses(resp);\n    }\n\n    typeset(container) {\n        if (typeof MathJax !== 'undefined') {\n            const v = MathJax.version;\n            if (v[0] === '2') {\n                MathJax.Hub.Queue(['Typeset', MathJax.Hub]);\n            } else {\n                MathJax.typeset([container]);\n            }\n        }\n    }\n}\n\n// Choose a random subset of an array. Can also be used to shuffle the array\nfunction getRandomSubarray(arr, size) {\n    var shuffled = arr.slice(0), i = arr.length, temp, index;\n    while (i--) {\n        index = Math.floor((i + 1) * Math.random());\n        temp = shuffled[index];\n        shuffled[index] = shuffled[i];\n        shuffled[i] = temp;\n    }\n    return shuffled.slice(0, size);\n}\n\nfunction printResponses(responsesContainer) {\n    var responses=JSON.parse(responsesContainer.dataset.responses);\n    var stringResponses='<B>IMPORTANT!</B>To preserve this answer sequence for submission, when you have finalized your answers: <ol> <li> Copy the text in this cell below \"Answer String\"</li> <li> Double click on the cell directly below the Answer String, labeled \"Replace Me\"</li> <li> Select the whole \"Replace Me\" text</li> <li> Paste in your answer string and press shift-Enter.</li><li>Save the notebook using the save icon or File->Save Notebook menu item</li></ul><br><br><br><b>Answer String:</b><br> ';\n    console.log(responses);\n    responses.forEach((response, index) => {\n        if (response) {\n            console.log(index + ': ' + response);\n            stringResponses+= index + ': ' + response +\"<BR>\";\n        }\n    });\n    responsesContainer.innerHTML=stringResponses;\n}\n/* Callback function to determine whether a selected multiple-choice\n   button corresponded to a correct answer and to provide feedback\n   based on the answer */\nfunction check_mc() {\n    var id = this.id.split('-')[0];\n    //var response = this.id.split('-')[1];\n    //console.log(response);\n    //console.log(\"In check_mc(), id=\"+id);\n    //console.log(event.srcElement.id)           \n    //console.log(event.srcElement.dataset.correct)   \n    //console.log(event.srcElement.dataset.feedback)\n\n    var label = event.srcElement;\n    //console.log(label, label.nodeName);\n    var depth = 0;\n    while ((label.nodeName != \"LABEL\") && (depth < 20)) {\n        label = label.parentElement;\n        console.log(depth, label);\n        depth++;\n    }\n\n\n\n    var answers = label.parentElement.children;\n    //console.log(answers);\n\n    // Split behavior based on multiple choice vs many choice:\n    var fb = document.getElementById(\"fb\" + id);\n\n\n\n    /* Multiple choice (1 answer). Allow for 0 correct\n       answers as an edge case */\n    if (fb.dataset.numcorrect <= 1) {\n        // What follows is for the saved responses stuff\n        var outerContainer = fb.parentElement.parentElement;\n        var responsesContainer = document.getElementById(\"responses\" + outerContainer.id);\n        if (responsesContainer) {\n            //console.log(responsesContainer);\n            var response = label.firstChild.innerText;\n            if (label.querySelector(\".QuizCode\")){\n                response+= label.querySelector(\".QuizCode\").firstChild.innerText;\n            }\n            console.log(response);\n            //console.log(document.getElementById(\"quizWrap\"+id));\n            var qnum = document.getElementById(\"quizWrap\"+id).dataset.qnum;\n            console.log(\"Question \" + qnum);\n            //console.log(id, \", got numcorrect=\",fb.dataset.numcorrect);\n            var responses=JSON.parse(responsesContainer.dataset.responses);\n            console.log(responses);\n            responses[qnum]= response;\n            responsesContainer.setAttribute('data-responses', JSON.stringify(responses));\n            printResponses(responsesContainer);\n        }\n        // End code to preserve responses\n\n        for (var i = 0; i < answers.length; i++) {\n            var child = answers[i];\n            //console.log(child);\n            child.className = \"MCButton\";\n        }\n\n\n\n        if (label.dataset.correct == \"true\") {\n            // console.log(\"Correct action\");\n            if (\"feedback\" in label.dataset) {\n                fb.innerHTML = jaxify(label.dataset.feedback);\n            } else {\n                fb.innerHTML = \"Correct!\";\n            }\n            label.classList.add(\"correctButton\");\n\n            fb.className = \"Feedback\";\n            fb.classList.add(\"correct\");\n\n        } else {\n            if (\"feedback\" in label.dataset) {\n                fb.innerHTML = jaxify(label.dataset.feedback);\n            } else {\n                fb.innerHTML = \"Incorrect -- try again.\";\n            }\n            //console.log(\"Error action\");\n            label.classList.add(\"incorrectButton\");\n            fb.className = \"Feedback\";\n            fb.classList.add(\"incorrect\");\n        }\n    }\n    else { /* Many choice (more than 1 correct answer) */\n        var reset = false;\n        var feedback;\n         if (label.dataset.correct == \"true\") {\n            if (\"feedback\" in label.dataset) {\n                feedback = jaxify(label.dataset.feedback);\n            } else {\n                feedback = \"Correct!\";\n            }\n            if (label.dataset.answered <= 0) {\n                if (fb.dataset.answeredcorrect < 0) {\n                    fb.dataset.answeredcorrect = 1;\n                    reset = true;\n                } else {\n                    fb.dataset.answeredcorrect++;\n                }\n                if (reset) {\n                    for (var i = 0; i < answers.length; i++) {\n                        var child = answers[i];\n                        child.className = \"MCButton\";\n                        child.dataset.answered = 0;\n                    }\n                }\n                label.classList.add(\"correctButton\");\n                label.dataset.answered = 1;\n                fb.className = \"Feedback\";\n                fb.classList.add(\"correct\");\n\n            }\n        } else {\n            if (\"feedback\" in label.dataset) {\n                feedback = jaxify(label.dataset.feedback);\n            } else {\n                feedback = \"Incorrect -- try again.\";\n            }\n            if (fb.dataset.answeredcorrect > 0) {\n                fb.dataset.answeredcorrect = -1;\n                reset = true;\n            } else {\n                fb.dataset.answeredcorrect--;\n            }\n\n            if (reset) {\n                for (var i = 0; i < answers.length; i++) {\n                    var child = answers[i];\n                    child.className = \"MCButton\";\n                    child.dataset.answered = 0;\n                }\n            }\n            label.classList.add(\"incorrectButton\");\n            fb.className = \"Feedback\";\n            fb.classList.add(\"incorrect\");\n        }\n        // What follows is for the saved responses stuff\n        var outerContainer = fb.parentElement.parentElement;\n        var responsesContainer = document.getElementById(\"responses\" + outerContainer.id);\n        if (responsesContainer) {\n            //console.log(responsesContainer);\n            var response = label.firstChild.innerText;\n            if (label.querySelector(\".QuizCode\")){\n                response+= label.querySelector(\".QuizCode\").firstChild.innerText;\n            }\n            console.log(response);\n            //console.log(document.getElementById(\"quizWrap\"+id));\n            var qnum = document.getElementById(\"quizWrap\"+id).dataset.qnum;\n            console.log(\"Question \" + qnum);\n            //console.log(id, \", got numcorrect=\",fb.dataset.numcorrect);\n            var responses=JSON.parse(responsesContainer.dataset.responses);\n            if (label.dataset.correct == \"true\") {\n                if (typeof(responses[qnum]) == \"object\"){\n                    if (!responses[qnum].includes(response))\n                        responses[qnum].push(response);\n                } else{\n                    responses[qnum]= [ response ];\n                }\n            } else {\n                responses[qnum]= response;\n            }\n            console.log(responses);\n            responsesContainer.setAttribute('data-responses', JSON.stringify(responses));\n            printResponses(responsesContainer);\n        }\n        // End save responses stuff\n\n\n\n        var numcorrect = fb.dataset.numcorrect;\n        var answeredcorrect = fb.dataset.answeredcorrect;\n        if (answeredcorrect >= 0) {\n            fb.innerHTML = feedback + \" [\" + answeredcorrect + \"/\" + numcorrect + \"]\";\n        } else {\n            fb.innerHTML = feedback + \" [\" + 0 + \"/\" + numcorrect + \"]\";\n        }\n\n\n    }\n\n    if (typeof MathJax != 'undefined') {\n        var version = MathJax.version;\n        console.log('MathJax version', version);\n        if (version[0] == \"2\") {\n            MathJax.Hub.Queue([\"Typeset\", MathJax.Hub]);\n        } else if (version[0] == \"3\") {\n            MathJax.typeset([fb]);\n        }\n    } else {\n        console.log('MathJax not detected');\n    }\n\n}\n\n\n/* Function to produce the HTML buttons for a multiple choice/\n   many choice question  and to update the CSS tags based on\n   the question type */\nfunction make_mc(qa, shuffle_answers, outerqDiv, qDiv, aDiv, id) {\n\n    var shuffled;\n    if (shuffle_answers == true) {\n        //console.log(shuffle_answers+\" read as true\");\n        shuffled = getRandomSubarray(qa.answers, qa.answers.length);\n    } else {\n        //console.log(shuffle_answers+\" read as false\");\n        shuffled = qa.answers;\n    }\n\n\n    var num_correct = 0;\n\n    shuffled.forEach((item, index, ans_array) => {\n        //console.log(answer);\n\n        // Make input element\n        var inp = document.createElement(\"input\");\n        inp.type = \"radio\";\n        inp.id = \"quizo\" + id + index;\n        inp.style = \"display:none;\";\n        aDiv.append(inp);\n\n        //Make label for input element\n        var lab = document.createElement(\"label\");\n        lab.className = \"MCButton\";\n        lab.id = id + '-' + index;\n        lab.onclick = check_mc;\n        var aSpan = document.createElement('span');\n        aSpan.classsName = \"\";\n        //qDiv.id=\"quizQn\"+id+index;\n        if (\"answer\" in item) {\n            aSpan.innerHTML = jaxify(item.answer);\n            //aSpan.innerHTML=item.answer;\n        }\n        lab.append(aSpan);\n\n        // Create div for code inside question\n        var codeSpan;\n        if (\"code\" in item) {\n            codeSpan = document.createElement('span');\n            codeSpan.id = \"code\" + id + index;\n            codeSpan.className = \"QuizCode\";\n            var codePre = document.createElement('pre');\n            codeSpan.append(codePre);\n            var codeCode = document.createElement('code');\n            codePre.append(codeCode);\n            codeCode.innerHTML = item.code;\n            lab.append(codeSpan);\n            //console.log(codeSpan);\n        }\n\n        //lab.textContent=item.answer;\n\n        // Set the data attributes for the answer\n        lab.setAttribute('data-correct', item.correct);\n        if (item.correct) {\n            num_correct++;\n        }\n        if (\"feedback\" in item) {\n            lab.setAttribute('data-feedback', item.feedback);\n        }\n        lab.setAttribute('data-answered', 0);\n\n        aDiv.append(lab);\n\n    });\n\n    if (num_correct > 1) {\n        outerqDiv.className = \"ManyChoiceQn\";\n    } else {\n        outerqDiv.className = \"MultipleChoiceQn\";\n    }\n\n    return num_correct;\n\n}\n// Object-oriented wrapper for MC/MANY choice\nclass MCQuestion extends Question {\n    constructor(qa, id, idx, opts, rootDiv) { super(qa, id, idx, opts, rootDiv); }\n    render() {\n        //console.log(\"options.shuffleAnswers \" + this.options.shuffleAnswers);\n        const numCorrect = make_mc(\n            this.qa,\n            this.options.shuffleAnswers,\n            this.outerqDiv,\n            this.qDiv,\n            this.aDiv,\n            this.id\n        );\n        if ('answer_cols' in this.qa) {\n            this.aDiv.style.gridTemplateColumns =\n                'repeat(' + this.qa.answer_cols + ', 1fr)';\n        }\n        this.fbDiv.dataset.numcorrect = numCorrect;\n        this.wrapper.appendChild(this.fbDiv);\n    }\n}\nQuestion.register('multiple_choice', MCQuestion);\nQuestion.register('many_choice', MCQuestion);\nfunction check_numeric(ths, event) {\n\n    if (event.keyCode === 13) {\n        ths.blur();\n\n        var id = ths.id.split('-')[0];\n\n        var submission = ths.value;\n        if (submission.indexOf('/') != -1) {\n            var sub_parts = submission.split('/');\n            //console.log(sub_parts);\n            submission = sub_parts[0] / sub_parts[1];\n        }\n        //console.log(\"Reader entered\", submission);\n\n        if (\"precision\" in ths.dataset) {\n            var precision = ths.dataset.precision;\n            submission = Number(Number(submission).toPrecision(precision));\n        }\n\n\n        //console.log(\"In check_numeric(), id=\"+id);\n        //console.log(event.srcElement.id)           \n        //console.log(event.srcElement.dataset.feedback)\n\n        var fb = document.getElementById(\"fb\" + id);\n        fb.style.display = \"none\";\n        fb.innerHTML = \"Incorrect -- try again.\";\n\n        var answers = JSON.parse(ths.dataset.answers);\n        //console.log(answers);\n\n        var defaultFB = \"Incorrect. Try again.\";\n        var correct;\n        var done = false;\n        answers.every(answer => {\n            //console.log(answer.type);\n\n            correct = false;\n            // if (answer.type==\"value\"){\n            if ('value' in answer) {\n                var value;\n                if (\"precision\" in ths.dataset) {\n                    value = answer.value.toPrecision(ths.dataset.precision);\n                } else {\n                    value = answer.value;\n                }\n                if (submission == value) {\n                    if (\"feedback\" in answer) {\n                        fb.innerHTML = jaxify(answer.feedback);\n                    } else {\n                        fb.innerHTML = jaxify(\"Correct\");\n                    }\n                    correct = answer.correct;\n                    //console.log(answer.correct);\n                    done = true;\n                }\n\n                // } else if (answer.type==\"range\") {\n            } else if ('range' in answer) {\n                console.log(answer.range);\n                console.log(submission, submission >=answer.range[0], submission < answer.range[1])\n                if ((submission >= answer.range[0]) && (submission < answer.range[1])) {\n                    fb.innerHTML = jaxify(answer.feedback);\n                    correct = answer.correct;\n                    console.log(answer.correct);\n                    done = true;\n                }\n            } else if (answer.type == \"default\") {\n                if (\"feedback\" in answer) {\n                    defaultFB = answer.feedback;\n                } \n            }\n            if (done) {\n                return false; // Break out of loop if this has been marked correct\n            } else {\n                return true; // Keep looking for case that includes this as a correct answer\n            }\n        });\n        console.log(\"done:\", done);\n\n        if ((!done) && (defaultFB != \"\")) {\n            fb.innerHTML = jaxify(defaultFB);\n            //console.log(\"Default feedback\", defaultFB);\n        }\n\n        fb.style.display = \"block\";\n        if (correct) {\n            ths.className = \"Input-text\";\n            ths.classList.add(\"correctButton\");\n            fb.className = \"Feedback\";\n            fb.classList.add(\"correct\");\n        } else {\n            ths.className = \"Input-text\";\n            ths.classList.add(\"incorrectButton\");\n            fb.className = \"Feedback\";\n            fb.classList.add(\"incorrect\");\n        }\n\n        // What follows is for the saved responses stuff\n        var outerContainer = fb.parentElement.parentElement;\n        var responsesContainer = document.getElementById(\"responses\" + outerContainer.id);\n        if (responsesContainer) {\n            console.log(submission);\n            var qnum = document.getElementById(\"quizWrap\"+id).dataset.qnum;\n            //console.log(\"Question \" + qnum);\n            //console.log(id, \", got numcorrect=\",fb.dataset.numcorrect);\n            var responses=JSON.parse(responsesContainer.dataset.responses);\n            console.log(responses);\n            if (submission == ths.value){\n                responses[qnum]= submission;\n            } else {\n                responses[qnum]= ths.value + \"(\" + submission +\")\";\n            }\n            responsesContainer.setAttribute('data-responses', JSON.stringify(responses));\n            printResponses(responsesContainer);\n        }\n        // End code to preserve responses\n\n        if (typeof MathJax != 'undefined') {\n            var version = MathJax.version;\n            console.log('MathJax version', version);\n            if (version[0] == \"2\") {\n                MathJax.Hub.Queue([\"Typeset\", MathJax.Hub]);\n            } else if (version[0] == \"3\") {\n                MathJax.typeset([fb]);\n            }\n        } else {\n            console.log('MathJax not detected');\n        }\n        // After correct answer, if next JupyterQuiz question exists and has a text input, scroll by current question height\n        if (correct) {\n            // find the current question wrapper\n            var wrapper = ths.closest('.Quiz');\n            if (wrapper) {\n                var nextWrapper = wrapper.nextElementSibling;\n                if (nextWrapper && nextWrapper.classList.contains('Quiz')) {\n                    var nextInput = nextWrapper.querySelector('input.Input-text');\n                    if (nextInput) {\n                        var height = wrapper.getBoundingClientRect().height;\n                        console.log(height);\n                        nextInput.focus();\n                    }\n                }\n            }\n        }\n        return false;\n    }\n\n}\n// Object-oriented wrapper for numeric questions\nclass NumericQuestion extends Question {\n    constructor(qa, id, idx, opts, rootDiv) {\n        super(qa, id, idx, opts, rootDiv);\n    }\n    render() {\n        make_numeric(this.qa, this.outerqDiv, this.qDiv, this.aDiv, this.id);\n        this.wrapper.appendChild(this.fbDiv);\n    }\n}\nQuestion.register('numeric', NumericQuestion);\n\nfunction isValid(el, charC) {\n    //console.log(\"Input char: \", charC);\n    if (charC == 46) {\n        if (el.value.indexOf('.') === -1) {\n            return true;\n        } else if (el.value.indexOf('/') != -1) {\n            var parts = el.value.split('/');\n            if (parts[1].indexOf('.') === -1) {\n                return true;\n            }\n        }\n        else {\n            return false;\n        }\n    } else if (charC == 47) {\n        if (el.value.indexOf('/') === -1) {\n            if ((el.value != \"\") && (el.value != \".\")) {\n                return true;\n            } else {\n                return false;\n            }\n        } else {\n            return false;\n        }\n    } else if (charC == 45) {\n        var edex = el.value.indexOf('e');\n        if (edex == -1) {\n            edex = el.value.indexOf('E');\n        }\n\n        if (el.value == \"\") {\n            return true;\n        } else if (edex == (el.value.length - 1)) { // If just after e or E\n            return true;\n        } else {\n            return false;\n        }\n    } else if (charC == 101) { // \"e\"\n        if ((el.value.indexOf('e') === -1) && (el.value.indexOf('E') === -1) && (el.value.indexOf('/') == -1)) {\n            // Prev symbol must be digit or decimal point:\n            if (el.value.slice(-1).search(/\\d/) >= 0) {\n                return true;\n            } else if (el.value.slice(-1).search(/\\./) >= 0) {\n                return true;\n            } else {\n                return false;\n            }\n        } else {\n            return false;\n        }\n    } else {\n        if (charC > 31 && (charC < 48 || charC > 57))\n            return false;\n    }\n    return true;\n}\n\nfunction numeric_keypress(evnt) {\n    var charC = (evnt.which) ? evnt.which : evnt.keyCode;\n\n    if (charC == 13) {\n        check_numeric(this, evnt);\n    } else {\n        return isValid(this, charC);\n    }\n}\n\n\n\n\n\nfunction make_numeric(qa, outerqDiv, qDiv, aDiv, id) {\n\n\n\n    //console.log(answer);\n\n\n    outerqDiv.className = \"NumericQn\";\n    aDiv.style.display = 'block';\n\n    var lab = document.createElement(\"label\");\n    lab.className = \"InpLabel\";\n    lab.innerHTML = \"Type numeric answer here:\";\n    aDiv.append(lab);\n\n    var inp = document.createElement(\"input\");\n    inp.type = \"text\";\n    //inp.id=\"input-\"+id;\n    inp.id = id + \"-0\";\n    inp.className = \"Input-text\";\n    inp.setAttribute('data-answers', JSON.stringify(qa.answers));\n    if (\"precision\" in qa) {\n        inp.setAttribute('data-precision', qa.precision);\n    }\n    aDiv.append(inp);\n    //console.log(inp);\n\n    //inp.addEventListener(\"keypress\", check_numeric);\n    //inp.addEventListener(\"keypress\", numeric_keypress);\n    /*\n    inp.addEventListener(\"keypress\", function(event) {\n        return numeric_keypress(this, event);\n    }\n                        );\n                        */\n    //inp.onkeypress=\"return numeric_keypress(this, event)\";\n    inp.onkeypress = numeric_keypress;\n    inp.onpaste = event => false;\n\n    inp.addEventListener(\"focus\", function (event) {\n        this.value = \"\";\n        return false;\n    }\n    );\n\n\n}\n// Override show_questions to use object-oriented Question API\nfunction show_questions(json, container) {\n    // Accept container element or element ID\n    if (typeof container === 'string') {\n        container = document.getElementById(container);\n    }\n    if (!container) {\n        console.error('show_questions: invalid container', container);\n        return;\n    }\n\n    const shuffleQuestions = container.dataset.shufflequestions === 'True';\n    const shuffleAnswers = container.dataset.shuffleanswers === 'True';\n    const preserveResponses = container.dataset.preserveresponses === 'true';\n    const maxWidth = parseInt(container.dataset.maxwidth, 10) || 0;\n    let numQuestions = parseInt(container.dataset.numquestions, 10) || json.length;\n    if (numQuestions > json.length) numQuestions = json.length;\n\n    let questions = json;\n    if (shuffleQuestions || numQuestions < json.length) {\n        questions = getRandomSubarray(json, numQuestions);\n    }\n\n    questions.forEach((qa, index) => {\n        const id = makeid(8);\n        const options = {\n            shuffleAnswers: shuffleAnswers,\n            preserveResponses: preserveResponses,\n            maxWidth: maxWidth\n        };\n        Question.create(qa, id, index, options, container);\n    });\n\n    if (preserveResponses) {\n        const respDiv = document.createElement('div');\n        respDiv.id = 'responses' + container.id;\n        respDiv.className = 'JCResponses';\n        respDiv.dataset.responses = JSON.stringify([]);\n        respDiv.innerHTML = '<b>Select your answers and then follow the directions that will appear here.</b>';\n        container.appendChild(respDiv);\n    }\n\n    // Trigger MathJax typesetting if available\n    if (typeof MathJax != 'undefined') {\n        console.log(\"MathJax version\", MathJax.version);\n        var version = MathJax.version;\n        setTimeout(function(){\n            var version = MathJax.version;\n            console.log('After sleep, MathJax version', version);\n            if (version[0] == \"2\") {\n                MathJax.Hub.Queue([\"Typeset\", MathJax.Hub]);\n            } else if (version[0] == \"3\") {\n                if (MathJax.hasOwnProperty('typeset') ) {\n                    MathJax.typeset([container]);\n                } else {\n                    console.log('WARNING: Trying to force load MathJax 3');\n                    window.MathJax = {\n                        tex: {\n                            inlineMath: [['$', '$'], ['\\\\(', '\\\\)']]\n                        },\n                        svg: {\n                            fontCache: 'global'\n                        }\n                    };\n\n                    (function () {\n                        var script = document.createElement('script');\n                        script.src = 'https://cdn.jsdelivr.net/npm/mathjax@3/es5/tex-svg.js';\n                        script.async = true;\n                        document.head.appendChild(script);\n                    })();\n                }\n            }\n        }, 500);\nif (typeof version == 'undefined') {\n        } else\n        {\n            if (version[0] == \"2\") {\n                MathJax.Hub.Queue([\"Typeset\", MathJax.Hub]);\n            } else if (version[0] == \"3\") {\n                if (MathJax.hasOwnProperty('typeset') ) {\n                    MathJax.typeset([container]);\n                } else {\n                    console.log('WARNING: Trying to force load MathJax 3');\n                    window.MathJax = {\n                        tex: {\n                            inlineMath: [['$', '$'], ['\\\\(', '\\\\)']]\n                        },\n                        svg: {\n                            fontCache: 'global'\n                        }\n                    };\n\n                    (function () {\n                        var script = document.createElement('script');\n                        script.src = 'https://cdn.jsdelivr.net/npm/mathjax@3/es5/tex-svg.js';\n                        script.async = true;\n                        document.head.appendChild(script);\n                    })();\n                }\n            } else {\n                console.log(\"MathJax not found\");\n            }\n        }\n    }\n    // if (typeof MathJax !== 'undefined') {\n    //     const v = MathJax.version;\n    //     if (v[0] === '2') {\n    //         MathJax.Hub.Queue(['Typeset', MathJax.Hub]);\n    //     } else if (v[0] === '3') {\n    //         MathJax.typeset([container]);\n    //     }\n    // }\n\n    // Prevent link clicks from bubbling up\n    Array.from(container.getElementsByClassName('Link')).forEach(link => {\n        link.addEventListener('click', e => e.stopPropagation());\n    });\n}\nfunction levenshteinDistance(a, b) {\n    if (a.length === 0) return b.length;\n    if (b.length === 0) return a.length;\n\n    const matrix = Array(b.length + 1).fill(null).map(() => Array(a.length + 1).fill(null));\n\n    for (let i = 0; i <= a.length; i++) {\n        matrix[0][i] = i;\n    }\n\n    for (let j = 0; j <= b.length; j++) {\n        matrix[j][0] = j;\n    }\n\n    for (let j = 1; j <= b.length; j++) {\n        for (let i = 1; i <= a.length; i++) {\n            const cost = a[i - 1] === b[j - 1] ? 0 : 1;\n            matrix[j][i] = Math.min(\n                matrix[j - 1][i] + 1, // Deletion\n                matrix[j][i - 1] + 1, // Insertion\n                matrix[j - 1][i - 1] + cost // Substitution\n            );\n        }\n    }\n    return matrix[b.length][a.length];\n}\n// Object-oriented wrapper for string input questions\nclass StringQuestion extends Question {\n    constructor(qa, id, idx, opts, rootDiv) {\n        super(qa, id, idx, opts, rootDiv);\n    }\n    render() {\n        make_string(this.qa, this.outerqDiv, this.qDiv, this.aDiv, this.id);\n        this.wrapper.appendChild(this.fbDiv);\n    }\n}\nQuestion.register('string', StringQuestion);\n\nfunction check_string(ths, event) {\n    if (event.keyCode === 13) {\n        ths.blur();\n\n        var id = ths.id.split('-')[0];\n        var submission = ths.value.trim();\n        var fb = document.getElementById(\"fb\" + id);\n        fb.style.display = \"none\";\n        fb.innerHTML = \"Incorrect -- try again.\";\n\n        var answers = JSON.parse(ths.dataset.answers);\n        var defaultFB = \"Incorrect. Try again.\";\n        var correct;\n        var done = false;\n\n        // Handle default answer pattern: filter out and capture default feedback\n        var filteredAnswers = [];\n        answers.forEach(answer => {\n            if (answer.type === \"default\") {\n                defaultFB = answer.feedback;\n            } else {\n                filteredAnswers.push(answer);\n            }\n        });\n        answers = filteredAnswers;\n\n        answers.every(answer => {\n            correct = false;\n\n            let match = false;\n            if (answer.match_case) {\n                match = submission === answer.answer;\n            } else {\n                match = submission.toLowerCase() === answer.answer.toLowerCase();\n            }\n            console.log(submission);\n            console.log(answer.answer);\n            console.log(match);\n\n            if (match) {\n                if (\"feedback\" in answer) {\n                    fb.innerHTML = jaxify(answer.feedback);\n                } else {\n                    fb.innerHTML = jaxify(\"Correct\");\n                }\n                correct = answer.correct;\n                done = true;\n            } else if (answer.fuzzy_threshold) {\n                var max_length = Math.max(submission.length, answer.answer.length);\n                var ratio;\n                if (answer.match_case) {\n                    ratio = 1- (levenshteinDistance(submission, answer.answer) / max_length);\n                } else {\n                    ratio = 1- (levenshteinDistance(submission.toLowerCase(),\n                                                    answer.answer.toLowerCase()) / max_length);\n                }\n                if (ratio >= answer.fuzzy_threshold) {\n                    if (\"feedback\" in answer) {\n                        fb.innerHTML = jaxify(\"(Fuzzy) \" + answer.feedback);\n                    } else {\n                        fb.innerHTML = jaxify(\"Correct\");\n                    }\n                    correct = answer.correct;\n                    done = true;\n                }\n\n            }\n\n            if (done) {\n                return false;\n            } else {\n                return true;\n            }\n        });\n\n        if ((!done) && (defaultFB != \"\")) {\n            fb.innerHTML = jaxify(defaultFB);\n        }\n\n        fb.style.display = \"block\";\n        if (correct) {\n            ths.className = \"Input-text\";\n            ths.classList.add(\"correctButton\");\n            fb.className = \"Feedback\";\n            fb.classList.add(\"correct\");\n        } else {\n            ths.className = \"Input-text\";\n            ths.classList.add(\"incorrectButton\");\n            fb.className = \"Feedback\";\n            fb.classList.add(\"incorrect\");\n        }\n\n        var outerContainer = fb.parentElement.parentElement;\n        var responsesContainer = document.getElementById(\"responses\" + outerContainer.id);\n        if (responsesContainer) {\n            var qnum = document.getElementById(\"quizWrap\" + id).dataset.qnum;\n            var responses = JSON.parse(responsesContainer.dataset.responses);\n            responses[qnum] = submission;\n            responsesContainer.setAttribute('data-responses', JSON.stringify(responses));\n            printResponses(responsesContainer);\n        }\n\n        if (typeof MathJax != 'undefined') {\n            var version = MathJax.version;\n            if (version[0] == \"2\") {\n                MathJax.Hub.Queue([\"Typeset\", MathJax.Hub]);\n            } else if (version[0] == \"3\") {\n                MathJax.typeset([fb]);\n            }\n        } else {\n            console.log('MathJax not detected');\n        }\n        // After correct answer, if next JupyterQuiz question exists and has a text input, scroll by current question height\n        if (correct) {\n            var wrapper = ths.closest('.Quiz');\n            if (wrapper) {\n                var nextWrapper = wrapper.nextElementSibling;\n                if (nextWrapper && nextWrapper.classList.contains('Quiz')) {\n                    var nextInput = nextWrapper.querySelector('input.Input-text');\n                    if (nextInput) {\n                        var height = wrapper.getBoundingClientRect().height;\n                        nextInput.focus();\n                    }\n                }\n            }\n        }\n        return false;\n    }\n}\n\nfunction string_keypress(evnt) {\n    var charC = (evnt.which) ? evnt.which : evnt.keyCode;\n\n    if (charC == 13) {\n        check_string(this, evnt);\n    } \n}\n\n\nfunction make_string(qa, outerqDiv, qDiv, aDiv, id) {\n    outerqDiv.className = \"StringQn\";\n    aDiv.style.display = 'block';\n\n    var lab = document.createElement(\"label\");\n    lab.className = \"InpLabel\";\n    lab.innerHTML = \"Type your answer here:\";\n    aDiv.append(lab);\n\n    var inp = document.createElement(\"input\");\n    inp.type = \"text\";\n    inp.id = id + \"-0\";\n    inp.className = \"Input-text\";\n    inp.setAttribute('data-answers', JSON.stringify(qa.answers));\n    // Apply optional input width (approx. number of characters, in em units)\n    if (qa.input_width != null) {\n        inp.style['min-width'] = qa.input_width + 'em';\n    }\n    aDiv.append(inp);\n\n    inp.onkeypress = string_keypress;\n    inp.onpaste = event => false;\n\n    inp.addEventListener(\"focus\", function (event) {\n        this.value = \"\";\n        return false;\n    });\n}\n/*\n * Handle asynchrony issues when re-running quizzes in Jupyter notebooks.\n * Ensures show_questions is called after the container div is in the DOM.\n */\nfunction try_show() {\n  if (document.getElementById(\"YESmRGtrnpsS\")) {\n    show_questions(questionsYESmRGtrnpsS, YESmRGtrnpsS);\n  } else {\n    setTimeout(try_show, 200);\n  }\n};\n// Invoke immediately\n{\n  try_show();\n}\n}\n",
      "text/plain": [
       "<IPython.core.display.Javascript object>"
      ]
     },
     "metadata": {},
     "output_type": "display_data"
    }
   ],
   "source": [
    "import json\n",
    "from jupyterquiz import display_quiz\n",
    "example = \\\n",
    "'''\n",
    "   [{\n",
    "    \n",
    "        \"question\": \"איזו פקודה ב־NumPy תיצור מטריצה בגודל 3x3 שכל האיברים בה הם 7?\",\n",
    "        \"type\": \"many_choice\",\n",
    "        \"answers\": [\n",
    "            {\n",
    "                \"answer\": \"np.array([[7]*3]*3)\",\n",
    "                \"correct\": false,\n",
    "                \"feedback\": \"נכון, אבל לא רק\"\n",
    "            },\n",
    "            {\n",
    "                \"answer\": \"np.full((3,3), 7)\",\n",
    "                \"correct\": false,\n",
    "                \"feedback\": \"נכון, אבל לא רק\"\n",
    "            },\n",
    "            {\n",
    "                \"answer\": \"np.ones((3,3)) * 7\",\n",
    "                \"correct\": false,\n",
    "                \"feedback\": \"נכון, אבל לא רק\"\n",
    "\n",
    "            },\n",
    "            {\n",
    "                \"answer\": \"כל התשובות נכונות\",\n",
    "                \"correct\": true,\n",
    "                \"feedback\": \"נכון!\"\n",
    "\n",
    "            }\n",
    "        ]\n",
    "    }]\n",
    "'''\n",
    "myquiz = json.loads(example)\n",
    "display_quiz(myquiz)"
   ]
  },
  {
   "cell_type": "markdown",
   "id": "44c63380",
   "metadata": {},
   "source": [
    "### Array indexing (אינדוקס במערכים)\n",
    "ל־NumPy יש כמה דרכים לגשת לטווח אינדקסים במערכים.\n",
    "\n",
    "#### Slicing (פריסה):\n",
    "בדומה לרשומות בפייתון, גם מערכים ניתנים לפריסה (slice). מאחר שמערכים יכולים להיות רב־ממדיים, יש לציין פריסה לכל ממד.\n",
    "\n",
    "ניצור מערך בגודל 3x4, כלומר שלוש שורות וארבעה עמודות:"
   ]
  },
  {
   "cell_type": "code",
   "execution_count": null,
   "id": "f089e1f6",
   "metadata": {},
   "outputs": [],
   "source": [
    "# Create the following rank 2 array with shape (3, 4)\n",
    "a = np.array([[1,2,3,4], \n",
    "              [5,6,7,8], \n",
    "              [9,10,11,12]])"
   ]
  },
  {
   "cell_type": "markdown",
   "id": "5089ee17",
   "metadata": {},
   "source": [
    "#### חיתוך (Slicing) של מערך\n",
    "נשתמש ב־slicing כדי לבחור תת־מערך:  \n",
    "שתי השורות הראשונות (אינדקסים 0 ו־1) ועמודות 1 ו־2 (האינדקסים האמצעיים)."
   ]
  },
  {
   "cell_type": "code",
   "execution_count": null,
   "id": "061708ba",
   "metadata": {},
   "outputs": [],
   "source": [
    "# Use slicing to pull out the subarray consisting of the first 2 rows\n",
    "# and columns 1 and 2; b is the following array of shape (2, 2):\n",
    "b = a[:2, 1:3]"
   ]
  },
  {
   "cell_type": "markdown",
   "id": "ddd1219b",
   "metadata": {},
   "source": [
    "#### קשר בין מערך ותת־מערך\n",
    "חשוב לדעת: חיתוך במערכים של NumPy מחזיר **מבט (View)** אל הנתונים המקוריים, ולא עותק.  \n",
    "לכן שינוי בתת־מערך ישפיע על המערך המקורי."
   ]
  },
  {
   "cell_type": "code",
   "execution_count": null,
   "id": "76673d69",
   "metadata": {},
   "outputs": [],
   "source": [
    "# A slice of an array is a view into the same data, so modifying it\n",
    "# will modify the original array.\n",
    "print(a[0, 1])   \n",
    "b[0, 0] = 77     # b[0, 0] is the same piece of data as a[0, 1]\n",
    "print(a[0, 1])   "
   ]
  },
  {
   "cell_type": "code",
   "execution_count": null,
   "id": "fc5bda03",
   "metadata": {
    "tags": [
     "remove-input"
    ]
   },
   "outputs": [
    {
     "data": {
      "text/html": [
       "<div id=\"AjlBbAXHHgYo\" data-shufflequestions=\"False\" data-shuffleanswers=\"True\" data-preserveresponses=\"false\" data-numquestions=\"1000000\" data-maxwidth=\"600\" style=\"border-radius: 10px; text-align: left\"><style>\n",
       "#AjlBbAXHHgYo {\n",
       "   --jq-multiple-choice-bg: #6f78ffff;\n",
       "   --jq-mc-button-bg: #fafafa;\n",
       "   --jq-mc-button-border: #e0e0e0e0;\n",
       "   --jq-mc-button-inset-shadow: #555555;\n",
       "   --jq-many-choice-bg: #f75c03ff;\n",
       "   --jq-numeric-bg: #392061ff;\n",
       "   --jq-numeric-input-bg: #c0c0c0;\n",
       "   --jq-numeric-input-label: #101010;\n",
       "   --jq-numeric-input-shadow: #999999;\n",
       "   --jq-string-bg: #4c1a57;\n",
       "   --jq-incorrect-color: #c80202;\n",
       "   --jq-correct-color: #009113;\n",
       "   --jq-text-color: #fafafa;\n",
       "}\n",
       "\n",
       ".Quiz {\n",
       "    max-width: 600px;\n",
       "    margin-top: 15px;\n",
       "    margin-left: auto;\n",
       "    margin-right: auto;\n",
       "/*    margin-bottom: 15px;*/\n",
       "/*    padding-bottom: 4px;*/\n",
       "    padding-top: 4px;\n",
       "    line-height: 1.1;\n",
       "    font-size: 16pt;\n",
       "    border-radius: inherit;\n",
       "}\n",
       "\n",
       ".QuizCode {\n",
       "    font-size: 14pt;\n",
       "    margin-top: 10px;\n",
       "    margin-left: 20px;\n",
       "    margin-right: 20px;\n",
       "}\n",
       "\n",
       ".QuizCode>pre {\n",
       "    padding: 4px;\n",
       "}\n",
       "\n",
       ".Quiz code {\n",
       "    background-color: lightgray;\n",
       "    color: black;\n",
       "}\n",
       "\n",
       ".Quiz .QuizCode code {\n",
       "    background-color: inherit;\n",
       "    color: inherit;\n",
       "}\n",
       "\n",
       "\n",
       ".Quiz .MCButton code {\n",
       "    background-color: inherit;\n",
       "    color: inherit;\n",
       "}\n",
       "\n",
       ".MCButton .QuizCode {\n",
       "    text-align: left;\n",
       "}\n",
       "\n",
       "\n",
       "\n",
       "\n",
       ".Answer {\n",
       "    border-radius: inherit;\n",
       "    display: grid;\n",
       "    grid-gap: 10px;\n",
       "    grid-template-columns: 1fr 1fr;\n",
       "    margin: 10px 0;\n",
       "}\n",
       "\n",
       "@media only screen and (max-width:480px) {\n",
       "    .Answer {\n",
       "        grid-template-columns: 1fr;\n",
       "    }\n",
       "\n",
       "}\n",
       "\n",
       ".Feedback {\n",
       "    font-size: 16pt;\n",
       "    text-align: center;\n",
       "/*    min-height: 2em;*/\n",
       "}\n",
       "\n",
       ".Input {\n",
       "    align: left;\n",
       "    font-size: 20pt;\n",
       "}\n",
       "\n",
       ".Input-text {\n",
       "    display: block;\n",
       "    margin: 10px;\n",
       "    color: inherit;\n",
       "    width: unset;\n",
       "    min-width: 140px;\n",
       "    max-width: 93%;\n",
       "    field-sizing: content;\n",
       "    background-color: var(--jq-numeric-input-bg);\n",
       "    color: var(--jq-text-color);\n",
       "    padding: 5px;\n",
       "    padding-left: 10px;\n",
       "    font-family: inherit;\n",
       "    font-size: 20px;\n",
       "    font-weight: inherit;\n",
       "    line-height: 20pt;\n",
       "    border: none;\n",
       "    border-radius: 0.2rem;\n",
       "    transition: box-shadow 0.1s);\n",
       "}\n",
       "\n",
       ".Input-text:focus {\n",
       "    /*outline: none;*/\n",
       "    background-color: var(--jq-numeric-input-bg);\n",
       "    box-shadow: 0.6rem 0.8rem 1.4rem -0.5rem var(--jq-numeric-input-shadow);\n",
       "}\n",
       "\n",
       ".MCButton {\n",
       "    background: var(--jq-mc-button-bg);\n",
       "    border: 1px solid var(--jq-mc-button-border);\n",
       "    border-radius: inherit;\n",
       "    color: #333333;\n",
       "    padding: 10px;\n",
       "    font-size: 16px;\n",
       "    cursor: pointer;\n",
       "    text-align: center;\n",
       "    display: flex;\n",
       "    align-items: center;\n",
       "    justify-content: center;\n",
       "}\n",
       "\n",
       ".MCButton p {\n",
       "    color: inherit;\n",
       "}\n",
       "\n",
       ".MultipleChoiceQn {\n",
       "    padding: 10px;\n",
       "    background: var(--jq-multiple-choice-bg);\n",
       "    color: var(--jq-text-color);\n",
       "    border-radius: inherit;\n",
       "}\n",
       "\n",
       ".ManyChoiceQn {\n",
       "    padding: 10px;\n",
       "    background: var(--jq-many-choice-bg);\n",
       "    color: var(--jq-text-color);\n",
       "    border-radius: inherit;\n",
       "}\n",
       "\n",
       ".NumericQn {\n",
       "    background: var(--jq-numeric-bg);\n",
       "    border-radius: inherit;\n",
       "    color: var(--jq-text-color);\n",
       "    padding: 10px;\n",
       "}\n",
       "\n",
       ".NumericQn p {\n",
       "    color: inherit;\n",
       "}\n",
       "\n",
       ".StringQn {\n",
       "    background: var(--jq-string-bg);\n",
       "    border-radius: inherit;\n",
       "    color: var(--jq-text-color);\n",
       "    padding: 10px;\n",
       "}\n",
       "\n",
       ".StringQn p {\n",
       "    color: inherit;\n",
       "}\n",
       "\n",
       "\n",
       ".InpLabel {\n",
       "    color: var(--jq-numeric-input-label);\n",
       "    float: left;\n",
       "    font-size: 15pt;\n",
       "    line-height: 34px;\n",
       "    margin-right: 10px;\n",
       "}\n",
       "\n",
       ".incorrect {\n",
       "    color: var(--jq-incorrect-color);\n",
       "}\n",
       "\n",
       ".correct {\n",
       "    color: var(--jq-correct-color);\n",
       "}\n",
       "\n",
       ".correctButton {\n",
       "    /*\n",
       "    background: var(--jq-correct-color);\n",
       "   */\n",
       "    animation: correct-anim 0.6s ease;\n",
       "    animation-fill-mode: forwards;\n",
       "    box-shadow: inset 0 0 5px var(--jq-mc-button-inset-shadow);\n",
       "    color: var(--jq-text-color);\n",
       "    /*outline: none;*/\n",
       "}\n",
       "\n",
       ".incorrectButton {\n",
       "    animation: incorrect-anim 0.8s ease;\n",
       "    animation-fill-mode: forwards;\n",
       "    box-shadow: inset 0 0 5px var(--jq-mc-button-inset-shadow);\n",
       "    color: var(--jq-text-color);\n",
       "    /*outline: none;*/\n",
       "}\n",
       "\n",
       "@keyframes incorrect-anim {\n",
       "    100% {\n",
       "        background-color: var(--jq-incorrect-color);\n",
       "    }\n",
       "}\n",
       "\n",
       "@keyframes correct-anim {\n",
       "    100% {\n",
       "        background-color: var(--jq-correct-color);\n",
       "    }\n",
       "}\n",
       "</style>"
      ],
      "text/plain": [
       "<IPython.core.display.HTML object>"
      ]
     },
     "metadata": {},
     "output_type": "display_data"
    },
    {
     "data": {
      "application/javascript": "var questionsAjlBbAXHHgYo=[{\"question\": \"\\u05d1\\u05d4\\u05d9\\u05e0\\u05ea\\u05df: a = np.array([1, 3, 5, 7, 9]) \\u05d0\\u05d9\\u05d6\\u05d5 \\u05e4\\u05e7\\u05d5\\u05d3\\u05d4 \\u05ea\\u05d7\\u05d6\\u05d9\\u05e8 \\u05d0\\u05ea \\u05db\\u05dc \\u05d4\\u05d0\\u05d9\\u05d1\\u05e8\\u05d9\\u05dd \\u05d4\\u05d2\\u05d3\\u05d5\\u05dc\\u05d9\\u05dd \\u05de\\u05be4?\", \"type\": \"many_choice\", \"answers\": [{\"answer\": \"a[a > 4]\", \"correct\": false, \"feedback\": \"\\u05e0\\u05db\\u05d5\\u05df, \\u05d0\\u05d1\\u05dc \\u05dc\\u05d0 \\u05e8\\u05e7\"}, {\"answer\": \"a[4:]\", \"correct\": false, \"feedback\": \"\\u05dc\\u05d0 \\u05e0\\u05db\\u05d5\\u05df, \\u05d6\\u05d5 \\u05d2\\u05d9\\u05e9\\u05d4 \\u05dc\\u05de\\u05e2\\u05e8\\u05da \\u05d4\\u05d7\\u05dc \\u05de\\u05d4\\u05d0\\u05d9\\u05e0\\u05d3\\u05e7\\u05e1 \\u05d44\"}, {\"answer\": \"a[a >= 5]\", \"correct\": false, \"feedback\": \"\\u05e0\\u05db\\u05d5\\u05df, \\u05d0\\u05d1\\u05dc \\u05dc\\u05d0 \\u05e8\\u05e7\"}, {\"answer\": \"\\u05ea\\u05e9\\u05d5\\u05d1\\u05d5\\u05ea C \\u05d5D\", \"correct\": true, \"feedback\": \"\\u05e0\\u05db\\u05d5\\u05df!\"}]}];\n\nif (typeof Question === 'undefined') {\n// Make a random ID\nfunction makeid(length) {\n    var result = [];\n    var characters = 'ABCDEFGHIJKLMNOPQRSTUVWXYZabcdefghijklmnopqrstuvwxyz';\n    var charactersLength = characters.length;\n    for (var i = 0; i < length; i++) {\n        result.push(characters.charAt(Math.floor(Math.random() * charactersLength)));\n    }\n    return result.join('');\n}\n// Convert LaTeX delimiters and markdown links to HTML\nfunction jaxify(string) {\n    let mystring = string;\n    let count = 0, count2 = 0;\n    let loc = mystring.search(/([^\\\\]|^)(\\$)/);\n    let loc2 = mystring.search(/([^\\\\]|^)(\\$\\$)/);\n    while (loc >= 0 || loc2 >= 0) {\n        if (loc2 >= 0) {\n            mystring = mystring.replace(/([^\\\\]|^)(\\$\\$)/, count2 % 2 ? '$1\\\\]' : '$1\\\\[');\n            count2++;\n        } else {\n            mystring = mystring.replace(/([^\\\\]|^)(\\$)/, count % 2 ? '$1\\\\)' : '$1\\\\(');\n            count++;\n        }\n        loc = mystring.search(/([^\\\\]|^)(\\$)/);\n        loc2 = mystring.search(/([^\\\\]|^)(\\$\\$)/);\n    }\n    // Replace markdown links\n    mystring = mystring.replace(/<http(.*?)>/g, '<a href=\"http$1\" target=\"_blank\" class=\"Link\">http$1</a>');\n    mystring = mystring.replace(/\\[(.*?)\\]\\((.*?)\\)/g, '<a href=\"$2\" target=\"_blank\" class=\"Link\">$1</a>');\n    return mystring;\n}\n\n// Base class for question types\nclass Question {\n    static registry = {};\n    static register(type, cls) {\n        Question.registry[type] = cls;\n    }\n    static create(qa, id, index, options, rootDiv) {\n        const Cls = Question.registry[qa.type];\n        if (!Cls) {\n            console.error(`No question class registered for type \"${qa.type}\"`);\n            return;\n        }\n        const q = new Cls(qa, id, index, options, rootDiv);\n        q.render();\n    }\n\n    constructor(qa, id, index, options, rootDiv) {\n        this.qa = qa;\n        this.id = id;\n        this.index = index;\n        this.options = options;\n        this.rootDiv = rootDiv;\n        // wrapper\n        this.wrapper = document.createElement('div');\n        this.wrapper.id = `quizWrap${id}`;\n        this.wrapper.className = 'Quiz';\n        this.wrapper.dataset.qnum = index;\n        this.wrapper.style.maxWidth = `${options.maxWidth}px`;\n        rootDiv.appendChild(this.wrapper);\n        // question container\n        this.outerqDiv = document.createElement('div');\n        this.outerqDiv.id = `OuterquizQn${id}${index}`;\n        this.wrapper.appendChild(this.outerqDiv);\n        // question text\n        this.qDiv = document.createElement('div');\n        this.qDiv.id = `quizQn${id}${index}`;\n        if (qa.question) {\n            this.qDiv.innerHTML = jaxify(qa.question);\n            this.outerqDiv.appendChild(this.qDiv);\n        }\n        // code block\n        if (qa.code) {\n            const codeDiv = document.createElement('div');\n            codeDiv.id = `code${id}${index}`;\n            codeDiv.className = 'QuizCode';\n            const pre = document.createElement('pre');\n            const codeEl = document.createElement('code');\n            codeEl.innerHTML = qa.code;\n            pre.appendChild(codeEl);\n            codeDiv.appendChild(pre);\n            this.outerqDiv.appendChild(codeDiv);\n        }\n        // answer container\n        this.aDiv = document.createElement('div');\n        this.aDiv.id = `quizAns${id}${index}`;\n        this.aDiv.className = 'Answer';\n        this.wrapper.appendChild(this.aDiv);\n        // feedback container (append after answers)\n        this.fbDiv = document.createElement('div');\n        this.fbDiv.id = `fb${id}`;\n        this.fbDiv.className = 'Feedback';\n        this.fbDiv.dataset.answeredcorrect = 0;\n    }\n\n    render() {\n        throw new Error('render() not implemented');\n    }\n\n    preserveResponse(val) {\n        if (!this.options.preserveResponses) return;\n        const resp = document.getElementById(`responses${this.rootDiv.id}`);\n        if (!resp) return;\n        const arr = JSON.parse(resp.dataset.responses);\n        arr[this.index] = val;\n        resp.dataset.responses = JSON.stringify(arr);\n        printResponses(resp);\n    }\n\n    typeset(container) {\n        if (typeof MathJax !== 'undefined') {\n            const v = MathJax.version;\n            if (v[0] === '2') {\n                MathJax.Hub.Queue(['Typeset', MathJax.Hub]);\n            } else {\n                MathJax.typeset([container]);\n            }\n        }\n    }\n}\n\n// Choose a random subset of an array. Can also be used to shuffle the array\nfunction getRandomSubarray(arr, size) {\n    var shuffled = arr.slice(0), i = arr.length, temp, index;\n    while (i--) {\n        index = Math.floor((i + 1) * Math.random());\n        temp = shuffled[index];\n        shuffled[index] = shuffled[i];\n        shuffled[i] = temp;\n    }\n    return shuffled.slice(0, size);\n}\n\nfunction printResponses(responsesContainer) {\n    var responses=JSON.parse(responsesContainer.dataset.responses);\n    var stringResponses='<B>IMPORTANT!</B>To preserve this answer sequence for submission, when you have finalized your answers: <ol> <li> Copy the text in this cell below \"Answer String\"</li> <li> Double click on the cell directly below the Answer String, labeled \"Replace Me\"</li> <li> Select the whole \"Replace Me\" text</li> <li> Paste in your answer string and press shift-Enter.</li><li>Save the notebook using the save icon or File->Save Notebook menu item</li></ul><br><br><br><b>Answer String:</b><br> ';\n    console.log(responses);\n    responses.forEach((response, index) => {\n        if (response) {\n            console.log(index + ': ' + response);\n            stringResponses+= index + ': ' + response +\"<BR>\";\n        }\n    });\n    responsesContainer.innerHTML=stringResponses;\n}\n/* Callback function to determine whether a selected multiple-choice\n   button corresponded to a correct answer and to provide feedback\n   based on the answer */\nfunction check_mc() {\n    var id = this.id.split('-')[0];\n    //var response = this.id.split('-')[1];\n    //console.log(response);\n    //console.log(\"In check_mc(), id=\"+id);\n    //console.log(event.srcElement.id)           \n    //console.log(event.srcElement.dataset.correct)   \n    //console.log(event.srcElement.dataset.feedback)\n\n    var label = event.srcElement;\n    //console.log(label, label.nodeName);\n    var depth = 0;\n    while ((label.nodeName != \"LABEL\") && (depth < 20)) {\n        label = label.parentElement;\n        console.log(depth, label);\n        depth++;\n    }\n\n\n\n    var answers = label.parentElement.children;\n    //console.log(answers);\n\n    // Split behavior based on multiple choice vs many choice:\n    var fb = document.getElementById(\"fb\" + id);\n\n\n\n    /* Multiple choice (1 answer). Allow for 0 correct\n       answers as an edge case */\n    if (fb.dataset.numcorrect <= 1) {\n        // What follows is for the saved responses stuff\n        var outerContainer = fb.parentElement.parentElement;\n        var responsesContainer = document.getElementById(\"responses\" + outerContainer.id);\n        if (responsesContainer) {\n            //console.log(responsesContainer);\n            var response = label.firstChild.innerText;\n            if (label.querySelector(\".QuizCode\")){\n                response+= label.querySelector(\".QuizCode\").firstChild.innerText;\n            }\n            console.log(response);\n            //console.log(document.getElementById(\"quizWrap\"+id));\n            var qnum = document.getElementById(\"quizWrap\"+id).dataset.qnum;\n            console.log(\"Question \" + qnum);\n            //console.log(id, \", got numcorrect=\",fb.dataset.numcorrect);\n            var responses=JSON.parse(responsesContainer.dataset.responses);\n            console.log(responses);\n            responses[qnum]= response;\n            responsesContainer.setAttribute('data-responses', JSON.stringify(responses));\n            printResponses(responsesContainer);\n        }\n        // End code to preserve responses\n\n        for (var i = 0; i < answers.length; i++) {\n            var child = answers[i];\n            //console.log(child);\n            child.className = \"MCButton\";\n        }\n\n\n\n        if (label.dataset.correct == \"true\") {\n            // console.log(\"Correct action\");\n            if (\"feedback\" in label.dataset) {\n                fb.innerHTML = jaxify(label.dataset.feedback);\n            } else {\n                fb.innerHTML = \"Correct!\";\n            }\n            label.classList.add(\"correctButton\");\n\n            fb.className = \"Feedback\";\n            fb.classList.add(\"correct\");\n\n        } else {\n            if (\"feedback\" in label.dataset) {\n                fb.innerHTML = jaxify(label.dataset.feedback);\n            } else {\n                fb.innerHTML = \"Incorrect -- try again.\";\n            }\n            //console.log(\"Error action\");\n            label.classList.add(\"incorrectButton\");\n            fb.className = \"Feedback\";\n            fb.classList.add(\"incorrect\");\n        }\n    }\n    else { /* Many choice (more than 1 correct answer) */\n        var reset = false;\n        var feedback;\n         if (label.dataset.correct == \"true\") {\n            if (\"feedback\" in label.dataset) {\n                feedback = jaxify(label.dataset.feedback);\n            } else {\n                feedback = \"Correct!\";\n            }\n            if (label.dataset.answered <= 0) {\n                if (fb.dataset.answeredcorrect < 0) {\n                    fb.dataset.answeredcorrect = 1;\n                    reset = true;\n                } else {\n                    fb.dataset.answeredcorrect++;\n                }\n                if (reset) {\n                    for (var i = 0; i < answers.length; i++) {\n                        var child = answers[i];\n                        child.className = \"MCButton\";\n                        child.dataset.answered = 0;\n                    }\n                }\n                label.classList.add(\"correctButton\");\n                label.dataset.answered = 1;\n                fb.className = \"Feedback\";\n                fb.classList.add(\"correct\");\n\n            }\n        } else {\n            if (\"feedback\" in label.dataset) {\n                feedback = jaxify(label.dataset.feedback);\n            } else {\n                feedback = \"Incorrect -- try again.\";\n            }\n            if (fb.dataset.answeredcorrect > 0) {\n                fb.dataset.answeredcorrect = -1;\n                reset = true;\n            } else {\n                fb.dataset.answeredcorrect--;\n            }\n\n            if (reset) {\n                for (var i = 0; i < answers.length; i++) {\n                    var child = answers[i];\n                    child.className = \"MCButton\";\n                    child.dataset.answered = 0;\n                }\n            }\n            label.classList.add(\"incorrectButton\");\n            fb.className = \"Feedback\";\n            fb.classList.add(\"incorrect\");\n        }\n        // What follows is for the saved responses stuff\n        var outerContainer = fb.parentElement.parentElement;\n        var responsesContainer = document.getElementById(\"responses\" + outerContainer.id);\n        if (responsesContainer) {\n            //console.log(responsesContainer);\n            var response = label.firstChild.innerText;\n            if (label.querySelector(\".QuizCode\")){\n                response+= label.querySelector(\".QuizCode\").firstChild.innerText;\n            }\n            console.log(response);\n            //console.log(document.getElementById(\"quizWrap\"+id));\n            var qnum = document.getElementById(\"quizWrap\"+id).dataset.qnum;\n            console.log(\"Question \" + qnum);\n            //console.log(id, \", got numcorrect=\",fb.dataset.numcorrect);\n            var responses=JSON.parse(responsesContainer.dataset.responses);\n            if (label.dataset.correct == \"true\") {\n                if (typeof(responses[qnum]) == \"object\"){\n                    if (!responses[qnum].includes(response))\n                        responses[qnum].push(response);\n                } else{\n                    responses[qnum]= [ response ];\n                }\n            } else {\n                responses[qnum]= response;\n            }\n            console.log(responses);\n            responsesContainer.setAttribute('data-responses', JSON.stringify(responses));\n            printResponses(responsesContainer);\n        }\n        // End save responses stuff\n\n\n\n        var numcorrect = fb.dataset.numcorrect;\n        var answeredcorrect = fb.dataset.answeredcorrect;\n        if (answeredcorrect >= 0) {\n            fb.innerHTML = feedback + \" [\" + answeredcorrect + \"/\" + numcorrect + \"]\";\n        } else {\n            fb.innerHTML = feedback + \" [\" + 0 + \"/\" + numcorrect + \"]\";\n        }\n\n\n    }\n\n    if (typeof MathJax != 'undefined') {\n        var version = MathJax.version;\n        console.log('MathJax version', version);\n        if (version[0] == \"2\") {\n            MathJax.Hub.Queue([\"Typeset\", MathJax.Hub]);\n        } else if (version[0] == \"3\") {\n            MathJax.typeset([fb]);\n        }\n    } else {\n        console.log('MathJax not detected');\n    }\n\n}\n\n\n/* Function to produce the HTML buttons for a multiple choice/\n   many choice question  and to update the CSS tags based on\n   the question type */\nfunction make_mc(qa, shuffle_answers, outerqDiv, qDiv, aDiv, id) {\n\n    var shuffled;\n    if (shuffle_answers == true) {\n        //console.log(shuffle_answers+\" read as true\");\n        shuffled = getRandomSubarray(qa.answers, qa.answers.length);\n    } else {\n        //console.log(shuffle_answers+\" read as false\");\n        shuffled = qa.answers;\n    }\n\n\n    var num_correct = 0;\n\n    shuffled.forEach((item, index, ans_array) => {\n        //console.log(answer);\n\n        // Make input element\n        var inp = document.createElement(\"input\");\n        inp.type = \"radio\";\n        inp.id = \"quizo\" + id + index;\n        inp.style = \"display:none;\";\n        aDiv.append(inp);\n\n        //Make label for input element\n        var lab = document.createElement(\"label\");\n        lab.className = \"MCButton\";\n        lab.id = id + '-' + index;\n        lab.onclick = check_mc;\n        var aSpan = document.createElement('span');\n        aSpan.classsName = \"\";\n        //qDiv.id=\"quizQn\"+id+index;\n        if (\"answer\" in item) {\n            aSpan.innerHTML = jaxify(item.answer);\n            //aSpan.innerHTML=item.answer;\n        }\n        lab.append(aSpan);\n\n        // Create div for code inside question\n        var codeSpan;\n        if (\"code\" in item) {\n            codeSpan = document.createElement('span');\n            codeSpan.id = \"code\" + id + index;\n            codeSpan.className = \"QuizCode\";\n            var codePre = document.createElement('pre');\n            codeSpan.append(codePre);\n            var codeCode = document.createElement('code');\n            codePre.append(codeCode);\n            codeCode.innerHTML = item.code;\n            lab.append(codeSpan);\n            //console.log(codeSpan);\n        }\n\n        //lab.textContent=item.answer;\n\n        // Set the data attributes for the answer\n        lab.setAttribute('data-correct', item.correct);\n        if (item.correct) {\n            num_correct++;\n        }\n        if (\"feedback\" in item) {\n            lab.setAttribute('data-feedback', item.feedback);\n        }\n        lab.setAttribute('data-answered', 0);\n\n        aDiv.append(lab);\n\n    });\n\n    if (num_correct > 1) {\n        outerqDiv.className = \"ManyChoiceQn\";\n    } else {\n        outerqDiv.className = \"MultipleChoiceQn\";\n    }\n\n    return num_correct;\n\n}\n// Object-oriented wrapper for MC/MANY choice\nclass MCQuestion extends Question {\n    constructor(qa, id, idx, opts, rootDiv) { super(qa, id, idx, opts, rootDiv); }\n    render() {\n        //console.log(\"options.shuffleAnswers \" + this.options.shuffleAnswers);\n        const numCorrect = make_mc(\n            this.qa,\n            this.options.shuffleAnswers,\n            this.outerqDiv,\n            this.qDiv,\n            this.aDiv,\n            this.id\n        );\n        if ('answer_cols' in this.qa) {\n            this.aDiv.style.gridTemplateColumns =\n                'repeat(' + this.qa.answer_cols + ', 1fr)';\n        }\n        this.fbDiv.dataset.numcorrect = numCorrect;\n        this.wrapper.appendChild(this.fbDiv);\n    }\n}\nQuestion.register('multiple_choice', MCQuestion);\nQuestion.register('many_choice', MCQuestion);\nfunction check_numeric(ths, event) {\n\n    if (event.keyCode === 13) {\n        ths.blur();\n\n        var id = ths.id.split('-')[0];\n\n        var submission = ths.value;\n        if (submission.indexOf('/') != -1) {\n            var sub_parts = submission.split('/');\n            //console.log(sub_parts);\n            submission = sub_parts[0] / sub_parts[1];\n        }\n        //console.log(\"Reader entered\", submission);\n\n        if (\"precision\" in ths.dataset) {\n            var precision = ths.dataset.precision;\n            submission = Number(Number(submission).toPrecision(precision));\n        }\n\n\n        //console.log(\"In check_numeric(), id=\"+id);\n        //console.log(event.srcElement.id)           \n        //console.log(event.srcElement.dataset.feedback)\n\n        var fb = document.getElementById(\"fb\" + id);\n        fb.style.display = \"none\";\n        fb.innerHTML = \"Incorrect -- try again.\";\n\n        var answers = JSON.parse(ths.dataset.answers);\n        //console.log(answers);\n\n        var defaultFB = \"Incorrect. Try again.\";\n        var correct;\n        var done = false;\n        answers.every(answer => {\n            //console.log(answer.type);\n\n            correct = false;\n            // if (answer.type==\"value\"){\n            if ('value' in answer) {\n                var value;\n                if (\"precision\" in ths.dataset) {\n                    value = answer.value.toPrecision(ths.dataset.precision);\n                } else {\n                    value = answer.value;\n                }\n                if (submission == value) {\n                    if (\"feedback\" in answer) {\n                        fb.innerHTML = jaxify(answer.feedback);\n                    } else {\n                        fb.innerHTML = jaxify(\"Correct\");\n                    }\n                    correct = answer.correct;\n                    //console.log(answer.correct);\n                    done = true;\n                }\n\n                // } else if (answer.type==\"range\") {\n            } else if ('range' in answer) {\n                console.log(answer.range);\n                console.log(submission, submission >=answer.range[0], submission < answer.range[1])\n                if ((submission >= answer.range[0]) && (submission < answer.range[1])) {\n                    fb.innerHTML = jaxify(answer.feedback);\n                    correct = answer.correct;\n                    console.log(answer.correct);\n                    done = true;\n                }\n            } else if (answer.type == \"default\") {\n                if (\"feedback\" in answer) {\n                    defaultFB = answer.feedback;\n                } \n            }\n            if (done) {\n                return false; // Break out of loop if this has been marked correct\n            } else {\n                return true; // Keep looking for case that includes this as a correct answer\n            }\n        });\n        console.log(\"done:\", done);\n\n        if ((!done) && (defaultFB != \"\")) {\n            fb.innerHTML = jaxify(defaultFB);\n            //console.log(\"Default feedback\", defaultFB);\n        }\n\n        fb.style.display = \"block\";\n        if (correct) {\n            ths.className = \"Input-text\";\n            ths.classList.add(\"correctButton\");\n            fb.className = \"Feedback\";\n            fb.classList.add(\"correct\");\n        } else {\n            ths.className = \"Input-text\";\n            ths.classList.add(\"incorrectButton\");\n            fb.className = \"Feedback\";\n            fb.classList.add(\"incorrect\");\n        }\n\n        // What follows is for the saved responses stuff\n        var outerContainer = fb.parentElement.parentElement;\n        var responsesContainer = document.getElementById(\"responses\" + outerContainer.id);\n        if (responsesContainer) {\n            console.log(submission);\n            var qnum = document.getElementById(\"quizWrap\"+id).dataset.qnum;\n            //console.log(\"Question \" + qnum);\n            //console.log(id, \", got numcorrect=\",fb.dataset.numcorrect);\n            var responses=JSON.parse(responsesContainer.dataset.responses);\n            console.log(responses);\n            if (submission == ths.value){\n                responses[qnum]= submission;\n            } else {\n                responses[qnum]= ths.value + \"(\" + submission +\")\";\n            }\n            responsesContainer.setAttribute('data-responses', JSON.stringify(responses));\n            printResponses(responsesContainer);\n        }\n        // End code to preserve responses\n\n        if (typeof MathJax != 'undefined') {\n            var version = MathJax.version;\n            console.log('MathJax version', version);\n            if (version[0] == \"2\") {\n                MathJax.Hub.Queue([\"Typeset\", MathJax.Hub]);\n            } else if (version[0] == \"3\") {\n                MathJax.typeset([fb]);\n            }\n        } else {\n            console.log('MathJax not detected');\n        }\n        // After correct answer, if next JupyterQuiz question exists and has a text input, scroll by current question height\n        if (correct) {\n            // find the current question wrapper\n            var wrapper = ths.closest('.Quiz');\n            if (wrapper) {\n                var nextWrapper = wrapper.nextElementSibling;\n                if (nextWrapper && nextWrapper.classList.contains('Quiz')) {\n                    var nextInput = nextWrapper.querySelector('input.Input-text');\n                    if (nextInput) {\n                        var height = wrapper.getBoundingClientRect().height;\n                        console.log(height);\n                        nextInput.focus();\n                    }\n                }\n            }\n        }\n        return false;\n    }\n\n}\n// Object-oriented wrapper for numeric questions\nclass NumericQuestion extends Question {\n    constructor(qa, id, idx, opts, rootDiv) {\n        super(qa, id, idx, opts, rootDiv);\n    }\n    render() {\n        make_numeric(this.qa, this.outerqDiv, this.qDiv, this.aDiv, this.id);\n        this.wrapper.appendChild(this.fbDiv);\n    }\n}\nQuestion.register('numeric', NumericQuestion);\n\nfunction isValid(el, charC) {\n    //console.log(\"Input char: \", charC);\n    if (charC == 46) {\n        if (el.value.indexOf('.') === -1) {\n            return true;\n        } else if (el.value.indexOf('/') != -1) {\n            var parts = el.value.split('/');\n            if (parts[1].indexOf('.') === -1) {\n                return true;\n            }\n        }\n        else {\n            return false;\n        }\n    } else if (charC == 47) {\n        if (el.value.indexOf('/') === -1) {\n            if ((el.value != \"\") && (el.value != \".\")) {\n                return true;\n            } else {\n                return false;\n            }\n        } else {\n            return false;\n        }\n    } else if (charC == 45) {\n        var edex = el.value.indexOf('e');\n        if (edex == -1) {\n            edex = el.value.indexOf('E');\n        }\n\n        if (el.value == \"\") {\n            return true;\n        } else if (edex == (el.value.length - 1)) { // If just after e or E\n            return true;\n        } else {\n            return false;\n        }\n    } else if (charC == 101) { // \"e\"\n        if ((el.value.indexOf('e') === -1) && (el.value.indexOf('E') === -1) && (el.value.indexOf('/') == -1)) {\n            // Prev symbol must be digit or decimal point:\n            if (el.value.slice(-1).search(/\\d/) >= 0) {\n                return true;\n            } else if (el.value.slice(-1).search(/\\./) >= 0) {\n                return true;\n            } else {\n                return false;\n            }\n        } else {\n            return false;\n        }\n    } else {\n        if (charC > 31 && (charC < 48 || charC > 57))\n            return false;\n    }\n    return true;\n}\n\nfunction numeric_keypress(evnt) {\n    var charC = (evnt.which) ? evnt.which : evnt.keyCode;\n\n    if (charC == 13) {\n        check_numeric(this, evnt);\n    } else {\n        return isValid(this, charC);\n    }\n}\n\n\n\n\n\nfunction make_numeric(qa, outerqDiv, qDiv, aDiv, id) {\n\n\n\n    //console.log(answer);\n\n\n    outerqDiv.className = \"NumericQn\";\n    aDiv.style.display = 'block';\n\n    var lab = document.createElement(\"label\");\n    lab.className = \"InpLabel\";\n    lab.innerHTML = \"Type numeric answer here:\";\n    aDiv.append(lab);\n\n    var inp = document.createElement(\"input\");\n    inp.type = \"text\";\n    //inp.id=\"input-\"+id;\n    inp.id = id + \"-0\";\n    inp.className = \"Input-text\";\n    inp.setAttribute('data-answers', JSON.stringify(qa.answers));\n    if (\"precision\" in qa) {\n        inp.setAttribute('data-precision', qa.precision);\n    }\n    aDiv.append(inp);\n    //console.log(inp);\n\n    //inp.addEventListener(\"keypress\", check_numeric);\n    //inp.addEventListener(\"keypress\", numeric_keypress);\n    /*\n    inp.addEventListener(\"keypress\", function(event) {\n        return numeric_keypress(this, event);\n    }\n                        );\n                        */\n    //inp.onkeypress=\"return numeric_keypress(this, event)\";\n    inp.onkeypress = numeric_keypress;\n    inp.onpaste = event => false;\n\n    inp.addEventListener(\"focus\", function (event) {\n        this.value = \"\";\n        return false;\n    }\n    );\n\n\n}\n// Override show_questions to use object-oriented Question API\nfunction show_questions(json, container) {\n    // Accept container element or element ID\n    if (typeof container === 'string') {\n        container = document.getElementById(container);\n    }\n    if (!container) {\n        console.error('show_questions: invalid container', container);\n        return;\n    }\n\n    const shuffleQuestions = container.dataset.shufflequestions === 'True';\n    const shuffleAnswers = container.dataset.shuffleanswers === 'True';\n    const preserveResponses = container.dataset.preserveresponses === 'true';\n    const maxWidth = parseInt(container.dataset.maxwidth, 10) || 0;\n    let numQuestions = parseInt(container.dataset.numquestions, 10) || json.length;\n    if (numQuestions > json.length) numQuestions = json.length;\n\n    let questions = json;\n    if (shuffleQuestions || numQuestions < json.length) {\n        questions = getRandomSubarray(json, numQuestions);\n    }\n\n    questions.forEach((qa, index) => {\n        const id = makeid(8);\n        const options = {\n            shuffleAnswers: shuffleAnswers,\n            preserveResponses: preserveResponses,\n            maxWidth: maxWidth\n        };\n        Question.create(qa, id, index, options, container);\n    });\n\n    if (preserveResponses) {\n        const respDiv = document.createElement('div');\n        respDiv.id = 'responses' + container.id;\n        respDiv.className = 'JCResponses';\n        respDiv.dataset.responses = JSON.stringify([]);\n        respDiv.innerHTML = '<b>Select your answers and then follow the directions that will appear here.</b>';\n        container.appendChild(respDiv);\n    }\n\n    // Trigger MathJax typesetting if available\n    if (typeof MathJax != 'undefined') {\n        console.log(\"MathJax version\", MathJax.version);\n        var version = MathJax.version;\n        setTimeout(function(){\n            var version = MathJax.version;\n            console.log('After sleep, MathJax version', version);\n            if (version[0] == \"2\") {\n                MathJax.Hub.Queue([\"Typeset\", MathJax.Hub]);\n            } else if (version[0] == \"3\") {\n                if (MathJax.hasOwnProperty('typeset') ) {\n                    MathJax.typeset([container]);\n                } else {\n                    console.log('WARNING: Trying to force load MathJax 3');\n                    window.MathJax = {\n                        tex: {\n                            inlineMath: [['$', '$'], ['\\\\(', '\\\\)']]\n                        },\n                        svg: {\n                            fontCache: 'global'\n                        }\n                    };\n\n                    (function () {\n                        var script = document.createElement('script');\n                        script.src = 'https://cdn.jsdelivr.net/npm/mathjax@3/es5/tex-svg.js';\n                        script.async = true;\n                        document.head.appendChild(script);\n                    })();\n                }\n            }\n        }, 500);\nif (typeof version == 'undefined') {\n        } else\n        {\n            if (version[0] == \"2\") {\n                MathJax.Hub.Queue([\"Typeset\", MathJax.Hub]);\n            } else if (version[0] == \"3\") {\n                if (MathJax.hasOwnProperty('typeset') ) {\n                    MathJax.typeset([container]);\n                } else {\n                    console.log('WARNING: Trying to force load MathJax 3');\n                    window.MathJax = {\n                        tex: {\n                            inlineMath: [['$', '$'], ['\\\\(', '\\\\)']]\n                        },\n                        svg: {\n                            fontCache: 'global'\n                        }\n                    };\n\n                    (function () {\n                        var script = document.createElement('script');\n                        script.src = 'https://cdn.jsdelivr.net/npm/mathjax@3/es5/tex-svg.js';\n                        script.async = true;\n                        document.head.appendChild(script);\n                    })();\n                }\n            } else {\n                console.log(\"MathJax not found\");\n            }\n        }\n    }\n    // if (typeof MathJax !== 'undefined') {\n    //     const v = MathJax.version;\n    //     if (v[0] === '2') {\n    //         MathJax.Hub.Queue(['Typeset', MathJax.Hub]);\n    //     } else if (v[0] === '3') {\n    //         MathJax.typeset([container]);\n    //     }\n    // }\n\n    // Prevent link clicks from bubbling up\n    Array.from(container.getElementsByClassName('Link')).forEach(link => {\n        link.addEventListener('click', e => e.stopPropagation());\n    });\n}\nfunction levenshteinDistance(a, b) {\n    if (a.length === 0) return b.length;\n    if (b.length === 0) return a.length;\n\n    const matrix = Array(b.length + 1).fill(null).map(() => Array(a.length + 1).fill(null));\n\n    for (let i = 0; i <= a.length; i++) {\n        matrix[0][i] = i;\n    }\n\n    for (let j = 0; j <= b.length; j++) {\n        matrix[j][0] = j;\n    }\n\n    for (let j = 1; j <= b.length; j++) {\n        for (let i = 1; i <= a.length; i++) {\n            const cost = a[i - 1] === b[j - 1] ? 0 : 1;\n            matrix[j][i] = Math.min(\n                matrix[j - 1][i] + 1, // Deletion\n                matrix[j][i - 1] + 1, // Insertion\n                matrix[j - 1][i - 1] + cost // Substitution\n            );\n        }\n    }\n    return matrix[b.length][a.length];\n}\n// Object-oriented wrapper for string input questions\nclass StringQuestion extends Question {\n    constructor(qa, id, idx, opts, rootDiv) {\n        super(qa, id, idx, opts, rootDiv);\n    }\n    render() {\n        make_string(this.qa, this.outerqDiv, this.qDiv, this.aDiv, this.id);\n        this.wrapper.appendChild(this.fbDiv);\n    }\n}\nQuestion.register('string', StringQuestion);\n\nfunction check_string(ths, event) {\n    if (event.keyCode === 13) {\n        ths.blur();\n\n        var id = ths.id.split('-')[0];\n        var submission = ths.value.trim();\n        var fb = document.getElementById(\"fb\" + id);\n        fb.style.display = \"none\";\n        fb.innerHTML = \"Incorrect -- try again.\";\n\n        var answers = JSON.parse(ths.dataset.answers);\n        var defaultFB = \"Incorrect. Try again.\";\n        var correct;\n        var done = false;\n\n        // Handle default answer pattern: filter out and capture default feedback\n        var filteredAnswers = [];\n        answers.forEach(answer => {\n            if (answer.type === \"default\") {\n                defaultFB = answer.feedback;\n            } else {\n                filteredAnswers.push(answer);\n            }\n        });\n        answers = filteredAnswers;\n\n        answers.every(answer => {\n            correct = false;\n\n            let match = false;\n            if (answer.match_case) {\n                match = submission === answer.answer;\n            } else {\n                match = submission.toLowerCase() === answer.answer.toLowerCase();\n            }\n            console.log(submission);\n            console.log(answer.answer);\n            console.log(match);\n\n            if (match) {\n                if (\"feedback\" in answer) {\n                    fb.innerHTML = jaxify(answer.feedback);\n                } else {\n                    fb.innerHTML = jaxify(\"Correct\");\n                }\n                correct = answer.correct;\n                done = true;\n            } else if (answer.fuzzy_threshold) {\n                var max_length = Math.max(submission.length, answer.answer.length);\n                var ratio;\n                if (answer.match_case) {\n                    ratio = 1- (levenshteinDistance(submission, answer.answer) / max_length);\n                } else {\n                    ratio = 1- (levenshteinDistance(submission.toLowerCase(),\n                                                    answer.answer.toLowerCase()) / max_length);\n                }\n                if (ratio >= answer.fuzzy_threshold) {\n                    if (\"feedback\" in answer) {\n                        fb.innerHTML = jaxify(\"(Fuzzy) \" + answer.feedback);\n                    } else {\n                        fb.innerHTML = jaxify(\"Correct\");\n                    }\n                    correct = answer.correct;\n                    done = true;\n                }\n\n            }\n\n            if (done) {\n                return false;\n            } else {\n                return true;\n            }\n        });\n\n        if ((!done) && (defaultFB != \"\")) {\n            fb.innerHTML = jaxify(defaultFB);\n        }\n\n        fb.style.display = \"block\";\n        if (correct) {\n            ths.className = \"Input-text\";\n            ths.classList.add(\"correctButton\");\n            fb.className = \"Feedback\";\n            fb.classList.add(\"correct\");\n        } else {\n            ths.className = \"Input-text\";\n            ths.classList.add(\"incorrectButton\");\n            fb.className = \"Feedback\";\n            fb.classList.add(\"incorrect\");\n        }\n\n        var outerContainer = fb.parentElement.parentElement;\n        var responsesContainer = document.getElementById(\"responses\" + outerContainer.id);\n        if (responsesContainer) {\n            var qnum = document.getElementById(\"quizWrap\" + id).dataset.qnum;\n            var responses = JSON.parse(responsesContainer.dataset.responses);\n            responses[qnum] = submission;\n            responsesContainer.setAttribute('data-responses', JSON.stringify(responses));\n            printResponses(responsesContainer);\n        }\n\n        if (typeof MathJax != 'undefined') {\n            var version = MathJax.version;\n            if (version[0] == \"2\") {\n                MathJax.Hub.Queue([\"Typeset\", MathJax.Hub]);\n            } else if (version[0] == \"3\") {\n                MathJax.typeset([fb]);\n            }\n        } else {\n            console.log('MathJax not detected');\n        }\n        // After correct answer, if next JupyterQuiz question exists and has a text input, scroll by current question height\n        if (correct) {\n            var wrapper = ths.closest('.Quiz');\n            if (wrapper) {\n                var nextWrapper = wrapper.nextElementSibling;\n                if (nextWrapper && nextWrapper.classList.contains('Quiz')) {\n                    var nextInput = nextWrapper.querySelector('input.Input-text');\n                    if (nextInput) {\n                        var height = wrapper.getBoundingClientRect().height;\n                        nextInput.focus();\n                    }\n                }\n            }\n        }\n        return false;\n    }\n}\n\nfunction string_keypress(evnt) {\n    var charC = (evnt.which) ? evnt.which : evnt.keyCode;\n\n    if (charC == 13) {\n        check_string(this, evnt);\n    } \n}\n\n\nfunction make_string(qa, outerqDiv, qDiv, aDiv, id) {\n    outerqDiv.className = \"StringQn\";\n    aDiv.style.display = 'block';\n\n    var lab = document.createElement(\"label\");\n    lab.className = \"InpLabel\";\n    lab.innerHTML = \"Type your answer here:\";\n    aDiv.append(lab);\n\n    var inp = document.createElement(\"input\");\n    inp.type = \"text\";\n    inp.id = id + \"-0\";\n    inp.className = \"Input-text\";\n    inp.setAttribute('data-answers', JSON.stringify(qa.answers));\n    // Apply optional input width (approx. number of characters, in em units)\n    if (qa.input_width != null) {\n        inp.style['min-width'] = qa.input_width + 'em';\n    }\n    aDiv.append(inp);\n\n    inp.onkeypress = string_keypress;\n    inp.onpaste = event => false;\n\n    inp.addEventListener(\"focus\", function (event) {\n        this.value = \"\";\n        return false;\n    });\n}\n/*\n * Handle asynchrony issues when re-running quizzes in Jupyter notebooks.\n * Ensures show_questions is called after the container div is in the DOM.\n */\nfunction try_show() {\n  if (document.getElementById(\"AjlBbAXHHgYo\")) {\n    show_questions(questionsAjlBbAXHHgYo, AjlBbAXHHgYo);\n  } else {\n    setTimeout(try_show, 200);\n  }\n};\n// Invoke immediately\n{\n  try_show();\n}\n}\n",
      "text/plain": [
       "<IPython.core.display.Javascript object>"
      ]
     },
     "metadata": {},
     "output_type": "display_data"
    }
   ],
   "source": [
    "import json\n",
    "from jupyterquiz import display_quiz\n",
    "example = \\\n",
    "'''\n",
    "   [{\n",
    "    \n",
    "        \"question\": \"בהינתן: a = np.array([1, 3, 5, 7, 9]) אילו פקודות יחזירו את כל האיברים הגדולים מ־4?\",\n",
    "        \"type\": \"many_choice\",\n",
    "        \"answers\": [\n",
    "            {\n",
    "                \"answer\": \"a[a > 4]\",\n",
    "                \"correct\": true,\n",
    "                \"feedback\": \"נכון\"\n",
    "            },\n",
    "            {\n",
    "                \"answer\": \"a[4:]\",\n",
    "                \"correct\": false,\n",
    "                \"feedback\": \"לא נכון, זו גישה למערך החל מהאינדקס ה4\"\n",
    "            },\n",
    "            {\n",
    "                \"answer\": \"a[a >= 5]\",\n",
    "                \"correct\": true,\n",
    "                \"feedback\": \"נכון\"\n",
    "\n",
    "            },\n",
    "            {\n",
    "                \"answer\": \"a[> 4]\",\n",
    "                \"correct\": false,\n",
    "                \"feedback\": \"לא נכון, כתיבה לא חוקית\"\n",
    "\n",
    "            }\n",
    "        ]\n",
    "    }]\n",
    "'''\n",
    "myquiz = json.loads(example)\n",
    "display_quiz(myquiz)"
   ]
  },
  {
   "cell_type": "markdown",
   "id": "39764f50",
   "metadata": {},
   "source": [
    "ניתן לשלב אינדוקס עם פריסה. שילוב כזה מפיק מערך בדרגה נמוכה יותר מהמקור.\n",
    "#### אינדוקס של שורות: Rank 1 לעומת Rank 2\n",
    "כאשר משלבים אינדוקס עם מספר שלם וחיתוך, מתקבלת **שורה בייצוג חד־ממדי (Rank 1)**.  \n",
    "כאשר משתמשים רק בפריסה (slice), נשמרת **הדרגה המקורית (Rank 2)** ולכן מקבלים עדיין מערך דו־ממדי."
   ]
  },
  {
   "cell_type": "code",
   "execution_count": null,
   "id": "faa96cc5",
   "metadata": {},
   "outputs": [
    {
     "name": "stdout",
     "output_type": "stream",
     "text": [
      "[5 6 7 8] (4,)\n",
      "[[5 6 7 8]] (1, 4)\n",
      "[ 2  6 10] (3,)\n",
      "[[ 2]\n",
      " [ 6]\n",
      " [10]] (3, 1)\n"
     ]
    }
   ],
   "source": [
    "row_r1 = a[1, :]    # Rank 1 view of the second row of a\n",
    "row_r2 = a[1:2, :]  # Rank 2 view of the second row of a\n",
    "print(row_r1, row_r1.shape)  \n",
    "print(row_r2, row_r2.shape)  "
   ]
  },
  {
   "cell_type": "markdown",
   "id": "ce198302",
   "metadata": {},
   "source": [
    "#### אינדוקס של עמודות: Rank 1 לעומת Rank 2\n",
    "אותו עיקרון חל גם על עמודות:  \n",
    "- אינדוקס עם מספר שלם יחזיר וקטור חד־ממדי.  \n",
    "- שימוש בפריסה ישאיר את העמודה כתת־מערך דו־ממדי.\n"
   ]
  },
  {
   "cell_type": "code",
   "execution_count": null,
   "id": "dea418b2",
   "metadata": {},
   "outputs": [],
   "source": [
    "col_r1 = a[:, 1]\n",
    "col_r2 = a[:, 1:2]\n",
    "print(col_r1, col_r1.shape)  \n",
    "print(col_r2, col_r2.shape)  "
   ]
  },
  {
   "cell_type": "markdown",
   "id": "f2878141",
   "metadata": {},
   "source": [
    "#### Integer array indexing (אינדוקס במערך באמצעות מספרים שלמים):\n",
    "בעת פריסה מתקבל תמיד תת־מערך. אינדוקס בעזרת מערכי מספרים שלמים מאפשר לבנות מערך חדש מאיברים שרירותיים של מערך אחר.\n",
    "\n",
    "ניצור מערך בגודל 3x2, כלומר שלוש שורות ושתי עמודות:"
   ]
  },
  {
   "cell_type": "code",
   "execution_count": null,
   "id": "8fb387b4",
   "metadata": {},
   "outputs": [
    {
     "name": "stdout",
     "output_type": "stream",
     "text": [
      "[[1 2]\n",
      " [3 4]\n",
      " [5 6]]\n"
     ]
    }
   ],
   "source": [
    "import numpy as np\n",
    "a = np.array([[1,2],\n",
    "              [3, 4],\n",
    "              [5, 6]])\n",
    "print(a)\n"
   ]
  },
  {
   "cell_type": "markdown",
   "id": "81ffaed9",
   "metadata": {},
   "source": [
    "ניתן לבחור איברים ממקומות שונים במערך בו־זמנית, באמצעות מתן רשימות של אינדקסים.  \n",
    "התוצאה היא מערך חדש שבו מופיעים הערכים שנבחרו לפי המיקומים שצוינו."
   ]
  },
  {
   "cell_type": "code",
   "execution_count": null,
   "id": "77c50336",
   "metadata": {},
   "outputs": [],
   "source": [
    "print(a[[0, 1, 2],\n",
    "        [0, 1, 0]]) "
   ]
  },
  {
   "cell_type": "markdown",
   "id": "d043e05b",
   "metadata": {},
   "source": [
    "התוצאה הקודמת זהה לבחירה ידנית של אותם איברים אחד־אחד, אך כאן עושים זאת בפקודה אחת."
   ]
  },
  {
   "cell_type": "code",
   "execution_count": null,
   "id": "f4b19457",
   "metadata": {},
   "outputs": [],
   "source": [
    "print(np.array([a[0, 0], a[1, 1], a[2, 0]]))  "
   ]
  },
  {
   "cell_type": "markdown",
   "id": "51757964",
   "metadata": {},
   "source": [
    "באמצעות אינדוקס שלם אפשר גם לבחור את אותו איבר מספר פעמים, ולבנות ממנו מערך חדש."
   ]
  },
  {
   "cell_type": "code",
   "execution_count": null,
   "id": "6944d4e0",
   "metadata": {},
   "outputs": [],
   "source": [
    "print(a[[0, 0], [1, 1]])  "
   ]
  },
  {
   "cell_type": "markdown",
   "id": "30ce2052",
   "metadata": {},
   "source": [
    "גם כאן, אפשר לכתוב את אותו הדבר בעזרת גישה רגילה לכל איבר, ולבנות ידנית מערך חדש."
   ]
  },
  {
   "cell_type": "code",
   "execution_count": null,
   "id": "0fd7cb53",
   "metadata": {},
   "outputs": [],
   "source": [
    "print(np.array([a[0, 1], a[0, 1]]))  "
   ]
  },
  {
   "cell_type": "markdown",
   "id": "f5b31128",
   "metadata": {},
   "source": [
    "#### טריק נפוץ: לבחור/לעדכן איבר אחד מכל שורה באמצעות אינדקסים.\n",
    "נבנה מערך בגודל 4x3 (ארבע שורות ושלושה עמודות):"
   ]
  },
  {
   "cell_type": "code",
   "execution_count": null,
   "id": "c1ea320d",
   "metadata": {},
   "outputs": [],
   "source": [
    "a = np.array([[1,2,3], [4,5,6], [7,8,9], [10, 11, 12]])\n",
    "print(a) "
   ]
  },
  {
   "cell_type": "markdown",
   "id": "70bba372",
   "metadata": {},
   "source": [
    "נגדיר מערך של אינדקסים (`b`) שאומר לנו איזה עמודה לבחור בכל שורה.  \n",
    "במקרה הזה: בשורה הראשונה נבחר את העמודה ה־0, בשנייה את ה־2, בשלישית שוב את ה־0, וברביעית את ה־1."
   ]
  },
  {
   "cell_type": "code",
   "execution_count": null,
   "id": "3537730e",
   "metadata": {},
   "outputs": [],
   "source": [
    "b = np.array([0, 2, 0, 1])"
   ]
  },
  {
   "cell_type": "markdown",
   "id": "de0e830a",
   "metadata": {},
   "source": [
    "השילוב `a[np.arange(4), b]` מאפשר לבחור איבר אחד מכל שורה:  \n",
    "- `np.arange(4)` מייצר את הרשימה `[0,1,2,3]` – כלומר את כל השורות.  \n",
    "- `b` נותן את האינדקס של העמודה המתאימה בכל שורה.  \n",
    "\n",
    "ביחד מתקבלים ארבעה איברים – אחד מכל שורה."
   ]
  },
  {
   "cell_type": "code",
   "execution_count": null,
   "id": "ab570c18",
   "metadata": {},
   "outputs": [],
   "source": [
    "print(a[np.arange(4), b])"
   ]
  },
  {
   "cell_type": "markdown",
   "id": "bc960e3f",
   "metadata": {},
   "source": [
    "ניתן גם לעדכן ישירות את אותם איברים שנבחרו, למשל להוסיף להם 10.  \n",
    "כיוון שמדובר בגישה ישירה לנתוני המערך, השינוי מתבצע **בתוך המערך המקורי**."
   ]
  },
  {
   "cell_type": "code",
   "execution_count": null,
   "id": "269a7727",
   "metadata": {},
   "outputs": [],
   "source": [
    "a[np.arange(4), b] += 10\n",
    "print(a)"
   ]
  },
  {
   "cell_type": "markdown",
   "id": "705cbedf",
   "metadata": {},
   "source": [
    "#### Boolean array indexing (אינדוקס בוליאני):\n",
    "מאפשר לבחור איברים שמקיימים תנאי.\n",
    "\n",
    "נבנה מערך בגודל 3x2:"
   ]
  },
  {
   "cell_type": "code",
   "execution_count": null,
   "id": "7162e370",
   "metadata": {},
   "outputs": [
    {
     "name": "stdout",
     "output_type": "stream",
     "text": [
      "[[False False]\n",
      " [ True  True]\n",
      " [ True  True]]\n",
      "[3 4 5 6]\n",
      "[3 4 5 6]\n"
     ]
    }
   ],
   "source": [
    "import numpy as np\n",
    "\n",
    "a = np.array([[1,2],\n",
    "              [3,4],\n",
    "              [5,6]])\n",
    "print(a)"
   ]
  },
  {
   "cell_type": "markdown",
   "id": "e067167c",
   "metadata": {},
   "source": [
    "נשתמש במסיכה בוליאנית (Boolean Mask). נבדוק אילו איברים במערך גדולים מ־2.  \n",
    "התוצאה היא מערך חדש באותו גודל, המכיל ערכי **True/False** לפי התנאי."
   ]
  },
  {
   "cell_type": "code",
   "execution_count": null,
   "id": "86def620",
   "metadata": {},
   "outputs": [],
   "source": [
    "bool_idx = (a > 2)\n",
    "print(bool_idx)"
   ]
  },
  {
   "cell_type": "markdown",
   "id": "03071677",
   "metadata": {},
   "source": [
    "כאשר משתמשים במערך הבוליאני כאינדקס, מתקבל מערך חד־ממדי עם כל האיברים עבורם התנאי מתקיים."
   ]
  },
  {
   "cell_type": "code",
   "execution_count": null,
   "id": "a6e74378",
   "metadata": {},
   "outputs": [],
   "source": [
    "print(a[bool_idx])"
   ]
  },
  {
   "cell_type": "markdown",
   "id": "50410749",
   "metadata": {},
   "source": [
    "ניתן לבצע את כל השלבים יחד בשורה אחת, על ידי הכנסת התנאי ישירות לאינדוקס."
   ]
  },
  {
   "cell_type": "code",
   "execution_count": null,
   "id": "108fba71",
   "metadata": {},
   "outputs": [],
   "source": [
    "print(a[a > 2])"
   ]
  },
  {
   "cell_type": "markdown",
   "id": "62ddb10f",
   "metadata": {},
   "source": [
    "### Datatypes (טיפוסי נתונים)\n",
    "כל מערך ב־NumPy מכיל איברים מאותו טיפוס.\n",
    "ספריית NumPy מספקת מגוון טיפוסים מספריים, לרוב היא תנחש את הטיפוס בעת יצירה, אך ניתן גם לציין טיפוס במפורש.\n",
    "\n",
    "כאשר יוצרים מערך ממספרים שלמים רגילים, NumPy בוחר טיפוס שלם (int):"
   ]
  },
  {
   "cell_type": "code",
   "execution_count": null,
   "id": "579e8028",
   "metadata": {},
   "outputs": [],
   "source": [
    "import numpy as np\n",
    "x = np.array([1, 2])       # NumPy infers integer type\n",
    "print(x.dtype)             # Usually int32 or int64 depending on the system"
   ]
  },
  {
   "cell_type": "markdown",
   "id": "2842f256",
   "metadata": {},
   "source": [
    "כאשר יוצרים מערך ממספרים ממשיים (עם נקודה עשרונית), NumPy בוחר טיפוס נקודה צפה (float).  "
   ]
  },
  {
   "cell_type": "code",
   "execution_count": null,
   "id": "5c5c41c7",
   "metadata": {},
   "outputs": [],
   "source": [
    "x = np.array([1.0, 2.0])   # NumPy infers float type\n",
    "print(x.dtype)             # Usually float64"
   ]
  },
  {
   "cell_type": "markdown",
   "id": "f022983e",
   "metadata": {},
   "source": [
    "ניתן גם להכריח שימוש בטיפוס מסוים בזמן יצירת המערך, באמצעות הפרמטר `dtype`.  "
   ]
  },
  {
   "cell_type": "code",
   "execution_count": null,
   "id": "c9312bec",
   "metadata": {},
   "outputs": [],
   "source": [
    "x = np.array([1, 2], dtype=np.int64)   # Force explicit integer type (int64)\n",
    "print(x.dtype)"
   ]
  },
  {
   "cell_type": "markdown",
   "id": "0cf5c34a",
   "metadata": {},
   "source": [
    "מעבר לטיפוסים בסיסיים כמו int ו־float, NumPy תומך גם בטיפוסים נוספים:  \n",
    "- **מספרים מרוכבים** (`complex64`, `complex128`) – שימושי במכניקה קוונטית ובעיבוד אותות.  \n",
    "- **טיפוסי נקודה צפה מדויקים יותר או פחות** (`float32`, `float64`) – בחירה בהתאם לאיזון בין דיוק למהירות/זיכרון.  \n",
    "- **טיפוסי שלם שונים** (`int8`, `int16`, `int32`, `int64`) – שימושי כשיש מגבלות זיכרון או צורך ביעילות.  \n",
    "\n",
    "יכולת השליטה בטיפוס הנתונים מאפשרת גם חיסכון במשאבים וגם התאמה לצרכים המדעיים הספציפיים של החישוב."
   ]
  },
  {
   "cell_type": "code",
   "execution_count": null,
   "id": "e06f1dfe",
   "metadata": {},
   "outputs": [],
   "source": [
    "# Example with complex numbers\n",
    "z = np.array([1+2j, 3+4j])    # Complex array\n",
    "print(z.dtype)                # complex128 by default\n",
    "\n",
    "# Example with lower precision floats\n",
    "f = np.array([1.5, 2.5], dtype=np.float32)  # Explicit float32\n",
    "print(f.dtype)"
   ]
  },
  {
   "cell_type": "markdown",
   "id": "5ed8c51c",
   "metadata": {},
   "source": [
    "### Array math (פעולות מתמטיות על מערכים)\n",
    "ב־NumPy פונקציות מתמטיות בסיסיות פועלות **איבר־איבר** (elementwise).  \n",
    "כלומר, הפעולה מתבצעת על כל זוג איברים מקבילים במערכים, והתוצאה היא מערך חדש.  \n",
    "אותן פעולות זמינות גם כאופרטורים (`+`, `-`, `*`, `/`) וגם כפונקציות מתוך NumPy."
   ]
  },
  {
   "cell_type": "code",
   "execution_count": null,
   "id": "ecf45791",
   "metadata": {},
   "outputs": [],
   "source": [
    "import numpy as np\n",
    "\n",
    "x = np.array([[1,2],[3,4]], dtype=np.float64)\n",
    "y = np.array([[5,6],[7,8]], dtype=np.float64)\n",
    "\n",
    "# Elementwise sum; both produce the array\n",
    "print(x + y)\n",
    "print(np.add(x, y))\n",
    "\n",
    "# Elementwise difference; both produce the array\n",
    "print(x - y)\n",
    "print(np.subtract(x, y))\n",
    "\n",
    "# Elementwise product; both produce the array\n",
    "print(x * y)\n",
    "print(np.multiply(x, y))\n",
    "\n",
    "# Elementwise division; both produce the array\n",
    "print(x / y)\n",
    "print(np.divide(x, y))\n",
    "\n",
    "# Elementwise square root; produces the array\n",
    "print(np.sqrt(x))\n"
   ]
  },
  {
   "cell_type": "code",
   "execution_count": 5,
   "id": "5797fe1c",
   "metadata": {
    "tags": [
     "remove-input"
    ]
   },
   "outputs": [
    {
     "data": {
      "text/html": [
       "<div id=\"UzdzIGfTtuLq\" data-shufflequestions=\"False\" data-shuffleanswers=\"True\" data-preserveresponses=\"false\" data-numquestions=\"1000000\" data-maxwidth=\"600\" style=\"border-radius: 10px; text-align: left\"><style>\n",
       "#UzdzIGfTtuLq {\n",
       "   --jq-multiple-choice-bg: #6f78ffff;\n",
       "   --jq-mc-button-bg: #fafafa;\n",
       "   --jq-mc-button-border: #e0e0e0e0;\n",
       "   --jq-mc-button-inset-shadow: #555555;\n",
       "   --jq-many-choice-bg: #f75c03ff;\n",
       "   --jq-numeric-bg: #392061ff;\n",
       "   --jq-numeric-input-bg: #c0c0c0;\n",
       "   --jq-numeric-input-label: #101010;\n",
       "   --jq-numeric-input-shadow: #999999;\n",
       "   --jq-string-bg: #4c1a57;\n",
       "   --jq-incorrect-color: #c80202;\n",
       "   --jq-correct-color: #009113;\n",
       "   --jq-text-color: #fafafa;\n",
       "}\n",
       "\n",
       ".Quiz {\n",
       "    max-width: 600px;\n",
       "    margin-top: 15px;\n",
       "    margin-left: auto;\n",
       "    margin-right: auto;\n",
       "/*    margin-bottom: 15px;*/\n",
       "/*    padding-bottom: 4px;*/\n",
       "    padding-top: 4px;\n",
       "    line-height: 1.1;\n",
       "    font-size: 16pt;\n",
       "    border-radius: inherit;\n",
       "}\n",
       "\n",
       ".QuizCode {\n",
       "    font-size: 14pt;\n",
       "    margin-top: 10px;\n",
       "    margin-left: 20px;\n",
       "    margin-right: 20px;\n",
       "}\n",
       "\n",
       ".QuizCode>pre {\n",
       "    padding: 4px;\n",
       "}\n",
       "\n",
       ".Quiz code {\n",
       "    background-color: lightgray;\n",
       "    color: black;\n",
       "}\n",
       "\n",
       ".Quiz .QuizCode code {\n",
       "    background-color: inherit;\n",
       "    color: inherit;\n",
       "}\n",
       "\n",
       "\n",
       ".Quiz .MCButton code {\n",
       "    background-color: inherit;\n",
       "    color: inherit;\n",
       "}\n",
       "\n",
       ".MCButton .QuizCode {\n",
       "    text-align: left;\n",
       "}\n",
       "\n",
       "\n",
       "\n",
       "\n",
       ".Answer {\n",
       "    border-radius: inherit;\n",
       "    display: grid;\n",
       "    grid-gap: 10px;\n",
       "    grid-template-columns: 1fr 1fr;\n",
       "    margin: 10px 0;\n",
       "}\n",
       "\n",
       "@media only screen and (max-width:480px) {\n",
       "    .Answer {\n",
       "        grid-template-columns: 1fr;\n",
       "    }\n",
       "\n",
       "}\n",
       "\n",
       ".Feedback {\n",
       "    font-size: 16pt;\n",
       "    text-align: center;\n",
       "/*    min-height: 2em;*/\n",
       "}\n",
       "\n",
       ".Input {\n",
       "    align: left;\n",
       "    font-size: 20pt;\n",
       "}\n",
       "\n",
       ".Input-text {\n",
       "    display: block;\n",
       "    margin: 10px;\n",
       "    color: inherit;\n",
       "    width: unset;\n",
       "    min-width: 140px;\n",
       "    max-width: 93%;\n",
       "    field-sizing: content;\n",
       "    background-color: var(--jq-numeric-input-bg);\n",
       "    color: var(--jq-text-color);\n",
       "    padding: 5px;\n",
       "    padding-left: 10px;\n",
       "    font-family: inherit;\n",
       "    font-size: 20px;\n",
       "    font-weight: inherit;\n",
       "    line-height: 20pt;\n",
       "    border: none;\n",
       "    border-radius: 0.2rem;\n",
       "    transition: box-shadow 0.1s);\n",
       "}\n",
       "\n",
       ".Input-text:focus {\n",
       "    /*outline: none;*/\n",
       "    background-color: var(--jq-numeric-input-bg);\n",
       "    box-shadow: 0.6rem 0.8rem 1.4rem -0.5rem var(--jq-numeric-input-shadow);\n",
       "}\n",
       "\n",
       ".MCButton {\n",
       "    background: var(--jq-mc-button-bg);\n",
       "    border: 1px solid var(--jq-mc-button-border);\n",
       "    border-radius: inherit;\n",
       "    color: #333333;\n",
       "    padding: 10px;\n",
       "    font-size: 16px;\n",
       "    cursor: pointer;\n",
       "    text-align: center;\n",
       "    display: flex;\n",
       "    align-items: center;\n",
       "    justify-content: center;\n",
       "}\n",
       "\n",
       ".MCButton p {\n",
       "    color: inherit;\n",
       "}\n",
       "\n",
       ".MultipleChoiceQn {\n",
       "    padding: 10px;\n",
       "    background: var(--jq-multiple-choice-bg);\n",
       "    color: var(--jq-text-color);\n",
       "    border-radius: inherit;\n",
       "}\n",
       "\n",
       ".ManyChoiceQn {\n",
       "    padding: 10px;\n",
       "    background: var(--jq-many-choice-bg);\n",
       "    color: var(--jq-text-color);\n",
       "    border-radius: inherit;\n",
       "}\n",
       "\n",
       ".NumericQn {\n",
       "    background: var(--jq-numeric-bg);\n",
       "    border-radius: inherit;\n",
       "    color: var(--jq-text-color);\n",
       "    padding: 10px;\n",
       "}\n",
       "\n",
       ".NumericQn p {\n",
       "    color: inherit;\n",
       "}\n",
       "\n",
       ".StringQn {\n",
       "    background: var(--jq-string-bg);\n",
       "    border-radius: inherit;\n",
       "    color: var(--jq-text-color);\n",
       "    padding: 10px;\n",
       "}\n",
       "\n",
       ".StringQn p {\n",
       "    color: inherit;\n",
       "}\n",
       "\n",
       "\n",
       ".InpLabel {\n",
       "    color: var(--jq-numeric-input-label);\n",
       "    float: left;\n",
       "    font-size: 15pt;\n",
       "    line-height: 34px;\n",
       "    margin-right: 10px;\n",
       "}\n",
       "\n",
       ".incorrect {\n",
       "    color: var(--jq-incorrect-color);\n",
       "}\n",
       "\n",
       ".correct {\n",
       "    color: var(--jq-correct-color);\n",
       "}\n",
       "\n",
       ".correctButton {\n",
       "    /*\n",
       "    background: var(--jq-correct-color);\n",
       "   */\n",
       "    animation: correct-anim 0.6s ease;\n",
       "    animation-fill-mode: forwards;\n",
       "    box-shadow: inset 0 0 5px var(--jq-mc-button-inset-shadow);\n",
       "    color: var(--jq-text-color);\n",
       "    /*outline: none;*/\n",
       "}\n",
       "\n",
       ".incorrectButton {\n",
       "    animation: incorrect-anim 0.8s ease;\n",
       "    animation-fill-mode: forwards;\n",
       "    box-shadow: inset 0 0 5px var(--jq-mc-button-inset-shadow);\n",
       "    color: var(--jq-text-color);\n",
       "    /*outline: none;*/\n",
       "}\n",
       "\n",
       "@keyframes incorrect-anim {\n",
       "    100% {\n",
       "        background-color: var(--jq-incorrect-color);\n",
       "    }\n",
       "}\n",
       "\n",
       "@keyframes correct-anim {\n",
       "    100% {\n",
       "        background-color: var(--jq-correct-color);\n",
       "    }\n",
       "}\n",
       "</style>"
      ],
      "text/plain": [
       "<IPython.core.display.HTML object>"
      ]
     },
     "metadata": {},
     "output_type": "display_data"
    },
    {
     "data": {
      "application/javascript": "var questionsUzdzIGfTtuLq=[{\"question\": \"\\u05de\\u05d4 \\u05d4\\u05d4\\u05d1\\u05d3\\u05dc \\u05d1\\u05d9\\u05df x * y \\u05dc\\u05bex.dot(y) \\u05d1\\u05beNumPy \\u05db\\u05d0\\u05e9\\u05e8 x \\u05d5\\u05bey \\u05d4\\u05df \\u05de\\u05d8\\u05e8\\u05d9\\u05e6\\u05d5\\u05ea?\", \"type\": \"many_choice\", \"answers\": [{\"answer\": \"* \\u05e2\\u05d5\\u05e9\\u05d4 \\u05db\\u05e4\\u05dc \\u05de\\u05d8\\u05e8\\u05d9\\u05e6\\u05d5\\u05ea \\u05d5\\u05bedot \\u05db\\u05e4\\u05dc \\u05d0\\u05d9\\u05d1\\u05e8\\u05be\\u05d0\\u05d9\\u05d1\\u05e8\", \"correct\": false, \"feedback\": \"\\u05dc\\u05d0 \\u05e0\\u05db\\u05d5\\u05df\"}, {\"answer\": \"* \\u05e2\\u05d5\\u05e9\\u05d4 \\u05db\\u05e4\\u05dc \\u05d0\\u05d9\\u05d1\\u05e8\\u05be\\u05d0\\u05d9\\u05d1\\u05e8 \\u05d5\\u05bedot \\u05db\\u05e4\\u05dc \\u05de\\u05d8\\u05e8\\u05d9\\u05e6\\u05d5\\u05ea\", \"correct\": true, \"feedback\": \"\\u05e0\\u05db\\u05d5\\u05df!\"}, {\"answer\": \"\\u05e9\\u05ea\\u05d9\\u05d4\\u05df \\u05e2\\u05d5\\u05e9\\u05d5\\u05ea \\u05db\\u05e4\\u05dc \\u05de\\u05d8\\u05e8\\u05d9\\u05e6\\u05d5\\u05ea\", \"correct\": false, \"feedback\": \"\\u05dc\\u05d0 \\u05e0\\u05db\\u05d5\\u05df\"}, {\"answer\": \"\\u05e9\\u05ea\\u05d9\\u05d4\\u05df \\u05e2\\u05d5\\u05e9\\u05d5\\u05ea \\u05db\\u05e4\\u05dc \\u05d0\\u05d9\\u05d1\\u05e8\\u05be\\u05d0\\u05d9\\u05d1\\u05e8\", \"correct\": false, \"feedback\": \"\\u05dc\\u05d0 \\u05e0\\u05db\\u05d5\\u05df\"}]}];\n\nif (typeof Question === 'undefined') {\n// Make a random ID\nfunction makeid(length) {\n    var result = [];\n    var characters = 'ABCDEFGHIJKLMNOPQRSTUVWXYZabcdefghijklmnopqrstuvwxyz';\n    var charactersLength = characters.length;\n    for (var i = 0; i < length; i++) {\n        result.push(characters.charAt(Math.floor(Math.random() * charactersLength)));\n    }\n    return result.join('');\n}\n// Convert LaTeX delimiters and markdown links to HTML\nfunction jaxify(string) {\n    let mystring = string;\n    let count = 0, count2 = 0;\n    let loc = mystring.search(/([^\\\\]|^)(\\$)/);\n    let loc2 = mystring.search(/([^\\\\]|^)(\\$\\$)/);\n    while (loc >= 0 || loc2 >= 0) {\n        if (loc2 >= 0) {\n            mystring = mystring.replace(/([^\\\\]|^)(\\$\\$)/, count2 % 2 ? '$1\\\\]' : '$1\\\\[');\n            count2++;\n        } else {\n            mystring = mystring.replace(/([^\\\\]|^)(\\$)/, count % 2 ? '$1\\\\)' : '$1\\\\(');\n            count++;\n        }\n        loc = mystring.search(/([^\\\\]|^)(\\$)/);\n        loc2 = mystring.search(/([^\\\\]|^)(\\$\\$)/);\n    }\n    // Replace markdown links\n    mystring = mystring.replace(/<http(.*?)>/g, '<a href=\"http$1\" target=\"_blank\" class=\"Link\">http$1</a>');\n    mystring = mystring.replace(/\\[(.*?)\\]\\((.*?)\\)/g, '<a href=\"$2\" target=\"_blank\" class=\"Link\">$1</a>');\n    return mystring;\n}\n\n// Base class for question types\nclass Question {\n    static registry = {};\n    static register(type, cls) {\n        Question.registry[type] = cls;\n    }\n    static create(qa, id, index, options, rootDiv) {\n        const Cls = Question.registry[qa.type];\n        if (!Cls) {\n            console.error(`No question class registered for type \"${qa.type}\"`);\n            return;\n        }\n        const q = new Cls(qa, id, index, options, rootDiv);\n        q.render();\n    }\n\n    constructor(qa, id, index, options, rootDiv) {\n        this.qa = qa;\n        this.id = id;\n        this.index = index;\n        this.options = options;\n        this.rootDiv = rootDiv;\n        // wrapper\n        this.wrapper = document.createElement('div');\n        this.wrapper.id = `quizWrap${id}`;\n        this.wrapper.className = 'Quiz';\n        this.wrapper.dataset.qnum = index;\n        this.wrapper.style.maxWidth = `${options.maxWidth}px`;\n        rootDiv.appendChild(this.wrapper);\n        // question container\n        this.outerqDiv = document.createElement('div');\n        this.outerqDiv.id = `OuterquizQn${id}${index}`;\n        this.wrapper.appendChild(this.outerqDiv);\n        // question text\n        this.qDiv = document.createElement('div');\n        this.qDiv.id = `quizQn${id}${index}`;\n        if (qa.question) {\n            this.qDiv.innerHTML = jaxify(qa.question);\n            this.outerqDiv.appendChild(this.qDiv);\n        }\n        // code block\n        if (qa.code) {\n            const codeDiv = document.createElement('div');\n            codeDiv.id = `code${id}${index}`;\n            codeDiv.className = 'QuizCode';\n            const pre = document.createElement('pre');\n            const codeEl = document.createElement('code');\n            codeEl.innerHTML = qa.code;\n            pre.appendChild(codeEl);\n            codeDiv.appendChild(pre);\n            this.outerqDiv.appendChild(codeDiv);\n        }\n        // answer container\n        this.aDiv = document.createElement('div');\n        this.aDiv.id = `quizAns${id}${index}`;\n        this.aDiv.className = 'Answer';\n        this.wrapper.appendChild(this.aDiv);\n        // feedback container (append after answers)\n        this.fbDiv = document.createElement('div');\n        this.fbDiv.id = `fb${id}`;\n        this.fbDiv.className = 'Feedback';\n        this.fbDiv.dataset.answeredcorrect = 0;\n    }\n\n    render() {\n        throw new Error('render() not implemented');\n    }\n\n    preserveResponse(val) {\n        if (!this.options.preserveResponses) return;\n        const resp = document.getElementById(`responses${this.rootDiv.id}`);\n        if (!resp) return;\n        const arr = JSON.parse(resp.dataset.responses);\n        arr[this.index] = val;\n        resp.dataset.responses = JSON.stringify(arr);\n        printResponses(resp);\n    }\n\n    typeset(container) {\n        if (typeof MathJax !== 'undefined') {\n            const v = MathJax.version;\n            if (v[0] === '2') {\n                MathJax.Hub.Queue(['Typeset', MathJax.Hub]);\n            } else {\n                MathJax.typeset([container]);\n            }\n        }\n    }\n}\n\n// Choose a random subset of an array. Can also be used to shuffle the array\nfunction getRandomSubarray(arr, size) {\n    var shuffled = arr.slice(0), i = arr.length, temp, index;\n    while (i--) {\n        index = Math.floor((i + 1) * Math.random());\n        temp = shuffled[index];\n        shuffled[index] = shuffled[i];\n        shuffled[i] = temp;\n    }\n    return shuffled.slice(0, size);\n}\n\nfunction printResponses(responsesContainer) {\n    var responses=JSON.parse(responsesContainer.dataset.responses);\n    var stringResponses='<B>IMPORTANT!</B>To preserve this answer sequence for submission, when you have finalized your answers: <ol> <li> Copy the text in this cell below \"Answer String\"</li> <li> Double click on the cell directly below the Answer String, labeled \"Replace Me\"</li> <li> Select the whole \"Replace Me\" text</li> <li> Paste in your answer string and press shift-Enter.</li><li>Save the notebook using the save icon or File->Save Notebook menu item</li></ul><br><br><br><b>Answer String:</b><br> ';\n    console.log(responses);\n    responses.forEach((response, index) => {\n        if (response) {\n            console.log(index + ': ' + response);\n            stringResponses+= index + ': ' + response +\"<BR>\";\n        }\n    });\n    responsesContainer.innerHTML=stringResponses;\n}\n/* Callback function to determine whether a selected multiple-choice\n   button corresponded to a correct answer and to provide feedback\n   based on the answer */\nfunction check_mc() {\n    var id = this.id.split('-')[0];\n    //var response = this.id.split('-')[1];\n    //console.log(response);\n    //console.log(\"In check_mc(), id=\"+id);\n    //console.log(event.srcElement.id)           \n    //console.log(event.srcElement.dataset.correct)   \n    //console.log(event.srcElement.dataset.feedback)\n\n    var label = event.srcElement;\n    //console.log(label, label.nodeName);\n    var depth = 0;\n    while ((label.nodeName != \"LABEL\") && (depth < 20)) {\n        label = label.parentElement;\n        console.log(depth, label);\n        depth++;\n    }\n\n\n\n    var answers = label.parentElement.children;\n    //console.log(answers);\n\n    // Split behavior based on multiple choice vs many choice:\n    var fb = document.getElementById(\"fb\" + id);\n\n\n\n    /* Multiple choice (1 answer). Allow for 0 correct\n       answers as an edge case */\n    if (fb.dataset.numcorrect <= 1) {\n        // What follows is for the saved responses stuff\n        var outerContainer = fb.parentElement.parentElement;\n        var responsesContainer = document.getElementById(\"responses\" + outerContainer.id);\n        if (responsesContainer) {\n            //console.log(responsesContainer);\n            var response = label.firstChild.innerText;\n            if (label.querySelector(\".QuizCode\")){\n                response+= label.querySelector(\".QuizCode\").firstChild.innerText;\n            }\n            console.log(response);\n            //console.log(document.getElementById(\"quizWrap\"+id));\n            var qnum = document.getElementById(\"quizWrap\"+id).dataset.qnum;\n            console.log(\"Question \" + qnum);\n            //console.log(id, \", got numcorrect=\",fb.dataset.numcorrect);\n            var responses=JSON.parse(responsesContainer.dataset.responses);\n            console.log(responses);\n            responses[qnum]= response;\n            responsesContainer.setAttribute('data-responses', JSON.stringify(responses));\n            printResponses(responsesContainer);\n        }\n        // End code to preserve responses\n\n        for (var i = 0; i < answers.length; i++) {\n            var child = answers[i];\n            //console.log(child);\n            child.className = \"MCButton\";\n        }\n\n\n\n        if (label.dataset.correct == \"true\") {\n            // console.log(\"Correct action\");\n            if (\"feedback\" in label.dataset) {\n                fb.innerHTML = jaxify(label.dataset.feedback);\n            } else {\n                fb.innerHTML = \"Correct!\";\n            }\n            label.classList.add(\"correctButton\");\n\n            fb.className = \"Feedback\";\n            fb.classList.add(\"correct\");\n\n        } else {\n            if (\"feedback\" in label.dataset) {\n                fb.innerHTML = jaxify(label.dataset.feedback);\n            } else {\n                fb.innerHTML = \"Incorrect -- try again.\";\n            }\n            //console.log(\"Error action\");\n            label.classList.add(\"incorrectButton\");\n            fb.className = \"Feedback\";\n            fb.classList.add(\"incorrect\");\n        }\n    }\n    else { /* Many choice (more than 1 correct answer) */\n        var reset = false;\n        var feedback;\n         if (label.dataset.correct == \"true\") {\n            if (\"feedback\" in label.dataset) {\n                feedback = jaxify(label.dataset.feedback);\n            } else {\n                feedback = \"Correct!\";\n            }\n            if (label.dataset.answered <= 0) {\n                if (fb.dataset.answeredcorrect < 0) {\n                    fb.dataset.answeredcorrect = 1;\n                    reset = true;\n                } else {\n                    fb.dataset.answeredcorrect++;\n                }\n                if (reset) {\n                    for (var i = 0; i < answers.length; i++) {\n                        var child = answers[i];\n                        child.className = \"MCButton\";\n                        child.dataset.answered = 0;\n                    }\n                }\n                label.classList.add(\"correctButton\");\n                label.dataset.answered = 1;\n                fb.className = \"Feedback\";\n                fb.classList.add(\"correct\");\n\n            }\n        } else {\n            if (\"feedback\" in label.dataset) {\n                feedback = jaxify(label.dataset.feedback);\n            } else {\n                feedback = \"Incorrect -- try again.\";\n            }\n            if (fb.dataset.answeredcorrect > 0) {\n                fb.dataset.answeredcorrect = -1;\n                reset = true;\n            } else {\n                fb.dataset.answeredcorrect--;\n            }\n\n            if (reset) {\n                for (var i = 0; i < answers.length; i++) {\n                    var child = answers[i];\n                    child.className = \"MCButton\";\n                    child.dataset.answered = 0;\n                }\n            }\n            label.classList.add(\"incorrectButton\");\n            fb.className = \"Feedback\";\n            fb.classList.add(\"incorrect\");\n        }\n        // What follows is for the saved responses stuff\n        var outerContainer = fb.parentElement.parentElement;\n        var responsesContainer = document.getElementById(\"responses\" + outerContainer.id);\n        if (responsesContainer) {\n            //console.log(responsesContainer);\n            var response = label.firstChild.innerText;\n            if (label.querySelector(\".QuizCode\")){\n                response+= label.querySelector(\".QuizCode\").firstChild.innerText;\n            }\n            console.log(response);\n            //console.log(document.getElementById(\"quizWrap\"+id));\n            var qnum = document.getElementById(\"quizWrap\"+id).dataset.qnum;\n            console.log(\"Question \" + qnum);\n            //console.log(id, \", got numcorrect=\",fb.dataset.numcorrect);\n            var responses=JSON.parse(responsesContainer.dataset.responses);\n            if (label.dataset.correct == \"true\") {\n                if (typeof(responses[qnum]) == \"object\"){\n                    if (!responses[qnum].includes(response))\n                        responses[qnum].push(response);\n                } else{\n                    responses[qnum]= [ response ];\n                }\n            } else {\n                responses[qnum]= response;\n            }\n            console.log(responses);\n            responsesContainer.setAttribute('data-responses', JSON.stringify(responses));\n            printResponses(responsesContainer);\n        }\n        // End save responses stuff\n\n\n\n        var numcorrect = fb.dataset.numcorrect;\n        var answeredcorrect = fb.dataset.answeredcorrect;\n        if (answeredcorrect >= 0) {\n            fb.innerHTML = feedback + \" [\" + answeredcorrect + \"/\" + numcorrect + \"]\";\n        } else {\n            fb.innerHTML = feedback + \" [\" + 0 + \"/\" + numcorrect + \"]\";\n        }\n\n\n    }\n\n    if (typeof MathJax != 'undefined') {\n        var version = MathJax.version;\n        console.log('MathJax version', version);\n        if (version[0] == \"2\") {\n            MathJax.Hub.Queue([\"Typeset\", MathJax.Hub]);\n        } else if (version[0] == \"3\") {\n            MathJax.typeset([fb]);\n        }\n    } else {\n        console.log('MathJax not detected');\n    }\n\n}\n\n\n/* Function to produce the HTML buttons for a multiple choice/\n   many choice question  and to update the CSS tags based on\n   the question type */\nfunction make_mc(qa, shuffle_answers, outerqDiv, qDiv, aDiv, id) {\n\n    var shuffled;\n    if (shuffle_answers == true) {\n        //console.log(shuffle_answers+\" read as true\");\n        shuffled = getRandomSubarray(qa.answers, qa.answers.length);\n    } else {\n        //console.log(shuffle_answers+\" read as false\");\n        shuffled = qa.answers;\n    }\n\n\n    var num_correct = 0;\n\n    shuffled.forEach((item, index, ans_array) => {\n        //console.log(answer);\n\n        // Make input element\n        var inp = document.createElement(\"input\");\n        inp.type = \"radio\";\n        inp.id = \"quizo\" + id + index;\n        inp.style = \"display:none;\";\n        aDiv.append(inp);\n\n        //Make label for input element\n        var lab = document.createElement(\"label\");\n        lab.className = \"MCButton\";\n        lab.id = id + '-' + index;\n        lab.onclick = check_mc;\n        var aSpan = document.createElement('span');\n        aSpan.classsName = \"\";\n        //qDiv.id=\"quizQn\"+id+index;\n        if (\"answer\" in item) {\n            aSpan.innerHTML = jaxify(item.answer);\n            //aSpan.innerHTML=item.answer;\n        }\n        lab.append(aSpan);\n\n        // Create div for code inside question\n        var codeSpan;\n        if (\"code\" in item) {\n            codeSpan = document.createElement('span');\n            codeSpan.id = \"code\" + id + index;\n            codeSpan.className = \"QuizCode\";\n            var codePre = document.createElement('pre');\n            codeSpan.append(codePre);\n            var codeCode = document.createElement('code');\n            codePre.append(codeCode);\n            codeCode.innerHTML = item.code;\n            lab.append(codeSpan);\n            //console.log(codeSpan);\n        }\n\n        //lab.textContent=item.answer;\n\n        // Set the data attributes for the answer\n        lab.setAttribute('data-correct', item.correct);\n        if (item.correct) {\n            num_correct++;\n        }\n        if (\"feedback\" in item) {\n            lab.setAttribute('data-feedback', item.feedback);\n        }\n        lab.setAttribute('data-answered', 0);\n\n        aDiv.append(lab);\n\n    });\n\n    if (num_correct > 1) {\n        outerqDiv.className = \"ManyChoiceQn\";\n    } else {\n        outerqDiv.className = \"MultipleChoiceQn\";\n    }\n\n    return num_correct;\n\n}\n// Object-oriented wrapper for MC/MANY choice\nclass MCQuestion extends Question {\n    constructor(qa, id, idx, opts, rootDiv) { super(qa, id, idx, opts, rootDiv); }\n    render() {\n        //console.log(\"options.shuffleAnswers \" + this.options.shuffleAnswers);\n        const numCorrect = make_mc(\n            this.qa,\n            this.options.shuffleAnswers,\n            this.outerqDiv,\n            this.qDiv,\n            this.aDiv,\n            this.id\n        );\n        if ('answer_cols' in this.qa) {\n            this.aDiv.style.gridTemplateColumns =\n                'repeat(' + this.qa.answer_cols + ', 1fr)';\n        }\n        this.fbDiv.dataset.numcorrect = numCorrect;\n        this.wrapper.appendChild(this.fbDiv);\n    }\n}\nQuestion.register('multiple_choice', MCQuestion);\nQuestion.register('many_choice', MCQuestion);\nfunction check_numeric(ths, event) {\n\n    if (event.keyCode === 13) {\n        ths.blur();\n\n        var id = ths.id.split('-')[0];\n\n        var submission = ths.value;\n        if (submission.indexOf('/') != -1) {\n            var sub_parts = submission.split('/');\n            //console.log(sub_parts);\n            submission = sub_parts[0] / sub_parts[1];\n        }\n        //console.log(\"Reader entered\", submission);\n\n        if (\"precision\" in ths.dataset) {\n            var precision = ths.dataset.precision;\n            submission = Number(Number(submission).toPrecision(precision));\n        }\n\n\n        //console.log(\"In check_numeric(), id=\"+id);\n        //console.log(event.srcElement.id)           \n        //console.log(event.srcElement.dataset.feedback)\n\n        var fb = document.getElementById(\"fb\" + id);\n        fb.style.display = \"none\";\n        fb.innerHTML = \"Incorrect -- try again.\";\n\n        var answers = JSON.parse(ths.dataset.answers);\n        //console.log(answers);\n\n        var defaultFB = \"Incorrect. Try again.\";\n        var correct;\n        var done = false;\n        answers.every(answer => {\n            //console.log(answer.type);\n\n            correct = false;\n            // if (answer.type==\"value\"){\n            if ('value' in answer) {\n                var value;\n                if (\"precision\" in ths.dataset) {\n                    value = answer.value.toPrecision(ths.dataset.precision);\n                } else {\n                    value = answer.value;\n                }\n                if (submission == value) {\n                    if (\"feedback\" in answer) {\n                        fb.innerHTML = jaxify(answer.feedback);\n                    } else {\n                        fb.innerHTML = jaxify(\"Correct\");\n                    }\n                    correct = answer.correct;\n                    //console.log(answer.correct);\n                    done = true;\n                }\n\n                // } else if (answer.type==\"range\") {\n            } else if ('range' in answer) {\n                console.log(answer.range);\n                console.log(submission, submission >=answer.range[0], submission < answer.range[1])\n                if ((submission >= answer.range[0]) && (submission < answer.range[1])) {\n                    fb.innerHTML = jaxify(answer.feedback);\n                    correct = answer.correct;\n                    console.log(answer.correct);\n                    done = true;\n                }\n            } else if (answer.type == \"default\") {\n                if (\"feedback\" in answer) {\n                    defaultFB = answer.feedback;\n                } \n            }\n            if (done) {\n                return false; // Break out of loop if this has been marked correct\n            } else {\n                return true; // Keep looking for case that includes this as a correct answer\n            }\n        });\n        console.log(\"done:\", done);\n\n        if ((!done) && (defaultFB != \"\")) {\n            fb.innerHTML = jaxify(defaultFB);\n            //console.log(\"Default feedback\", defaultFB);\n        }\n\n        fb.style.display = \"block\";\n        if (correct) {\n            ths.className = \"Input-text\";\n            ths.classList.add(\"correctButton\");\n            fb.className = \"Feedback\";\n            fb.classList.add(\"correct\");\n        } else {\n            ths.className = \"Input-text\";\n            ths.classList.add(\"incorrectButton\");\n            fb.className = \"Feedback\";\n            fb.classList.add(\"incorrect\");\n        }\n\n        // What follows is for the saved responses stuff\n        var outerContainer = fb.parentElement.parentElement;\n        var responsesContainer = document.getElementById(\"responses\" + outerContainer.id);\n        if (responsesContainer) {\n            console.log(submission);\n            var qnum = document.getElementById(\"quizWrap\"+id).dataset.qnum;\n            //console.log(\"Question \" + qnum);\n            //console.log(id, \", got numcorrect=\",fb.dataset.numcorrect);\n            var responses=JSON.parse(responsesContainer.dataset.responses);\n            console.log(responses);\n            if (submission == ths.value){\n                responses[qnum]= submission;\n            } else {\n                responses[qnum]= ths.value + \"(\" + submission +\")\";\n            }\n            responsesContainer.setAttribute('data-responses', JSON.stringify(responses));\n            printResponses(responsesContainer);\n        }\n        // End code to preserve responses\n\n        if (typeof MathJax != 'undefined') {\n            var version = MathJax.version;\n            console.log('MathJax version', version);\n            if (version[0] == \"2\") {\n                MathJax.Hub.Queue([\"Typeset\", MathJax.Hub]);\n            } else if (version[0] == \"3\") {\n                MathJax.typeset([fb]);\n            }\n        } else {\n            console.log('MathJax not detected');\n        }\n        // After correct answer, if next JupyterQuiz question exists and has a text input, scroll by current question height\n        if (correct) {\n            // find the current question wrapper\n            var wrapper = ths.closest('.Quiz');\n            if (wrapper) {\n                var nextWrapper = wrapper.nextElementSibling;\n                if (nextWrapper && nextWrapper.classList.contains('Quiz')) {\n                    var nextInput = nextWrapper.querySelector('input.Input-text');\n                    if (nextInput) {\n                        var height = wrapper.getBoundingClientRect().height;\n                        console.log(height);\n                        nextInput.focus();\n                    }\n                }\n            }\n        }\n        return false;\n    }\n\n}\n// Object-oriented wrapper for numeric questions\nclass NumericQuestion extends Question {\n    constructor(qa, id, idx, opts, rootDiv) {\n        super(qa, id, idx, opts, rootDiv);\n    }\n    render() {\n        make_numeric(this.qa, this.outerqDiv, this.qDiv, this.aDiv, this.id);\n        this.wrapper.appendChild(this.fbDiv);\n    }\n}\nQuestion.register('numeric', NumericQuestion);\n\nfunction isValid(el, charC) {\n    //console.log(\"Input char: \", charC);\n    if (charC == 46) {\n        if (el.value.indexOf('.') === -1) {\n            return true;\n        } else if (el.value.indexOf('/') != -1) {\n            var parts = el.value.split('/');\n            if (parts[1].indexOf('.') === -1) {\n                return true;\n            }\n        }\n        else {\n            return false;\n        }\n    } else if (charC == 47) {\n        if (el.value.indexOf('/') === -1) {\n            if ((el.value != \"\") && (el.value != \".\")) {\n                return true;\n            } else {\n                return false;\n            }\n        } else {\n            return false;\n        }\n    } else if (charC == 45) {\n        var edex = el.value.indexOf('e');\n        if (edex == -1) {\n            edex = el.value.indexOf('E');\n        }\n\n        if (el.value == \"\") {\n            return true;\n        } else if (edex == (el.value.length - 1)) { // If just after e or E\n            return true;\n        } else {\n            return false;\n        }\n    } else if (charC == 101) { // \"e\"\n        if ((el.value.indexOf('e') === -1) && (el.value.indexOf('E') === -1) && (el.value.indexOf('/') == -1)) {\n            // Prev symbol must be digit or decimal point:\n            if (el.value.slice(-1).search(/\\d/) >= 0) {\n                return true;\n            } else if (el.value.slice(-1).search(/\\./) >= 0) {\n                return true;\n            } else {\n                return false;\n            }\n        } else {\n            return false;\n        }\n    } else {\n        if (charC > 31 && (charC < 48 || charC > 57))\n            return false;\n    }\n    return true;\n}\n\nfunction numeric_keypress(evnt) {\n    var charC = (evnt.which) ? evnt.which : evnt.keyCode;\n\n    if (charC == 13) {\n        check_numeric(this, evnt);\n    } else {\n        return isValid(this, charC);\n    }\n}\n\n\n\n\n\nfunction make_numeric(qa, outerqDiv, qDiv, aDiv, id) {\n\n\n\n    //console.log(answer);\n\n\n    outerqDiv.className = \"NumericQn\";\n    aDiv.style.display = 'block';\n\n    var lab = document.createElement(\"label\");\n    lab.className = \"InpLabel\";\n    lab.innerHTML = \"Type numeric answer here:\";\n    aDiv.append(lab);\n\n    var inp = document.createElement(\"input\");\n    inp.type = \"text\";\n    //inp.id=\"input-\"+id;\n    inp.id = id + \"-0\";\n    inp.className = \"Input-text\";\n    inp.setAttribute('data-answers', JSON.stringify(qa.answers));\n    if (\"precision\" in qa) {\n        inp.setAttribute('data-precision', qa.precision);\n    }\n    aDiv.append(inp);\n    //console.log(inp);\n\n    //inp.addEventListener(\"keypress\", check_numeric);\n    //inp.addEventListener(\"keypress\", numeric_keypress);\n    /*\n    inp.addEventListener(\"keypress\", function(event) {\n        return numeric_keypress(this, event);\n    }\n                        );\n                        */\n    //inp.onkeypress=\"return numeric_keypress(this, event)\";\n    inp.onkeypress = numeric_keypress;\n    inp.onpaste = event => false;\n\n    inp.addEventListener(\"focus\", function (event) {\n        this.value = \"\";\n        return false;\n    }\n    );\n\n\n}\n// Override show_questions to use object-oriented Question API\nfunction show_questions(json, container) {\n    // Accept container element or element ID\n    if (typeof container === 'string') {\n        container = document.getElementById(container);\n    }\n    if (!container) {\n        console.error('show_questions: invalid container', container);\n        return;\n    }\n\n    const shuffleQuestions = container.dataset.shufflequestions === 'True';\n    const shuffleAnswers = container.dataset.shuffleanswers === 'True';\n    const preserveResponses = container.dataset.preserveresponses === 'true';\n    const maxWidth = parseInt(container.dataset.maxwidth, 10) || 0;\n    let numQuestions = parseInt(container.dataset.numquestions, 10) || json.length;\n    if (numQuestions > json.length) numQuestions = json.length;\n\n    let questions = json;\n    if (shuffleQuestions || numQuestions < json.length) {\n        questions = getRandomSubarray(json, numQuestions);\n    }\n\n    questions.forEach((qa, index) => {\n        const id = makeid(8);\n        const options = {\n            shuffleAnswers: shuffleAnswers,\n            preserveResponses: preserveResponses,\n            maxWidth: maxWidth\n        };\n        Question.create(qa, id, index, options, container);\n    });\n\n    if (preserveResponses) {\n        const respDiv = document.createElement('div');\n        respDiv.id = 'responses' + container.id;\n        respDiv.className = 'JCResponses';\n        respDiv.dataset.responses = JSON.stringify([]);\n        respDiv.innerHTML = '<b>Select your answers and then follow the directions that will appear here.</b>';\n        container.appendChild(respDiv);\n    }\n\n    // Trigger MathJax typesetting if available\n    if (typeof MathJax != 'undefined') {\n        console.log(\"MathJax version\", MathJax.version);\n        var version = MathJax.version;\n        setTimeout(function(){\n            var version = MathJax.version;\n            console.log('After sleep, MathJax version', version);\n            if (version[0] == \"2\") {\n                MathJax.Hub.Queue([\"Typeset\", MathJax.Hub]);\n            } else if (version[0] == \"3\") {\n                if (MathJax.hasOwnProperty('typeset') ) {\n                    MathJax.typeset([container]);\n                } else {\n                    console.log('WARNING: Trying to force load MathJax 3');\n                    window.MathJax = {\n                        tex: {\n                            inlineMath: [['$', '$'], ['\\\\(', '\\\\)']]\n                        },\n                        svg: {\n                            fontCache: 'global'\n                        }\n                    };\n\n                    (function () {\n                        var script = document.createElement('script');\n                        script.src = 'https://cdn.jsdelivr.net/npm/mathjax@3/es5/tex-svg.js';\n                        script.async = true;\n                        document.head.appendChild(script);\n                    })();\n                }\n            }\n        }, 500);\nif (typeof version == 'undefined') {\n        } else\n        {\n            if (version[0] == \"2\") {\n                MathJax.Hub.Queue([\"Typeset\", MathJax.Hub]);\n            } else if (version[0] == \"3\") {\n                if (MathJax.hasOwnProperty('typeset') ) {\n                    MathJax.typeset([container]);\n                } else {\n                    console.log('WARNING: Trying to force load MathJax 3');\n                    window.MathJax = {\n                        tex: {\n                            inlineMath: [['$', '$'], ['\\\\(', '\\\\)']]\n                        },\n                        svg: {\n                            fontCache: 'global'\n                        }\n                    };\n\n                    (function () {\n                        var script = document.createElement('script');\n                        script.src = 'https://cdn.jsdelivr.net/npm/mathjax@3/es5/tex-svg.js';\n                        script.async = true;\n                        document.head.appendChild(script);\n                    })();\n                }\n            } else {\n                console.log(\"MathJax not found\");\n            }\n        }\n    }\n    // if (typeof MathJax !== 'undefined') {\n    //     const v = MathJax.version;\n    //     if (v[0] === '2') {\n    //         MathJax.Hub.Queue(['Typeset', MathJax.Hub]);\n    //     } else if (v[0] === '3') {\n    //         MathJax.typeset([container]);\n    //     }\n    // }\n\n    // Prevent link clicks from bubbling up\n    Array.from(container.getElementsByClassName('Link')).forEach(link => {\n        link.addEventListener('click', e => e.stopPropagation());\n    });\n}\nfunction levenshteinDistance(a, b) {\n    if (a.length === 0) return b.length;\n    if (b.length === 0) return a.length;\n\n    const matrix = Array(b.length + 1).fill(null).map(() => Array(a.length + 1).fill(null));\n\n    for (let i = 0; i <= a.length; i++) {\n        matrix[0][i] = i;\n    }\n\n    for (let j = 0; j <= b.length; j++) {\n        matrix[j][0] = j;\n    }\n\n    for (let j = 1; j <= b.length; j++) {\n        for (let i = 1; i <= a.length; i++) {\n            const cost = a[i - 1] === b[j - 1] ? 0 : 1;\n            matrix[j][i] = Math.min(\n                matrix[j - 1][i] + 1, // Deletion\n                matrix[j][i - 1] + 1, // Insertion\n                matrix[j - 1][i - 1] + cost // Substitution\n            );\n        }\n    }\n    return matrix[b.length][a.length];\n}\n// Object-oriented wrapper for string input questions\nclass StringQuestion extends Question {\n    constructor(qa, id, idx, opts, rootDiv) {\n        super(qa, id, idx, opts, rootDiv);\n    }\n    render() {\n        make_string(this.qa, this.outerqDiv, this.qDiv, this.aDiv, this.id);\n        this.wrapper.appendChild(this.fbDiv);\n    }\n}\nQuestion.register('string', StringQuestion);\n\nfunction check_string(ths, event) {\n    if (event.keyCode === 13) {\n        ths.blur();\n\n        var id = ths.id.split('-')[0];\n        var submission = ths.value.trim();\n        var fb = document.getElementById(\"fb\" + id);\n        fb.style.display = \"none\";\n        fb.innerHTML = \"Incorrect -- try again.\";\n\n        var answers = JSON.parse(ths.dataset.answers);\n        var defaultFB = \"Incorrect. Try again.\";\n        var correct;\n        var done = false;\n\n        // Handle default answer pattern: filter out and capture default feedback\n        var filteredAnswers = [];\n        answers.forEach(answer => {\n            if (answer.type === \"default\") {\n                defaultFB = answer.feedback;\n            } else {\n                filteredAnswers.push(answer);\n            }\n        });\n        answers = filteredAnswers;\n\n        answers.every(answer => {\n            correct = false;\n\n            let match = false;\n            if (answer.match_case) {\n                match = submission === answer.answer;\n            } else {\n                match = submission.toLowerCase() === answer.answer.toLowerCase();\n            }\n            console.log(submission);\n            console.log(answer.answer);\n            console.log(match);\n\n            if (match) {\n                if (\"feedback\" in answer) {\n                    fb.innerHTML = jaxify(answer.feedback);\n                } else {\n                    fb.innerHTML = jaxify(\"Correct\");\n                }\n                correct = answer.correct;\n                done = true;\n            } else if (answer.fuzzy_threshold) {\n                var max_length = Math.max(submission.length, answer.answer.length);\n                var ratio;\n                if (answer.match_case) {\n                    ratio = 1- (levenshteinDistance(submission, answer.answer) / max_length);\n                } else {\n                    ratio = 1- (levenshteinDistance(submission.toLowerCase(),\n                                                    answer.answer.toLowerCase()) / max_length);\n                }\n                if (ratio >= answer.fuzzy_threshold) {\n                    if (\"feedback\" in answer) {\n                        fb.innerHTML = jaxify(\"(Fuzzy) \" + answer.feedback);\n                    } else {\n                        fb.innerHTML = jaxify(\"Correct\");\n                    }\n                    correct = answer.correct;\n                    done = true;\n                }\n\n            }\n\n            if (done) {\n                return false;\n            } else {\n                return true;\n            }\n        });\n\n        if ((!done) && (defaultFB != \"\")) {\n            fb.innerHTML = jaxify(defaultFB);\n        }\n\n        fb.style.display = \"block\";\n        if (correct) {\n            ths.className = \"Input-text\";\n            ths.classList.add(\"correctButton\");\n            fb.className = \"Feedback\";\n            fb.classList.add(\"correct\");\n        } else {\n            ths.className = \"Input-text\";\n            ths.classList.add(\"incorrectButton\");\n            fb.className = \"Feedback\";\n            fb.classList.add(\"incorrect\");\n        }\n\n        var outerContainer = fb.parentElement.parentElement;\n        var responsesContainer = document.getElementById(\"responses\" + outerContainer.id);\n        if (responsesContainer) {\n            var qnum = document.getElementById(\"quizWrap\" + id).dataset.qnum;\n            var responses = JSON.parse(responsesContainer.dataset.responses);\n            responses[qnum] = submission;\n            responsesContainer.setAttribute('data-responses', JSON.stringify(responses));\n            printResponses(responsesContainer);\n        }\n\n        if (typeof MathJax != 'undefined') {\n            var version = MathJax.version;\n            if (version[0] == \"2\") {\n                MathJax.Hub.Queue([\"Typeset\", MathJax.Hub]);\n            } else if (version[0] == \"3\") {\n                MathJax.typeset([fb]);\n            }\n        } else {\n            console.log('MathJax not detected');\n        }\n        // After correct answer, if next JupyterQuiz question exists and has a text input, scroll by current question height\n        if (correct) {\n            var wrapper = ths.closest('.Quiz');\n            if (wrapper) {\n                var nextWrapper = wrapper.nextElementSibling;\n                if (nextWrapper && nextWrapper.classList.contains('Quiz')) {\n                    var nextInput = nextWrapper.querySelector('input.Input-text');\n                    if (nextInput) {\n                        var height = wrapper.getBoundingClientRect().height;\n                        nextInput.focus();\n                    }\n                }\n            }\n        }\n        return false;\n    }\n}\n\nfunction string_keypress(evnt) {\n    var charC = (evnt.which) ? evnt.which : evnt.keyCode;\n\n    if (charC == 13) {\n        check_string(this, evnt);\n    } \n}\n\n\nfunction make_string(qa, outerqDiv, qDiv, aDiv, id) {\n    outerqDiv.className = \"StringQn\";\n    aDiv.style.display = 'block';\n\n    var lab = document.createElement(\"label\");\n    lab.className = \"InpLabel\";\n    lab.innerHTML = \"Type your answer here:\";\n    aDiv.append(lab);\n\n    var inp = document.createElement(\"input\");\n    inp.type = \"text\";\n    inp.id = id + \"-0\";\n    inp.className = \"Input-text\";\n    inp.setAttribute('data-answers', JSON.stringify(qa.answers));\n    // Apply optional input width (approx. number of characters, in em units)\n    if (qa.input_width != null) {\n        inp.style['min-width'] = qa.input_width + 'em';\n    }\n    aDiv.append(inp);\n\n    inp.onkeypress = string_keypress;\n    inp.onpaste = event => false;\n\n    inp.addEventListener(\"focus\", function (event) {\n        this.value = \"\";\n        return false;\n    });\n}\n/*\n * Handle asynchrony issues when re-running quizzes in Jupyter notebooks.\n * Ensures show_questions is called after the container div is in the DOM.\n */\nfunction try_show() {\n  if (document.getElementById(\"UzdzIGfTtuLq\")) {\n    show_questions(questionsUzdzIGfTtuLq, UzdzIGfTtuLq);\n  } else {\n    setTimeout(try_show, 200);\n  }\n};\n// Invoke immediately\n{\n  try_show();\n}\n}\n",
      "text/plain": [
       "<IPython.core.display.Javascript object>"
      ]
     },
     "metadata": {},
     "output_type": "display_data"
    }
   ],
   "source": [
    "import json\n",
    "from jupyterquiz import display_quiz\n",
    "example = \\\n",
    "'''\n",
    "   [{\n",
    "    \n",
    "        \"question\": \"מה ההבדל בין x * y ל־x.dot(y) ב־NumPy כאשר x ו־y הן מטריצות?\",\n",
    "        \"type\": \"many_choice\",\n",
    "        \"answers\": [\n",
    "            {\n",
    "                \"answer\": \"* עושה כפל מטריצות ו־dot כפל איבר־איבר\",\n",
    "                \"correct\": false,\n",
    "                \"feedback\": \"לא נכון\"\n",
    "            },\n",
    "            {\n",
    "                \"answer\": \"* עושה כפל איבר־איבר ו־dot כפל מטריצות\",\n",
    "                \"correct\": true,\n",
    "                \"feedback\": \"נכון!\"\n",
    "            },\n",
    "            {\n",
    "                \"answer\": \"שתיהן עושות כפל מטריצות\",\n",
    "                \"correct\": false,\n",
    "                \"feedback\": \"לא נכון\"\n",
    "\n",
    "            },\n",
    "            {\n",
    "                \"answer\": \"שתיהן עושות כפל איבר־איבר\",\n",
    "                \"correct\": false,\n",
    "                \"feedback\": \"לא נכון\"\n",
    "\n",
    "            }\n",
    "        ]\n",
    "    }]\n",
    "'''\n",
    "myquiz = json.loads(example)\n",
    "display_quiz(myquiz)"
   ]
  },
  {
   "cell_type": "markdown",
   "id": "02f100ea",
   "metadata": {},
   "source": [
    "שימו לב: האופרטור `*` ב־NumPy מייצג **כפל איבר־איבר** (elementwise).  \n",
    "כדי לבצע **כפל מטריציוני אמיתי** יש להשתמש בפונקציה `dot` — או כמתודה על המערך (`a.dot(b)`) או כפונקציה במודול (`np.dot(a,b)`)."
   ]
  },
  {
   "cell_type": "code",
   "execution_count": null,
   "id": "ba2fa0b6",
   "metadata": {},
   "outputs": [],
   "source": [
    "import numpy as np\n",
    "\n",
    "x = np.array([[1,2],[3,4]])\n",
    "y = np.array([[5,6],[7,8]])\n",
    "\n",
    "v = np.array([9,10])\n",
    "w = np.array([11,12])"
   ]
  },
  {
   "cell_type": "markdown",
   "id": "365959cd",
   "metadata": {},
   "source": [
    "מכפלה פנימית (inner product) של שני וקטורים חד־ממדיים מחזירה סקלר."
   ]
  },
  {
   "cell_type": "code",
   "execution_count": null,
   "id": "8fa52fe9",
   "metadata": {},
   "outputs": [],
   "source": [
    "print(v.dot(w))       \n",
    "print(np.dot(v, w))   "
   ]
  },
  {
   "cell_type": "markdown",
   "id": "328049f7",
   "metadata": {},
   "source": [
    "מכפלת מטריצה־וקטור מחזירה וקטור חדש (Rank 1)."
   ]
  },
  {
   "cell_type": "code",
   "execution_count": null,
   "id": "d626b738",
   "metadata": {},
   "outputs": [],
   "source": [
    "print(x.dot(v))       # [29 67]\n",
    "print(np.dot(x, v))   # [29 67]"
   ]
  },
  {
   "cell_type": "markdown",
   "id": "2d792f66",
   "metadata": {},
   "source": [
    "מכפלת מטריצה־מטריצה מחזירה מטריצה חדשה (Rank 2)."
   ]
  },
  {
   "cell_type": "code",
   "execution_count": null,
   "id": "0970db55",
   "metadata": {},
   "outputs": [],
   "source": [
    "print(x.dot(y))\n",
    "print(np.dot(x, y))"
   ]
  },
  {
   "cell_type": "markdown",
   "id": "c2250c92",
   "metadata": {},
   "source": [
    "פונקציה שימושית נוספת היא sum:"
   ]
  },
  {
   "cell_type": "code",
   "execution_count": null,
   "id": "eeecf978",
   "metadata": {},
   "outputs": [],
   "source": [
    "import numpy as np\n",
    "\n",
    "x = np.array([[1,2],[3,4]])\n",
    "\n",
    "print(np.sum(x))  # Compute sum of all elements\n",
    "print(np.sum(x, axis=0))  # Compute sum of each column\n",
    "print(np.sum(x, axis=1))  # Compute sum of each row\n"
   ]
  },
  {
   "cell_type": "markdown",
   "id": "d29197be",
   "metadata": {},
   "source": [
    "לעיתים נרצה לשנות צורה או לבצע מניפולציות אחרות על המערך. הדוגמה הפשוטה ביותר היא טרנספוזיציה (T):"
   ]
  },
  {
   "cell_type": "code",
   "execution_count": null,
   "id": "7cc89b36",
   "metadata": {},
   "outputs": [],
   "source": [
    "import numpy as np\n",
    "\n",
    "x = np.array([[1,2], [3,4]])\n",
    "print(x)    \n",
    "print(x.T)  \n",
    "\n",
    "# Note that taking the transpose of a rank 1 array does nothing:\n",
    "v = np.array([1,2,3])\n",
    "print(v)    \n",
    "print(v.T)  \n"
   ]
  },
  {
   "cell_type": "markdown",
   "id": "bd5904db",
   "metadata": {},
   "source": [
    "### Broadcasting (שידור)\n",
    "Broadcasting הוא מנגנון שמאפשר ל־NumPy לבצע פעולות אריתמטיות בין מערכים בצורות שונות, ע״י שימוש חוזר במערך קטן יותר מול מערך גדול יותר.\n",
    "\n",
    "ללא Broadcasting , אם נרצה להוסיף וקטור קבוע לכל שורה במטריצה, נאלץ להקצות מערך בגודל הסופי ולהשתמש בלולאה (יקר חישובית) על מנת להוסיף את הוקטור לכל שורה במטריצה:"
   ]
  },
  {
   "cell_type": "code",
   "execution_count": null,
   "id": "c4271bb4",
   "metadata": {},
   "outputs": [],
   "source": [
    "import numpy as np\n",
    "\n",
    "# We will add the vector v to each row of the matrix x,\n",
    "# storing the result in the matrix y\n",
    "x = np.array([[1,2,3], [4,5,6], [7,8,9], [10, 11, 12]])\n",
    "v = np.array([1, 0, 1])\n",
    "y = np.empty_like(x)   # Create an empty matrix with the same shape as x\n",
    "\n",
    "# Add the vector v to each row of the matrix x with an explicit loop\n",
    "for i in range(4):\n",
    "    y[i, :] = x[i, :] + v\n",
    "\n",
    "print(y)\n"
   ]
  },
  {
   "cell_type": "markdown",
   "id": "03041a23",
   "metadata": {},
   "source": [
    "Broadcasting חוסך את הצורך ביצירת עותקים ופשוט כותבים:"
   ]
  },
  {
   "cell_type": "code",
   "execution_count": null,
   "id": "0e650983",
   "metadata": {},
   "outputs": [],
   "source": [
    "import numpy as np\n",
    "\n",
    "# We will add the vector v to each row of the matrix x,\n",
    "# storing the result in the matrix y\n",
    "x = np.array([[1,2,3], [4,5,6], [7,8,9], [10, 11, 12]])\n",
    "v = np.array([1, 0, 1])\n",
    "y = x + v  # Add v to each row of x using broadcasting\n",
    "print(y) \n"
   ]
  },
  {
   "cell_type": "markdown",
   "id": "dec09c31",
   "metadata": {},
   "source": [
    "למה זה עובד? כי NumPy “מרחיבה” את v לצורה (4,3) באופן לוגי (ללא הקצאת זיכרון מיותרת).\n",
    "\n",
    "מצורפת תמונה להמחשה של broadcasting:"
   ]
  },
  {
   "cell_type": "markdown",
   "id": "6d1555fa",
   "metadata": {
    "tags": [
     "remove-input"
    ]
   },
   "source": [
    "![Alt text](https://jakevdp.github.io/PythonDataScienceHandbook/figures/02.05-broadcasting.png)"
   ]
  },
  {
   "cell_type": "markdown",
   "id": "4cc532fd",
   "metadata": {},
   "source": [
    "\n",
    "#### כללי ה־broadcasting:\n",
    "\n",
    "כדי שהפעולה תצליח, חייבים להתקיים הכללים הבאים:\n",
    "\n",
    "1. השוואת דרגות (rank) המערכים\n",
    "\n",
    "אם למערכים יש מספר ממדים שונה, מוסיפים 1 בתחילת ה־shape של המערך הקטן יותר, עד שאורכי הצורות שווים.\n",
    "למשל:\n",
    "\n",
    "(4, 3)     ← מערך דו־ממדי\n",
    "(4)        ← מערך חד־ממדי\n",
    "\n",
    "⇒  (4, 3)\n",
    "    (4, 1) ← נוספה 1 בתחילת ה־shape\n",
    "\n",
    "2. תאימות ממדית\n",
    "בממד מסוים שתי הצורות נחשבות תואמות אם: הגודל בממד הזה שווה בשני המערכים, או לאחד מהם יש גודל 1 בממד הזה.\n",
    "\n",
    "דוגמה (תואמים):\n",
    "(3, 1, 5)\n",
    "(3, 4, 5)   ← בממד האמצעי: 1 מול 4 → תואם\n",
    "\n",
    "דוגמה (לא תואמים):\n",
    "(3, 2)\n",
    "(3, 4)   ← בממד הראשון: 2 מול 4 → לא תואם\n",
    "\n",
    "3. בדיקת כל הממדים\n",
    "\n",
    "Broadcasting אפשרי רק אם יש תאימות בכל הממדים לפי סעיף 2.\n",
    "\n",
    "4. קביעת הצורה הסופית\n",
    "\n",
    "הצורה של התוצאה היא ה־shape המתקבל על ידי לקיחת המקסימום רכיב־לרכיב בין שני ה־shape-ים.\n",
    "לדוגמה: \n",
    "(3, 1, 5)\n",
    "(1, 4, 5)\n",
    "⇒ (3, 4, 5)\n",
    "\n",
    "5. שכפול לוגי של ממדים עם 1\n",
    "\n",
    "בממד שבו למערך אחד יש גודל 1 ולשני יש גודל גדול יותר, המערך עם ה־1 “משוכפל” לאורך הממד הזה כך שיתאים לגודל השני — לוגית בלבד, ללא הקצאת זיכרון נוספת.\n",
    "לדוגמא:\n",
    "מערך A בגודל (2, 3) ומערך B בגודל (3). NumPy הופכת את B ל־(1, 3), משכפלת אותו על פני השורה (ממד 0), ומבצעת את הפעולה איבר־איבר לקבלת מערך בגודל (2, 3).\n",
    "\n",
    "[להסבר נוסף](https://scipy.github.io/old-wiki/pages/EricsBroadcastingDoc)"
   ]
  },
  {
   "cell_type": "markdown",
   "id": "5dfcb612",
   "metadata": {},
   "source": [
    "### דוגמאות נוספות:\n",
    "#### כפל חיצוני (Outer Product) באמצעות Broadcasting\n",
    "כדי לחשב כפל חיצוני בין שני וקטורים, נרצה להפוך את הווקטור הראשון לעמודה ולהכפיל איבר־איבר בווקטור השני. התוצאה היא מטריצה שכל איבר בה הוא מכפלת איבר מהווקטור הראשון באיבר מתאים מהווקטור השני.\n"
   ]
  },
  {
   "cell_type": "code",
   "execution_count": null,
   "id": "67b630f8",
   "metadata": {},
   "outputs": [],
   "source": [
    "import numpy as np\n",
    "\n",
    "v = np.array([1, 2, 3])    # shape (3,)\n",
    "w = np.array([4, 5])       # shape (2,)\n",
    "\n",
    "# Make v a column vector, then broadcast against w\n",
    "outer_vw = np.reshape(v, (3, 1)) * w   # (3,1) * (2,) -> (3,2)\n",
    "print(outer_vw)\n",
    "\n",
    "# Alternative, more concise forms:\n",
    "outer_vw2 = v[:, None] * w             # (3,1) * (2,) -> (3,2)\n",
    "print(outer_vw2)\n",
    "\n",
    "# Using dedicated function for clarity:\n",
    "outer_vw3 = np.outer(v, w)             # outer product directly\n",
    "print(outer_vw3)\n"
   ]
  },
  {
   "cell_type": "markdown",
   "id": "1046ec0a",
   "metadata": {},
   "source": [
    "#### הוספת וקטור לכל שורה (Row-wise)\n",
    "כאשר ממד הווקטור מתאים למספר העמודות במטריצה, ניתן להוסיף אותו לכל שורה באמצעות Broadcasting.\n"
   ]
  },
  {
   "cell_type": "code",
   "execution_count": null,
   "id": "f1bf3ba4",
   "metadata": {},
   "outputs": [],
   "source": [
    "x = np.array([[1, 2, 3],\n",
    "              [4, 5, 6]])              # shape (2,3)\n",
    "\n",
    "row_added = x + v                      # (2,3) + (3,) -> (2,3)\n",
    "print(row_added)\n",
    "\n",
    "# Explicit broadcasting with an added row axis:\n",
    "row_added2 = x + v[None, :]            # (2,3) + (1,3) -> (2,3)\n",
    "print(row_added2)"
   ]
  },
  {
   "cell_type": "markdown",
   "id": "75738d50",
   "metadata": {},
   "source": [
    "#### הוספת וקטור לכל עמודה (Column-wise)\n",
    "ניתן להוסיף וקטור באורך מספר השורות לכל עמודה. אפשר לעשות זאת ע\"י טרנספוזיציה או ע\"י שינוי צורה מפורש של הווקטור לעמודה."
   ]
  },
  {
   "cell_type": "code",
   "execution_count": null,
   "id": "5b70ceac",
   "metadata": {},
   "outputs": [],
   "source": [
    "# Using transpose trick\n",
    "col_added = (x.T + w).T                # (3,2)->(3,2), then back to (2,3)\n",
    "print(col_added)\n",
    "\n",
    "# More direct and readable:\n",
    "col_added2 = x + w[:, None]            # (2,3) + (2,1) -> (2,3)\n",
    "print(col_added2)\n"
   ]
  },
  {
   "cell_type": "markdown",
   "id": "18204633",
   "metadata": {},
   "source": [
    "#### כפל בסקלר (Scalar) באמצעות Broadcasting\n",
    "סקלר מתנהג כמו מערך ריק ממדים ומתרחב לצורת המטריצה.\n"
   ]
  },
  {
   "cell_type": "code",
   "execution_count": null,
   "id": "f8bcdff4",
   "metadata": {},
   "outputs": [],
   "source": [
    "scaled = x * 2\n",
    "print(scaled)\n",
    "\n",
    "scaled_div = x / 2\n",
    "print(scaled_div)\n",
    "\n",
    "shifted = x + 3\n",
    "print(shifted)"
   ]
  },
  {
   "cell_type": "markdown",
   "id": "3ba4e471",
   "metadata": {},
   "source": [
    "#### דוגמאות נוספות של Broadcasting שימושי\n",
    "\n",
    "1) הכפלת כל עמודה במשקל שונה (למשל לנרמול).  "
   ]
  },
  {
   "cell_type": "code",
   "execution_count": null,
   "id": "5b31456c",
   "metadata": {},
   "outputs": [],
   "source": [
    "# 1) Column-wise scaling\n",
    "weights = np.array([1.0, 10.0, 100.0])  # shape (3,)\n",
    "scaled_cols = x * weights                # (2,3) * (3,) -> (2,3)\n",
    "print(scaled_cols)"
   ]
  },
  {
   "cell_type": "markdown",
   "id": "e6c307a7",
   "metadata": {},
   "source": [
    "2) החסרת ממוצע עמודות (Centering) — פעולת הכנה נפוצה לניתוח נתונים.  "
   ]
  },
  {
   "cell_type": "code",
   "execution_count": null,
   "id": "69ede33e",
   "metadata": {},
   "outputs": [],
   "source": [
    "# 2) Centering by column means\n",
    "col_means = x.mean(axis=0, keepdims=True)  # shape (1,3)\n",
    "x_centered = x - col_means                  # (2,3) - (1,3) -> (2,3)\n",
    "print(x_centered)"
   ]
  },
  {
   "cell_type": "markdown",
   "id": "1c2987ba",
   "metadata": {},
   "source": [
    "3) נרמול שורות לאורך יחידה — שימושי בווקטורים/דגימות.  "
   ]
  },
  {
   "cell_type": "code",
   "execution_count": null,
   "id": "5994c2db",
   "metadata": {},
   "outputs": [],
   "source": [
    "# 3) Row normalization to unit length\n",
    "row_norms = np.linalg.norm(x, axis=1, keepdims=True)  # shape (2,1)\n",
    "x_row_unit = x / row_norms                             # (2,3)/(2,1) -> (2,3)\n",
    "print(x_row_unit)"
   ]
  },
  {
   "cell_type": "markdown",
   "id": "7bd8b7f4",
   "metadata": {},
   "source": [
    "4) כפל חיצוני בין וקטורים באורכים אחרים להמחשת הכללה."
   ]
  },
  {
   "cell_type": "code",
   "execution_count": null,
   "id": "8c4bf2d0",
   "metadata": {},
   "outputs": [],
   "source": [
    "# 4) Another outer product example with different sizes\n",
    "p = np.array([2, 0, -1, 4])   # shape (4,)\n",
    "q = np.array([-3, 5, 2])      # shape (3,)\n",
    "outer_pq = p[:, None] * q     # (4,1) * (3,) -> (4,3)\n",
    "print(outer_pq)"
   ]
  },
  {
   "cell_type": "markdown",
   "id": "6a93ab75",
   "metadata": {},
   "source": [
    "בדרך כלל broadcasting הופך את הקוד לקצר ומהיר יותר — מומלץ להשתמש בו כשאפשר."
   ]
  },
  {
   "cell_type": "code",
   "execution_count": null,
   "id": "be2eaf0e",
   "metadata": {
    "tags": [
     "remove-input"
    ]
   },
   "outputs": [
    {
     "data": {
      "text/html": [
       "<div id=\"IKLIbuTLhrUf\" data-shufflequestions=\"False\" data-shuffleanswers=\"True\" data-preserveresponses=\"false\" data-numquestions=\"1000000\" data-maxwidth=\"600\" style=\"border-radius: 10px; text-align: left\"><style>\n",
       "#IKLIbuTLhrUf {\n",
       "   --jq-multiple-choice-bg: #6f78ffff;\n",
       "   --jq-mc-button-bg: #fafafa;\n",
       "   --jq-mc-button-border: #e0e0e0e0;\n",
       "   --jq-mc-button-inset-shadow: #555555;\n",
       "   --jq-many-choice-bg: #f75c03ff;\n",
       "   --jq-numeric-bg: #392061ff;\n",
       "   --jq-numeric-input-bg: #c0c0c0;\n",
       "   --jq-numeric-input-label: #101010;\n",
       "   --jq-numeric-input-shadow: #999999;\n",
       "   --jq-string-bg: #4c1a57;\n",
       "   --jq-incorrect-color: #c80202;\n",
       "   --jq-correct-color: #009113;\n",
       "   --jq-text-color: #fafafa;\n",
       "}\n",
       "\n",
       ".Quiz {\n",
       "    max-width: 600px;\n",
       "    margin-top: 15px;\n",
       "    margin-left: auto;\n",
       "    margin-right: auto;\n",
       "/*    margin-bottom: 15px;*/\n",
       "/*    padding-bottom: 4px;*/\n",
       "    padding-top: 4px;\n",
       "    line-height: 1.1;\n",
       "    font-size: 16pt;\n",
       "    border-radius: inherit;\n",
       "}\n",
       "\n",
       ".QuizCode {\n",
       "    font-size: 14pt;\n",
       "    margin-top: 10px;\n",
       "    margin-left: 20px;\n",
       "    margin-right: 20px;\n",
       "}\n",
       "\n",
       ".QuizCode>pre {\n",
       "    padding: 4px;\n",
       "}\n",
       "\n",
       ".Quiz code {\n",
       "    background-color: lightgray;\n",
       "    color: black;\n",
       "}\n",
       "\n",
       ".Quiz .QuizCode code {\n",
       "    background-color: inherit;\n",
       "    color: inherit;\n",
       "}\n",
       "\n",
       "\n",
       ".Quiz .MCButton code {\n",
       "    background-color: inherit;\n",
       "    color: inherit;\n",
       "}\n",
       "\n",
       ".MCButton .QuizCode {\n",
       "    text-align: left;\n",
       "}\n",
       "\n",
       "\n",
       "\n",
       "\n",
       ".Answer {\n",
       "    border-radius: inherit;\n",
       "    display: grid;\n",
       "    grid-gap: 10px;\n",
       "    grid-template-columns: 1fr 1fr;\n",
       "    margin: 10px 0;\n",
       "}\n",
       "\n",
       "@media only screen and (max-width:480px) {\n",
       "    .Answer {\n",
       "        grid-template-columns: 1fr;\n",
       "    }\n",
       "\n",
       "}\n",
       "\n",
       ".Feedback {\n",
       "    font-size: 16pt;\n",
       "    text-align: center;\n",
       "/*    min-height: 2em;*/\n",
       "}\n",
       "\n",
       ".Input {\n",
       "    align: left;\n",
       "    font-size: 20pt;\n",
       "}\n",
       "\n",
       ".Input-text {\n",
       "    display: block;\n",
       "    margin: 10px;\n",
       "    color: inherit;\n",
       "    width: unset;\n",
       "    min-width: 140px;\n",
       "    max-width: 93%;\n",
       "    field-sizing: content;\n",
       "    background-color: var(--jq-numeric-input-bg);\n",
       "    color: var(--jq-text-color);\n",
       "    padding: 5px;\n",
       "    padding-left: 10px;\n",
       "    font-family: inherit;\n",
       "    font-size: 20px;\n",
       "    font-weight: inherit;\n",
       "    line-height: 20pt;\n",
       "    border: none;\n",
       "    border-radius: 0.2rem;\n",
       "    transition: box-shadow 0.1s);\n",
       "}\n",
       "\n",
       ".Input-text:focus {\n",
       "    /*outline: none;*/\n",
       "    background-color: var(--jq-numeric-input-bg);\n",
       "    box-shadow: 0.6rem 0.8rem 1.4rem -0.5rem var(--jq-numeric-input-shadow);\n",
       "}\n",
       "\n",
       ".MCButton {\n",
       "    background: var(--jq-mc-button-bg);\n",
       "    border: 1px solid var(--jq-mc-button-border);\n",
       "    border-radius: inherit;\n",
       "    color: #333333;\n",
       "    padding: 10px;\n",
       "    font-size: 16px;\n",
       "    cursor: pointer;\n",
       "    text-align: center;\n",
       "    display: flex;\n",
       "    align-items: center;\n",
       "    justify-content: center;\n",
       "}\n",
       "\n",
       ".MCButton p {\n",
       "    color: inherit;\n",
       "}\n",
       "\n",
       ".MultipleChoiceQn {\n",
       "    padding: 10px;\n",
       "    background: var(--jq-multiple-choice-bg);\n",
       "    color: var(--jq-text-color);\n",
       "    border-radius: inherit;\n",
       "}\n",
       "\n",
       ".ManyChoiceQn {\n",
       "    padding: 10px;\n",
       "    background: var(--jq-many-choice-bg);\n",
       "    color: var(--jq-text-color);\n",
       "    border-radius: inherit;\n",
       "}\n",
       "\n",
       ".NumericQn {\n",
       "    background: var(--jq-numeric-bg);\n",
       "    border-radius: inherit;\n",
       "    color: var(--jq-text-color);\n",
       "    padding: 10px;\n",
       "}\n",
       "\n",
       ".NumericQn p {\n",
       "    color: inherit;\n",
       "}\n",
       "\n",
       ".StringQn {\n",
       "    background: var(--jq-string-bg);\n",
       "    border-radius: inherit;\n",
       "    color: var(--jq-text-color);\n",
       "    padding: 10px;\n",
       "}\n",
       "\n",
       ".StringQn p {\n",
       "    color: inherit;\n",
       "}\n",
       "\n",
       "\n",
       ".InpLabel {\n",
       "    color: var(--jq-numeric-input-label);\n",
       "    float: left;\n",
       "    font-size: 15pt;\n",
       "    line-height: 34px;\n",
       "    margin-right: 10px;\n",
       "}\n",
       "\n",
       ".incorrect {\n",
       "    color: var(--jq-incorrect-color);\n",
       "}\n",
       "\n",
       ".correct {\n",
       "    color: var(--jq-correct-color);\n",
       "}\n",
       "\n",
       ".correctButton {\n",
       "    /*\n",
       "    background: var(--jq-correct-color);\n",
       "   */\n",
       "    animation: correct-anim 0.6s ease;\n",
       "    animation-fill-mode: forwards;\n",
       "    box-shadow: inset 0 0 5px var(--jq-mc-button-inset-shadow);\n",
       "    color: var(--jq-text-color);\n",
       "    /*outline: none;*/\n",
       "}\n",
       "\n",
       ".incorrectButton {\n",
       "    animation: incorrect-anim 0.8s ease;\n",
       "    animation-fill-mode: forwards;\n",
       "    box-shadow: inset 0 0 5px var(--jq-mc-button-inset-shadow);\n",
       "    color: var(--jq-text-color);\n",
       "    /*outline: none;*/\n",
       "}\n",
       "\n",
       "@keyframes incorrect-anim {\n",
       "    100% {\n",
       "        background-color: var(--jq-incorrect-color);\n",
       "    }\n",
       "}\n",
       "\n",
       "@keyframes correct-anim {\n",
       "    100% {\n",
       "        background-color: var(--jq-correct-color);\n",
       "    }\n",
       "}\n",
       "</style>"
      ],
      "text/plain": [
       "<IPython.core.display.HTML object>"
      ]
     },
     "metadata": {},
     "output_type": "display_data"
    },
    {
     "data": {
      "application/javascript": "var questionsIKLIbuTLhrUf=[{\"question\": \"\\u05de\\u05d4 \\u05d9\\u05d3\\u05e4\\u05d9\\u05e1 \\u05e7\\u05d8\\u05e2 \\u05d4\\u05e7\\u05d5\\u05d3 \\u05d4\\u05d1\\u05d0?<br><br><code>a = np.ones((2, 1, 5))</code><br><br><code>b = np.ones((1, 4, 5))</code><br><br><code>print((a+b).shape)</code>\", \"type\": \"many_choice\", \"answers\": [{\"answer\": \"(2, 4, 5)\", \"correct\": true, \"feedback\": \"\\u05e0\\u05db\\u05d5\\u05df!\"}, {\"answer\": \"(2, 1, 5)\", \"correct\": false, \"feedback\": \"\\u05dc\\u05d0 \\u05e0\\u05db\\u05d5\\u05df\"}, {\"answer\": \"(1, 4, 5)\", \"correct\": false, \"feedback\": \"\\u05dc\\u05d0 \\u05e0\\u05db\\u05d5\\u05df\"}, {\"answer\": \"\\u05dc\\u05d0 \\u05e0\\u05d9\\u05ea\\u05df \\u05dc\\u05d1\\u05e6\\u05e2 broadcasting\", \"correct\": false, \"feedback\": \"\\u05dc\\u05d0 \\u05e0\\u05db\\u05d5\\u05df\"}]}];\n\nif (typeof Question === 'undefined') {\n// Make a random ID\nfunction makeid(length) {\n    var result = [];\n    var characters = 'ABCDEFGHIJKLMNOPQRSTUVWXYZabcdefghijklmnopqrstuvwxyz';\n    var charactersLength = characters.length;\n    for (var i = 0; i < length; i++) {\n        result.push(characters.charAt(Math.floor(Math.random() * charactersLength)));\n    }\n    return result.join('');\n}\n// Convert LaTeX delimiters and markdown links to HTML\nfunction jaxify(string) {\n    let mystring = string;\n    let count = 0, count2 = 0;\n    let loc = mystring.search(/([^\\\\]|^)(\\$)/);\n    let loc2 = mystring.search(/([^\\\\]|^)(\\$\\$)/);\n    while (loc >= 0 || loc2 >= 0) {\n        if (loc2 >= 0) {\n            mystring = mystring.replace(/([^\\\\]|^)(\\$\\$)/, count2 % 2 ? '$1\\\\]' : '$1\\\\[');\n            count2++;\n        } else {\n            mystring = mystring.replace(/([^\\\\]|^)(\\$)/, count % 2 ? '$1\\\\)' : '$1\\\\(');\n            count++;\n        }\n        loc = mystring.search(/([^\\\\]|^)(\\$)/);\n        loc2 = mystring.search(/([^\\\\]|^)(\\$\\$)/);\n    }\n    // Replace markdown links\n    mystring = mystring.replace(/<http(.*?)>/g, '<a href=\"http$1\" target=\"_blank\" class=\"Link\">http$1</a>');\n    mystring = mystring.replace(/\\[(.*?)\\]\\((.*?)\\)/g, '<a href=\"$2\" target=\"_blank\" class=\"Link\">$1</a>');\n    return mystring;\n}\n\n// Base class for question types\nclass Question {\n    static registry = {};\n    static register(type, cls) {\n        Question.registry[type] = cls;\n    }\n    static create(qa, id, index, options, rootDiv) {\n        const Cls = Question.registry[qa.type];\n        if (!Cls) {\n            console.error(`No question class registered for type \"${qa.type}\"`);\n            return;\n        }\n        const q = new Cls(qa, id, index, options, rootDiv);\n        q.render();\n    }\n\n    constructor(qa, id, index, options, rootDiv) {\n        this.qa = qa;\n        this.id = id;\n        this.index = index;\n        this.options = options;\n        this.rootDiv = rootDiv;\n        // wrapper\n        this.wrapper = document.createElement('div');\n        this.wrapper.id = `quizWrap${id}`;\n        this.wrapper.className = 'Quiz';\n        this.wrapper.dataset.qnum = index;\n        this.wrapper.style.maxWidth = `${options.maxWidth}px`;\n        rootDiv.appendChild(this.wrapper);\n        // question container\n        this.outerqDiv = document.createElement('div');\n        this.outerqDiv.id = `OuterquizQn${id}${index}`;\n        this.wrapper.appendChild(this.outerqDiv);\n        // question text\n        this.qDiv = document.createElement('div');\n        this.qDiv.id = `quizQn${id}${index}`;\n        if (qa.question) {\n            this.qDiv.innerHTML = jaxify(qa.question);\n            this.outerqDiv.appendChild(this.qDiv);\n        }\n        // code block\n        if (qa.code) {\n            const codeDiv = document.createElement('div');\n            codeDiv.id = `code${id}${index}`;\n            codeDiv.className = 'QuizCode';\n            const pre = document.createElement('pre');\n            const codeEl = document.createElement('code');\n            codeEl.innerHTML = qa.code;\n            pre.appendChild(codeEl);\n            codeDiv.appendChild(pre);\n            this.outerqDiv.appendChild(codeDiv);\n        }\n        // answer container\n        this.aDiv = document.createElement('div');\n        this.aDiv.id = `quizAns${id}${index}`;\n        this.aDiv.className = 'Answer';\n        this.wrapper.appendChild(this.aDiv);\n        // feedback container (append after answers)\n        this.fbDiv = document.createElement('div');\n        this.fbDiv.id = `fb${id}`;\n        this.fbDiv.className = 'Feedback';\n        this.fbDiv.dataset.answeredcorrect = 0;\n    }\n\n    render() {\n        throw new Error('render() not implemented');\n    }\n\n    preserveResponse(val) {\n        if (!this.options.preserveResponses) return;\n        const resp = document.getElementById(`responses${this.rootDiv.id}`);\n        if (!resp) return;\n        const arr = JSON.parse(resp.dataset.responses);\n        arr[this.index] = val;\n        resp.dataset.responses = JSON.stringify(arr);\n        printResponses(resp);\n    }\n\n    typeset(container) {\n        if (typeof MathJax !== 'undefined') {\n            const v = MathJax.version;\n            if (v[0] === '2') {\n                MathJax.Hub.Queue(['Typeset', MathJax.Hub]);\n            } else {\n                MathJax.typeset([container]);\n            }\n        }\n    }\n}\n\n// Choose a random subset of an array. Can also be used to shuffle the array\nfunction getRandomSubarray(arr, size) {\n    var shuffled = arr.slice(0), i = arr.length, temp, index;\n    while (i--) {\n        index = Math.floor((i + 1) * Math.random());\n        temp = shuffled[index];\n        shuffled[index] = shuffled[i];\n        shuffled[i] = temp;\n    }\n    return shuffled.slice(0, size);\n}\n\nfunction printResponses(responsesContainer) {\n    var responses=JSON.parse(responsesContainer.dataset.responses);\n    var stringResponses='<B>IMPORTANT!</B>To preserve this answer sequence for submission, when you have finalized your answers: <ol> <li> Copy the text in this cell below \"Answer String\"</li> <li> Double click on the cell directly below the Answer String, labeled \"Replace Me\"</li> <li> Select the whole \"Replace Me\" text</li> <li> Paste in your answer string and press shift-Enter.</li><li>Save the notebook using the save icon or File->Save Notebook menu item</li></ul><br><br><br><b>Answer String:</b><br> ';\n    console.log(responses);\n    responses.forEach((response, index) => {\n        if (response) {\n            console.log(index + ': ' + response);\n            stringResponses+= index + ': ' + response +\"<BR>\";\n        }\n    });\n    responsesContainer.innerHTML=stringResponses;\n}\n/* Callback function to determine whether a selected multiple-choice\n   button corresponded to a correct answer and to provide feedback\n   based on the answer */\nfunction check_mc() {\n    var id = this.id.split('-')[0];\n    //var response = this.id.split('-')[1];\n    //console.log(response);\n    //console.log(\"In check_mc(), id=\"+id);\n    //console.log(event.srcElement.id)           \n    //console.log(event.srcElement.dataset.correct)   \n    //console.log(event.srcElement.dataset.feedback)\n\n    var label = event.srcElement;\n    //console.log(label, label.nodeName);\n    var depth = 0;\n    while ((label.nodeName != \"LABEL\") && (depth < 20)) {\n        label = label.parentElement;\n        console.log(depth, label);\n        depth++;\n    }\n\n\n\n    var answers = label.parentElement.children;\n    //console.log(answers);\n\n    // Split behavior based on multiple choice vs many choice:\n    var fb = document.getElementById(\"fb\" + id);\n\n\n\n    /* Multiple choice (1 answer). Allow for 0 correct\n       answers as an edge case */\n    if (fb.dataset.numcorrect <= 1) {\n        // What follows is for the saved responses stuff\n        var outerContainer = fb.parentElement.parentElement;\n        var responsesContainer = document.getElementById(\"responses\" + outerContainer.id);\n        if (responsesContainer) {\n            //console.log(responsesContainer);\n            var response = label.firstChild.innerText;\n            if (label.querySelector(\".QuizCode\")){\n                response+= label.querySelector(\".QuizCode\").firstChild.innerText;\n            }\n            console.log(response);\n            //console.log(document.getElementById(\"quizWrap\"+id));\n            var qnum = document.getElementById(\"quizWrap\"+id).dataset.qnum;\n            console.log(\"Question \" + qnum);\n            //console.log(id, \", got numcorrect=\",fb.dataset.numcorrect);\n            var responses=JSON.parse(responsesContainer.dataset.responses);\n            console.log(responses);\n            responses[qnum]= response;\n            responsesContainer.setAttribute('data-responses', JSON.stringify(responses));\n            printResponses(responsesContainer);\n        }\n        // End code to preserve responses\n\n        for (var i = 0; i < answers.length; i++) {\n            var child = answers[i];\n            //console.log(child);\n            child.className = \"MCButton\";\n        }\n\n\n\n        if (label.dataset.correct == \"true\") {\n            // console.log(\"Correct action\");\n            if (\"feedback\" in label.dataset) {\n                fb.innerHTML = jaxify(label.dataset.feedback);\n            } else {\n                fb.innerHTML = \"Correct!\";\n            }\n            label.classList.add(\"correctButton\");\n\n            fb.className = \"Feedback\";\n            fb.classList.add(\"correct\");\n\n        } else {\n            if (\"feedback\" in label.dataset) {\n                fb.innerHTML = jaxify(label.dataset.feedback);\n            } else {\n                fb.innerHTML = \"Incorrect -- try again.\";\n            }\n            //console.log(\"Error action\");\n            label.classList.add(\"incorrectButton\");\n            fb.className = \"Feedback\";\n            fb.classList.add(\"incorrect\");\n        }\n    }\n    else { /* Many choice (more than 1 correct answer) */\n        var reset = false;\n        var feedback;\n         if (label.dataset.correct == \"true\") {\n            if (\"feedback\" in label.dataset) {\n                feedback = jaxify(label.dataset.feedback);\n            } else {\n                feedback = \"Correct!\";\n            }\n            if (label.dataset.answered <= 0) {\n                if (fb.dataset.answeredcorrect < 0) {\n                    fb.dataset.answeredcorrect = 1;\n                    reset = true;\n                } else {\n                    fb.dataset.answeredcorrect++;\n                }\n                if (reset) {\n                    for (var i = 0; i < answers.length; i++) {\n                        var child = answers[i];\n                        child.className = \"MCButton\";\n                        child.dataset.answered = 0;\n                    }\n                }\n                label.classList.add(\"correctButton\");\n                label.dataset.answered = 1;\n                fb.className = \"Feedback\";\n                fb.classList.add(\"correct\");\n\n            }\n        } else {\n            if (\"feedback\" in label.dataset) {\n                feedback = jaxify(label.dataset.feedback);\n            } else {\n                feedback = \"Incorrect -- try again.\";\n            }\n            if (fb.dataset.answeredcorrect > 0) {\n                fb.dataset.answeredcorrect = -1;\n                reset = true;\n            } else {\n                fb.dataset.answeredcorrect--;\n            }\n\n            if (reset) {\n                for (var i = 0; i < answers.length; i++) {\n                    var child = answers[i];\n                    child.className = \"MCButton\";\n                    child.dataset.answered = 0;\n                }\n            }\n            label.classList.add(\"incorrectButton\");\n            fb.className = \"Feedback\";\n            fb.classList.add(\"incorrect\");\n        }\n        // What follows is for the saved responses stuff\n        var outerContainer = fb.parentElement.parentElement;\n        var responsesContainer = document.getElementById(\"responses\" + outerContainer.id);\n        if (responsesContainer) {\n            //console.log(responsesContainer);\n            var response = label.firstChild.innerText;\n            if (label.querySelector(\".QuizCode\")){\n                response+= label.querySelector(\".QuizCode\").firstChild.innerText;\n            }\n            console.log(response);\n            //console.log(document.getElementById(\"quizWrap\"+id));\n            var qnum = document.getElementById(\"quizWrap\"+id).dataset.qnum;\n            console.log(\"Question \" + qnum);\n            //console.log(id, \", got numcorrect=\",fb.dataset.numcorrect);\n            var responses=JSON.parse(responsesContainer.dataset.responses);\n            if (label.dataset.correct == \"true\") {\n                if (typeof(responses[qnum]) == \"object\"){\n                    if (!responses[qnum].includes(response))\n                        responses[qnum].push(response);\n                } else{\n                    responses[qnum]= [ response ];\n                }\n            } else {\n                responses[qnum]= response;\n            }\n            console.log(responses);\n            responsesContainer.setAttribute('data-responses', JSON.stringify(responses));\n            printResponses(responsesContainer);\n        }\n        // End save responses stuff\n\n\n\n        var numcorrect = fb.dataset.numcorrect;\n        var answeredcorrect = fb.dataset.answeredcorrect;\n        if (answeredcorrect >= 0) {\n            fb.innerHTML = feedback + \" [\" + answeredcorrect + \"/\" + numcorrect + \"]\";\n        } else {\n            fb.innerHTML = feedback + \" [\" + 0 + \"/\" + numcorrect + \"]\";\n        }\n\n\n    }\n\n    if (typeof MathJax != 'undefined') {\n        var version = MathJax.version;\n        console.log('MathJax version', version);\n        if (version[0] == \"2\") {\n            MathJax.Hub.Queue([\"Typeset\", MathJax.Hub]);\n        } else if (version[0] == \"3\") {\n            MathJax.typeset([fb]);\n        }\n    } else {\n        console.log('MathJax not detected');\n    }\n\n}\n\n\n/* Function to produce the HTML buttons for a multiple choice/\n   many choice question  and to update the CSS tags based on\n   the question type */\nfunction make_mc(qa, shuffle_answers, outerqDiv, qDiv, aDiv, id) {\n\n    var shuffled;\n    if (shuffle_answers == true) {\n        //console.log(shuffle_answers+\" read as true\");\n        shuffled = getRandomSubarray(qa.answers, qa.answers.length);\n    } else {\n        //console.log(shuffle_answers+\" read as false\");\n        shuffled = qa.answers;\n    }\n\n\n    var num_correct = 0;\n\n    shuffled.forEach((item, index, ans_array) => {\n        //console.log(answer);\n\n        // Make input element\n        var inp = document.createElement(\"input\");\n        inp.type = \"radio\";\n        inp.id = \"quizo\" + id + index;\n        inp.style = \"display:none;\";\n        aDiv.append(inp);\n\n        //Make label for input element\n        var lab = document.createElement(\"label\");\n        lab.className = \"MCButton\";\n        lab.id = id + '-' + index;\n        lab.onclick = check_mc;\n        var aSpan = document.createElement('span');\n        aSpan.classsName = \"\";\n        //qDiv.id=\"quizQn\"+id+index;\n        if (\"answer\" in item) {\n            aSpan.innerHTML = jaxify(item.answer);\n            //aSpan.innerHTML=item.answer;\n        }\n        lab.append(aSpan);\n\n        // Create div for code inside question\n        var codeSpan;\n        if (\"code\" in item) {\n            codeSpan = document.createElement('span');\n            codeSpan.id = \"code\" + id + index;\n            codeSpan.className = \"QuizCode\";\n            var codePre = document.createElement('pre');\n            codeSpan.append(codePre);\n            var codeCode = document.createElement('code');\n            codePre.append(codeCode);\n            codeCode.innerHTML = item.code;\n            lab.append(codeSpan);\n            //console.log(codeSpan);\n        }\n\n        //lab.textContent=item.answer;\n\n        // Set the data attributes for the answer\n        lab.setAttribute('data-correct', item.correct);\n        if (item.correct) {\n            num_correct++;\n        }\n        if (\"feedback\" in item) {\n            lab.setAttribute('data-feedback', item.feedback);\n        }\n        lab.setAttribute('data-answered', 0);\n\n        aDiv.append(lab);\n\n    });\n\n    if (num_correct > 1) {\n        outerqDiv.className = \"ManyChoiceQn\";\n    } else {\n        outerqDiv.className = \"MultipleChoiceQn\";\n    }\n\n    return num_correct;\n\n}\n// Object-oriented wrapper for MC/MANY choice\nclass MCQuestion extends Question {\n    constructor(qa, id, idx, opts, rootDiv) { super(qa, id, idx, opts, rootDiv); }\n    render() {\n        //console.log(\"options.shuffleAnswers \" + this.options.shuffleAnswers);\n        const numCorrect = make_mc(\n            this.qa,\n            this.options.shuffleAnswers,\n            this.outerqDiv,\n            this.qDiv,\n            this.aDiv,\n            this.id\n        );\n        if ('answer_cols' in this.qa) {\n            this.aDiv.style.gridTemplateColumns =\n                'repeat(' + this.qa.answer_cols + ', 1fr)';\n        }\n        this.fbDiv.dataset.numcorrect = numCorrect;\n        this.wrapper.appendChild(this.fbDiv);\n    }\n}\nQuestion.register('multiple_choice', MCQuestion);\nQuestion.register('many_choice', MCQuestion);\nfunction check_numeric(ths, event) {\n\n    if (event.keyCode === 13) {\n        ths.blur();\n\n        var id = ths.id.split('-')[0];\n\n        var submission = ths.value;\n        if (submission.indexOf('/') != -1) {\n            var sub_parts = submission.split('/');\n            //console.log(sub_parts);\n            submission = sub_parts[0] / sub_parts[1];\n        }\n        //console.log(\"Reader entered\", submission);\n\n        if (\"precision\" in ths.dataset) {\n            var precision = ths.dataset.precision;\n            submission = Number(Number(submission).toPrecision(precision));\n        }\n\n\n        //console.log(\"In check_numeric(), id=\"+id);\n        //console.log(event.srcElement.id)           \n        //console.log(event.srcElement.dataset.feedback)\n\n        var fb = document.getElementById(\"fb\" + id);\n        fb.style.display = \"none\";\n        fb.innerHTML = \"Incorrect -- try again.\";\n\n        var answers = JSON.parse(ths.dataset.answers);\n        //console.log(answers);\n\n        var defaultFB = \"Incorrect. Try again.\";\n        var correct;\n        var done = false;\n        answers.every(answer => {\n            //console.log(answer.type);\n\n            correct = false;\n            // if (answer.type==\"value\"){\n            if ('value' in answer) {\n                var value;\n                if (\"precision\" in ths.dataset) {\n                    value = answer.value.toPrecision(ths.dataset.precision);\n                } else {\n                    value = answer.value;\n                }\n                if (submission == value) {\n                    if (\"feedback\" in answer) {\n                        fb.innerHTML = jaxify(answer.feedback);\n                    } else {\n                        fb.innerHTML = jaxify(\"Correct\");\n                    }\n                    correct = answer.correct;\n                    //console.log(answer.correct);\n                    done = true;\n                }\n\n                // } else if (answer.type==\"range\") {\n            } else if ('range' in answer) {\n                console.log(answer.range);\n                console.log(submission, submission >=answer.range[0], submission < answer.range[1])\n                if ((submission >= answer.range[0]) && (submission < answer.range[1])) {\n                    fb.innerHTML = jaxify(answer.feedback);\n                    correct = answer.correct;\n                    console.log(answer.correct);\n                    done = true;\n                }\n            } else if (answer.type == \"default\") {\n                if (\"feedback\" in answer) {\n                    defaultFB = answer.feedback;\n                } \n            }\n            if (done) {\n                return false; // Break out of loop if this has been marked correct\n            } else {\n                return true; // Keep looking for case that includes this as a correct answer\n            }\n        });\n        console.log(\"done:\", done);\n\n        if ((!done) && (defaultFB != \"\")) {\n            fb.innerHTML = jaxify(defaultFB);\n            //console.log(\"Default feedback\", defaultFB);\n        }\n\n        fb.style.display = \"block\";\n        if (correct) {\n            ths.className = \"Input-text\";\n            ths.classList.add(\"correctButton\");\n            fb.className = \"Feedback\";\n            fb.classList.add(\"correct\");\n        } else {\n            ths.className = \"Input-text\";\n            ths.classList.add(\"incorrectButton\");\n            fb.className = \"Feedback\";\n            fb.classList.add(\"incorrect\");\n        }\n\n        // What follows is for the saved responses stuff\n        var outerContainer = fb.parentElement.parentElement;\n        var responsesContainer = document.getElementById(\"responses\" + outerContainer.id);\n        if (responsesContainer) {\n            console.log(submission);\n            var qnum = document.getElementById(\"quizWrap\"+id).dataset.qnum;\n            //console.log(\"Question \" + qnum);\n            //console.log(id, \", got numcorrect=\",fb.dataset.numcorrect);\n            var responses=JSON.parse(responsesContainer.dataset.responses);\n            console.log(responses);\n            if (submission == ths.value){\n                responses[qnum]= submission;\n            } else {\n                responses[qnum]= ths.value + \"(\" + submission +\")\";\n            }\n            responsesContainer.setAttribute('data-responses', JSON.stringify(responses));\n            printResponses(responsesContainer);\n        }\n        // End code to preserve responses\n\n        if (typeof MathJax != 'undefined') {\n            var version = MathJax.version;\n            console.log('MathJax version', version);\n            if (version[0] == \"2\") {\n                MathJax.Hub.Queue([\"Typeset\", MathJax.Hub]);\n            } else if (version[0] == \"3\") {\n                MathJax.typeset([fb]);\n            }\n        } else {\n            console.log('MathJax not detected');\n        }\n        // After correct answer, if next JupyterQuiz question exists and has a text input, scroll by current question height\n        if (correct) {\n            // find the current question wrapper\n            var wrapper = ths.closest('.Quiz');\n            if (wrapper) {\n                var nextWrapper = wrapper.nextElementSibling;\n                if (nextWrapper && nextWrapper.classList.contains('Quiz')) {\n                    var nextInput = nextWrapper.querySelector('input.Input-text');\n                    if (nextInput) {\n                        var height = wrapper.getBoundingClientRect().height;\n                        console.log(height);\n                        nextInput.focus();\n                    }\n                }\n            }\n        }\n        return false;\n    }\n\n}\n// Object-oriented wrapper for numeric questions\nclass NumericQuestion extends Question {\n    constructor(qa, id, idx, opts, rootDiv) {\n        super(qa, id, idx, opts, rootDiv);\n    }\n    render() {\n        make_numeric(this.qa, this.outerqDiv, this.qDiv, this.aDiv, this.id);\n        this.wrapper.appendChild(this.fbDiv);\n    }\n}\nQuestion.register('numeric', NumericQuestion);\n\nfunction isValid(el, charC) {\n    //console.log(\"Input char: \", charC);\n    if (charC == 46) {\n        if (el.value.indexOf('.') === -1) {\n            return true;\n        } else if (el.value.indexOf('/') != -1) {\n            var parts = el.value.split('/');\n            if (parts[1].indexOf('.') === -1) {\n                return true;\n            }\n        }\n        else {\n            return false;\n        }\n    } else if (charC == 47) {\n        if (el.value.indexOf('/') === -1) {\n            if ((el.value != \"\") && (el.value != \".\")) {\n                return true;\n            } else {\n                return false;\n            }\n        } else {\n            return false;\n        }\n    } else if (charC == 45) {\n        var edex = el.value.indexOf('e');\n        if (edex == -1) {\n            edex = el.value.indexOf('E');\n        }\n\n        if (el.value == \"\") {\n            return true;\n        } else if (edex == (el.value.length - 1)) { // If just after e or E\n            return true;\n        } else {\n            return false;\n        }\n    } else if (charC == 101) { // \"e\"\n        if ((el.value.indexOf('e') === -1) && (el.value.indexOf('E') === -1) && (el.value.indexOf('/') == -1)) {\n            // Prev symbol must be digit or decimal point:\n            if (el.value.slice(-1).search(/\\d/) >= 0) {\n                return true;\n            } else if (el.value.slice(-1).search(/\\./) >= 0) {\n                return true;\n            } else {\n                return false;\n            }\n        } else {\n            return false;\n        }\n    } else {\n        if (charC > 31 && (charC < 48 || charC > 57))\n            return false;\n    }\n    return true;\n}\n\nfunction numeric_keypress(evnt) {\n    var charC = (evnt.which) ? evnt.which : evnt.keyCode;\n\n    if (charC == 13) {\n        check_numeric(this, evnt);\n    } else {\n        return isValid(this, charC);\n    }\n}\n\n\n\n\n\nfunction make_numeric(qa, outerqDiv, qDiv, aDiv, id) {\n\n\n\n    //console.log(answer);\n\n\n    outerqDiv.className = \"NumericQn\";\n    aDiv.style.display = 'block';\n\n    var lab = document.createElement(\"label\");\n    lab.className = \"InpLabel\";\n    lab.innerHTML = \"Type numeric answer here:\";\n    aDiv.append(lab);\n\n    var inp = document.createElement(\"input\");\n    inp.type = \"text\";\n    //inp.id=\"input-\"+id;\n    inp.id = id + \"-0\";\n    inp.className = \"Input-text\";\n    inp.setAttribute('data-answers', JSON.stringify(qa.answers));\n    if (\"precision\" in qa) {\n        inp.setAttribute('data-precision', qa.precision);\n    }\n    aDiv.append(inp);\n    //console.log(inp);\n\n    //inp.addEventListener(\"keypress\", check_numeric);\n    //inp.addEventListener(\"keypress\", numeric_keypress);\n    /*\n    inp.addEventListener(\"keypress\", function(event) {\n        return numeric_keypress(this, event);\n    }\n                        );\n                        */\n    //inp.onkeypress=\"return numeric_keypress(this, event)\";\n    inp.onkeypress = numeric_keypress;\n    inp.onpaste = event => false;\n\n    inp.addEventListener(\"focus\", function (event) {\n        this.value = \"\";\n        return false;\n    }\n    );\n\n\n}\n// Override show_questions to use object-oriented Question API\nfunction show_questions(json, container) {\n    // Accept container element or element ID\n    if (typeof container === 'string') {\n        container = document.getElementById(container);\n    }\n    if (!container) {\n        console.error('show_questions: invalid container', container);\n        return;\n    }\n\n    const shuffleQuestions = container.dataset.shufflequestions === 'True';\n    const shuffleAnswers = container.dataset.shuffleanswers === 'True';\n    const preserveResponses = container.dataset.preserveresponses === 'true';\n    const maxWidth = parseInt(container.dataset.maxwidth, 10) || 0;\n    let numQuestions = parseInt(container.dataset.numquestions, 10) || json.length;\n    if (numQuestions > json.length) numQuestions = json.length;\n\n    let questions = json;\n    if (shuffleQuestions || numQuestions < json.length) {\n        questions = getRandomSubarray(json, numQuestions);\n    }\n\n    questions.forEach((qa, index) => {\n        const id = makeid(8);\n        const options = {\n            shuffleAnswers: shuffleAnswers,\n            preserveResponses: preserveResponses,\n            maxWidth: maxWidth\n        };\n        Question.create(qa, id, index, options, container);\n    });\n\n    if (preserveResponses) {\n        const respDiv = document.createElement('div');\n        respDiv.id = 'responses' + container.id;\n        respDiv.className = 'JCResponses';\n        respDiv.dataset.responses = JSON.stringify([]);\n        respDiv.innerHTML = '<b>Select your answers and then follow the directions that will appear here.</b>';\n        container.appendChild(respDiv);\n    }\n\n    // Trigger MathJax typesetting if available\n    if (typeof MathJax != 'undefined') {\n        console.log(\"MathJax version\", MathJax.version);\n        var version = MathJax.version;\n        setTimeout(function(){\n            var version = MathJax.version;\n            console.log('After sleep, MathJax version', version);\n            if (version[0] == \"2\") {\n                MathJax.Hub.Queue([\"Typeset\", MathJax.Hub]);\n            } else if (version[0] == \"3\") {\n                if (MathJax.hasOwnProperty('typeset') ) {\n                    MathJax.typeset([container]);\n                } else {\n                    console.log('WARNING: Trying to force load MathJax 3');\n                    window.MathJax = {\n                        tex: {\n                            inlineMath: [['$', '$'], ['\\\\(', '\\\\)']]\n                        },\n                        svg: {\n                            fontCache: 'global'\n                        }\n                    };\n\n                    (function () {\n                        var script = document.createElement('script');\n                        script.src = 'https://cdn.jsdelivr.net/npm/mathjax@3/es5/tex-svg.js';\n                        script.async = true;\n                        document.head.appendChild(script);\n                    })();\n                }\n            }\n        }, 500);\nif (typeof version == 'undefined') {\n        } else\n        {\n            if (version[0] == \"2\") {\n                MathJax.Hub.Queue([\"Typeset\", MathJax.Hub]);\n            } else if (version[0] == \"3\") {\n                if (MathJax.hasOwnProperty('typeset') ) {\n                    MathJax.typeset([container]);\n                } else {\n                    console.log('WARNING: Trying to force load MathJax 3');\n                    window.MathJax = {\n                        tex: {\n                            inlineMath: [['$', '$'], ['\\\\(', '\\\\)']]\n                        },\n                        svg: {\n                            fontCache: 'global'\n                        }\n                    };\n\n                    (function () {\n                        var script = document.createElement('script');\n                        script.src = 'https://cdn.jsdelivr.net/npm/mathjax@3/es5/tex-svg.js';\n                        script.async = true;\n                        document.head.appendChild(script);\n                    })();\n                }\n            } else {\n                console.log(\"MathJax not found\");\n            }\n        }\n    }\n    // if (typeof MathJax !== 'undefined') {\n    //     const v = MathJax.version;\n    //     if (v[0] === '2') {\n    //         MathJax.Hub.Queue(['Typeset', MathJax.Hub]);\n    //     } else if (v[0] === '3') {\n    //         MathJax.typeset([container]);\n    //     }\n    // }\n\n    // Prevent link clicks from bubbling up\n    Array.from(container.getElementsByClassName('Link')).forEach(link => {\n        link.addEventListener('click', e => e.stopPropagation());\n    });\n}\nfunction levenshteinDistance(a, b) {\n    if (a.length === 0) return b.length;\n    if (b.length === 0) return a.length;\n\n    const matrix = Array(b.length + 1).fill(null).map(() => Array(a.length + 1).fill(null));\n\n    for (let i = 0; i <= a.length; i++) {\n        matrix[0][i] = i;\n    }\n\n    for (let j = 0; j <= b.length; j++) {\n        matrix[j][0] = j;\n    }\n\n    for (let j = 1; j <= b.length; j++) {\n        for (let i = 1; i <= a.length; i++) {\n            const cost = a[i - 1] === b[j - 1] ? 0 : 1;\n            matrix[j][i] = Math.min(\n                matrix[j - 1][i] + 1, // Deletion\n                matrix[j][i - 1] + 1, // Insertion\n                matrix[j - 1][i - 1] + cost // Substitution\n            );\n        }\n    }\n    return matrix[b.length][a.length];\n}\n// Object-oriented wrapper for string input questions\nclass StringQuestion extends Question {\n    constructor(qa, id, idx, opts, rootDiv) {\n        super(qa, id, idx, opts, rootDiv);\n    }\n    render() {\n        make_string(this.qa, this.outerqDiv, this.qDiv, this.aDiv, this.id);\n        this.wrapper.appendChild(this.fbDiv);\n    }\n}\nQuestion.register('string', StringQuestion);\n\nfunction check_string(ths, event) {\n    if (event.keyCode === 13) {\n        ths.blur();\n\n        var id = ths.id.split('-')[0];\n        var submission = ths.value.trim();\n        var fb = document.getElementById(\"fb\" + id);\n        fb.style.display = \"none\";\n        fb.innerHTML = \"Incorrect -- try again.\";\n\n        var answers = JSON.parse(ths.dataset.answers);\n        var defaultFB = \"Incorrect. Try again.\";\n        var correct;\n        var done = false;\n\n        // Handle default answer pattern: filter out and capture default feedback\n        var filteredAnswers = [];\n        answers.forEach(answer => {\n            if (answer.type === \"default\") {\n                defaultFB = answer.feedback;\n            } else {\n                filteredAnswers.push(answer);\n            }\n        });\n        answers = filteredAnswers;\n\n        answers.every(answer => {\n            correct = false;\n\n            let match = false;\n            if (answer.match_case) {\n                match = submission === answer.answer;\n            } else {\n                match = submission.toLowerCase() === answer.answer.toLowerCase();\n            }\n            console.log(submission);\n            console.log(answer.answer);\n            console.log(match);\n\n            if (match) {\n                if (\"feedback\" in answer) {\n                    fb.innerHTML = jaxify(answer.feedback);\n                } else {\n                    fb.innerHTML = jaxify(\"Correct\");\n                }\n                correct = answer.correct;\n                done = true;\n            } else if (answer.fuzzy_threshold) {\n                var max_length = Math.max(submission.length, answer.answer.length);\n                var ratio;\n                if (answer.match_case) {\n                    ratio = 1- (levenshteinDistance(submission, answer.answer) / max_length);\n                } else {\n                    ratio = 1- (levenshteinDistance(submission.toLowerCase(),\n                                                    answer.answer.toLowerCase()) / max_length);\n                }\n                if (ratio >= answer.fuzzy_threshold) {\n                    if (\"feedback\" in answer) {\n                        fb.innerHTML = jaxify(\"(Fuzzy) \" + answer.feedback);\n                    } else {\n                        fb.innerHTML = jaxify(\"Correct\");\n                    }\n                    correct = answer.correct;\n                    done = true;\n                }\n\n            }\n\n            if (done) {\n                return false;\n            } else {\n                return true;\n            }\n        });\n\n        if ((!done) && (defaultFB != \"\")) {\n            fb.innerHTML = jaxify(defaultFB);\n        }\n\n        fb.style.display = \"block\";\n        if (correct) {\n            ths.className = \"Input-text\";\n            ths.classList.add(\"correctButton\");\n            fb.className = \"Feedback\";\n            fb.classList.add(\"correct\");\n        } else {\n            ths.className = \"Input-text\";\n            ths.classList.add(\"incorrectButton\");\n            fb.className = \"Feedback\";\n            fb.classList.add(\"incorrect\");\n        }\n\n        var outerContainer = fb.parentElement.parentElement;\n        var responsesContainer = document.getElementById(\"responses\" + outerContainer.id);\n        if (responsesContainer) {\n            var qnum = document.getElementById(\"quizWrap\" + id).dataset.qnum;\n            var responses = JSON.parse(responsesContainer.dataset.responses);\n            responses[qnum] = submission;\n            responsesContainer.setAttribute('data-responses', JSON.stringify(responses));\n            printResponses(responsesContainer);\n        }\n\n        if (typeof MathJax != 'undefined') {\n            var version = MathJax.version;\n            if (version[0] == \"2\") {\n                MathJax.Hub.Queue([\"Typeset\", MathJax.Hub]);\n            } else if (version[0] == \"3\") {\n                MathJax.typeset([fb]);\n            }\n        } else {\n            console.log('MathJax not detected');\n        }\n        // After correct answer, if next JupyterQuiz question exists and has a text input, scroll by current question height\n        if (correct) {\n            var wrapper = ths.closest('.Quiz');\n            if (wrapper) {\n                var nextWrapper = wrapper.nextElementSibling;\n                if (nextWrapper && nextWrapper.classList.contains('Quiz')) {\n                    var nextInput = nextWrapper.querySelector('input.Input-text');\n                    if (nextInput) {\n                        var height = wrapper.getBoundingClientRect().height;\n                        nextInput.focus();\n                    }\n                }\n            }\n        }\n        return false;\n    }\n}\n\nfunction string_keypress(evnt) {\n    var charC = (evnt.which) ? evnt.which : evnt.keyCode;\n\n    if (charC == 13) {\n        check_string(this, evnt);\n    } \n}\n\n\nfunction make_string(qa, outerqDiv, qDiv, aDiv, id) {\n    outerqDiv.className = \"StringQn\";\n    aDiv.style.display = 'block';\n\n    var lab = document.createElement(\"label\");\n    lab.className = \"InpLabel\";\n    lab.innerHTML = \"Type your answer here:\";\n    aDiv.append(lab);\n\n    var inp = document.createElement(\"input\");\n    inp.type = \"text\";\n    inp.id = id + \"-0\";\n    inp.className = \"Input-text\";\n    inp.setAttribute('data-answers', JSON.stringify(qa.answers));\n    // Apply optional input width (approx. number of characters, in em units)\n    if (qa.input_width != null) {\n        inp.style['min-width'] = qa.input_width + 'em';\n    }\n    aDiv.append(inp);\n\n    inp.onkeypress = string_keypress;\n    inp.onpaste = event => false;\n\n    inp.addEventListener(\"focus\", function (event) {\n        this.value = \"\";\n        return false;\n    });\n}\n/*\n * Handle asynchrony issues when re-running quizzes in Jupyter notebooks.\n * Ensures show_questions is called after the container div is in the DOM.\n */\nfunction try_show() {\n  if (document.getElementById(\"IKLIbuTLhrUf\")) {\n    show_questions(questionsIKLIbuTLhrUf, IKLIbuTLhrUf);\n  } else {\n    setTimeout(try_show, 200);\n  }\n};\n// Invoke immediately\n{\n  try_show();\n}\n}\n",
      "text/plain": [
       "<IPython.core.display.Javascript object>"
      ]
     },
     "metadata": {},
     "output_type": "display_data"
    }
   ],
   "source": [
    "import json\n",
    "from jupyterquiz import display_quiz\n",
    "\n",
    "example = \\\n",
    "'''\n",
    "[{\n",
    "  \"question\": \"מה ידפיס קטע הקוד הבא?<br><br>a = np.ones((2, 1, 5))<br><br>b = np.ones((1, 4, 5))<br><br>print((a+b).shape)\",\n",
    "  \"type\": \"many_choice\",\n",
    "  \"answers\": [\n",
    "    {\"answer\": \"(2, 4, 5)\", \"correct\": true,  \"feedback\": \"נכון!\"},\n",
    "    {\"answer\": \"(2, 1, 5)\", \"correct\": false, \"feedback\": \"לא נכון\"},\n",
    "    {\"answer\": \"(1, 4, 5)\", \"correct\": false, \"feedback\": \"לא נכון\"},\n",
    "    {\"answer\": \"לא ניתן לבצע broadcasting\", \"correct\": false, \"feedback\": \"לא נכון\"}\n",
    "  ]\n",
    "}]\n",
    "'''\n",
    "myquiz = json.loads(example)\n",
    "display_quiz(myquiz)\n"
   ]
  }
 ],
 "metadata": {
  "celltoolbar": "Slideshow",
  "kernelspec": {
   "display_name": "Python 3",
   "language": "python",
   "name": "python3"
  },
  "language_info": {
   "codemirror_mode": {
    "name": "ipython",
    "version": 3
   },
   "file_extension": ".py",
   "mimetype": "text/x-python",
   "name": "python",
   "nbconvert_exporter": "python",
   "pygments_lexer": "ipython3",
   "version": "3.12.1"
  }
 },
 "nbformat": 4,
 "nbformat_minor": 5
}
